{
 "cells": [
  {
   "cell_type": "markdown",
   "metadata": {},
   "source": [
    "# Convolutional Net for Sentiment Classification"
   ]
  },
  {
   "cell_type": "markdown",
   "metadata": {},
   "source": [
    "This Conv Net performs sentiment analysis on the IMDB review dataset."
   ]
  },
  {
   "cell_type": "code",
   "execution_count": null,
   "metadata": {},
   "outputs": [],
   "source": [
    "import os\n",
    "import keras\n",
    "from keras.datasets import imdb\n",
    "from keras.preprocessing.sequence import pad_sequences\n",
    "from keras.models import Sequential\n",
    "from keras.layers import Dense, Flatten, Dropout, Activation\n",
    "from keras.layers import Layer, Embedding, Conv1D, SpatialDropout1D, GlobalMaxPool1D\n",
    "from keras.callbacks import ModelCheckpoint, TensorBoard, EarlyStopping\n",
    "\n",
    "from keras import backend as K\n",
    "from keras.utils.generic_utils import get_custom_objects\n",
    "\n",
    "import sklearn.metrics\n",
    "from sklearn.metrics import roc_auc_score\n",
    "\n",
    "import pandas as pd\n",
    "\n",
    "import numpy as np\n",
    "\n",
    "import matplotlib.pyplot as plt\n",
    "%matplotlib inline"
   ]
  },
  {
   "cell_type": "markdown",
   "metadata": {},
   "source": [
    "#### Set Hyperparameters"
   ]
  },
  {
   "cell_type": "code",
   "execution_count": null,
   "metadata": {},
   "outputs": [],
   "source": [
    "output_dir = 'model_output/conv'\n",
    "\n",
    "epochs = 3\n",
    "batch_size = 64\n",
    "patience = 10\n",
    "val_split = .3\n",
    "\n",
    "n_dim = 192\n",
    "n_unique_words = 8000\n",
    "max_review_length = 200\n",
    "pad_type = trunc_type = 'pre'\n",
    "\n",
    "n_conv = 128\n",
    "k_conv = 3\n",
    "\n",
    "n_dense = 256\n",
    "dropout = 0.5"
   ]
  },
  {
   "cell_type": "markdown",
   "metadata": {},
   "source": [
    "#### Load Data"
   ]
  },
  {
   "cell_type": "code",
   "execution_count": null,
   "metadata": {},
   "outputs": [],
   "source": [
    "(X_train, y_train), (X_valid, y_valid) = imdb.load_data(num_words=n_unique_words)"
   ]
  },
  {
   "cell_type": "code",
   "execution_count": null,
   "metadata": {},
   "outputs": [],
   "source": [
    "X_valid[0]"
   ]
  },
  {
   "cell_type": "markdown",
   "metadata": {},
   "source": [
    "#### Preprocess Data"
   ]
  },
  {
   "cell_type": "code",
   "execution_count": null,
   "metadata": {},
   "outputs": [],
   "source": [
    "X_train = pad_sequences(X_train, maxlen=max_review_length, padding=pad_type, truncating=trunc_type, value=0)\n",
    "X_valid = pad_sequences(X_valid, maxlen=max_review_length, padding=pad_type, truncating=trunc_type, value=0)"
   ]
  },
  {
   "cell_type": "markdown",
   "metadata": {},
   "source": [
    "#### SineReLU Activation Function"
   ]
  },
  {
   "cell_type": "code",
   "execution_count": null,
   "metadata": {},
   "outputs": [],
   "source": [
    "class SineReLU(Layer):\n",
    "\n",
    "    def __init__(self, epsilon=0.0055, **kwargs):\n",
    "        super(SineReLU, self).__init__(**kwargs)\n",
    "        self.supports_masking = True\n",
    "        self.epsilon = K.cast_to_floatx(epsilon)\n",
    "\n",
    "    def build(self, input_shape):\n",
    "        self.scale = np.exp(np.sqrt(np.pi))\n",
    "        super(SineReLU, self).build(input_shape)\n",
    "\n",
    "    def call(self, Z):\n",
    "#         m = self.epsilon * (K.sigmoid(K.sin(Z)) - K.sigmoid(K.cos(Z)) * self.scale)\n",
    "        m = self.epsilon * (K.sin(Z) - K.cos(Z))\n",
    "        A = K.maximum(m, Z)\n",
    "        return A\n",
    "\n",
    "    def get_config(self):\n",
    "        config = {'epsilon': float(self.epsilon)}\n",
    "        base_config = super(SineReLU, self).get_config()\n",
    "        return dict(list(base_config.items()) + list(config.items()))\n",
    "\n",
    "    def compute_output_shape(self, input_shape):\n",
    "        return input_shape\n",
    "\n",
    "get_custom_objects().update({'SineReLU': SineReLU})"
   ]
  },
  {
   "cell_type": "markdown",
   "metadata": {},
   "source": [
    "#### Design Conv Net Architecture"
   ]
  },
  {
   "cell_type": "code",
   "execution_count": null,
   "metadata": {},
   "outputs": [],
   "source": [
    "e_cnn, e_dense= 0.055, 0.005\n",
    "\n",
    "model = Sequential()\n",
    "model.add(Embedding(n_unique_words, n_dim, input_length=max_review_length))\n",
    "model.add(Conv1D(n_conv, k_conv))\n",
    "# model.add(SineReLU(e_cnn))\n",
    "model.add(Activation('relu'))\n",
    "model.add(GlobalMaxPool1D())\n",
    "\n",
    "model.add(Dense(n_dense))\n",
    "# model.add(SineReLU(e_dense))\n",
    "model.add(Activation('relu'))\n",
    "\n",
    "model.add(Dense(n_dense))\n",
    "# model.add(SineReLU(e_dense))\n",
    "model.add(Activation('relu'))\n",
    "model.add(Dropout(dropout))\n",
    "\n",
    "model.add(Dense(1, activation='sigmoid'))"
   ]
  },
  {
   "cell_type": "code",
   "execution_count": null,
   "metadata": {},
   "outputs": [],
   "source": [
    "model.summary()"
   ]
  },
  {
   "cell_type": "markdown",
   "metadata": {},
   "source": [
    "#### Configure the Model"
   ]
  },
  {
   "cell_type": "code",
   "execution_count": null,
   "metadata": {},
   "outputs": [],
   "source": [
    "model.compile(loss='binary_crossentropy', optimizer='adam', metrics=['accuracy'])"
   ]
  },
  {
   "cell_type": "code",
   "execution_count": null,
   "metadata": {},
   "outputs": [],
   "source": [
    "modelCheckpoint = ModelCheckpoint(monitor='val_acc', filepath=output_dir + '/best-cnn-imdb-model.hdf5', save_best_only=True, mode='max')\n",
    "earlyStopping = EarlyStopping(monitor='val_acc', mode='max', patience=patience)\n",
    "\n",
    "if not os.path.exists(output_dir):\n",
    "    os.makedirs(output_dir)"
   ]
  },
  {
   "cell_type": "markdown",
   "metadata": {},
   "source": [
    "#### TensorBoard"
   ]
  },
  {
   "cell_type": "code",
   "execution_count": null,
   "metadata": {},
   "outputs": [],
   "source": [
    "tensorboard = TensorBoard(\"../logs/imdb-cnn-relus\")"
   ]
  },
  {
   "cell_type": "markdown",
   "metadata": {},
   "source": [
    "### Train the Model"
   ]
  },
  {
   "cell_type": "code",
   "execution_count": null,
   "metadata": {},
   "outputs": [],
   "source": [
    "history = model.fit(X_train, y_train, batch_size=batch_size, epochs=epochs,\n",
    "                    verbose=1, validation_split=val_split, callbacks=[modelCheckpoint, earlyStopping])#, tensorboard])"
   ]
  },
  {
   "cell_type": "markdown",
   "metadata": {},
   "source": [
    "#### Evaluate"
   ]
  },
  {
   "cell_type": "code",
   "execution_count": null,
   "metadata": {},
   "outputs": [],
   "source": [
    "model = keras.models.load_model(output_dir+'/best-cnn-imdb-model.hdf5')"
   ]
  },
  {
   "cell_type": "code",
   "execution_count": null,
   "metadata": {},
   "outputs": [],
   "source": [
    "X_valid[0]"
   ]
  },
  {
   "cell_type": "code",
   "execution_count": null,
   "metadata": {},
   "outputs": [],
   "source": [
    "y_hat = model.predict_proba(X_valid)\n",
    "final_loss, final_acc = model.evaluate(X_valid, y_valid, verbose = 1)\n",
    "print(\"Final loss: {0:.4f}, final accuracy: {1:.4f}\".format(final_loss, final_acc))"
   ]
  },
  {
   "cell_type": "code",
   "execution_count": null,
   "metadata": {},
   "outputs": [],
   "source": [
    "plt.hist(y_hat)\n",
    "_ = plt.axvline(x=0.5, color='orange')"
   ]
  },
  {
   "cell_type": "code",
   "execution_count": null,
   "metadata": {},
   "outputs": [],
   "source": [
    "pct_auc = roc_auc_score(y_valid, y_hat) * 100"
   ]
  },
  {
   "cell_type": "code",
   "execution_count": null,
   "metadata": {},
   "outputs": [],
   "source": [
    "print('{:0.2f}'.format(pct_auc))\n",
    "print(np.std(history.history['loss']))"
   ]
  },
  {
   "cell_type": "code",
   "execution_count": null,
   "metadata": {},
   "outputs": [],
   "source": [
    "fpr, tpr, _ = sklearn.metrics.roc_curve(y_valid, y_hat)\n",
    "roc_auc = sklearn.metrics.auc(fpr, tpr)\n",
    "\n",
    "plt.figure()\n",
    "lw = 2\n",
    "plt.plot(fpr, tpr, color='darkorange',\n",
    "         lw=lw, label='ROC curve (area = %0.2f)' % roc_auc)\n",
    "\n",
    "plt.plot([0, 1], [0, 1], color='navy', lw=lw, linestyle='--')\n",
    "plt.xlim([0.0, 1.0])\n",
    "plt.ylim([0.0, 1.05])\n",
    "plt.xlabel('False Positive Rate')\n",
    "plt.ylabel('True Positive Rate')\n",
    "plt.title('Receiver Operating Characteristic')\n",
    "plt.legend(loc=\"lower right\")\n",
    "\n",
    "plt.show()"
   ]
  },
  {
   "cell_type": "code",
   "execution_count": null,
   "metadata": {},
   "outputs": [],
   "source": [
    "#SineReLU V2\n",
    "\n",
    "#Final loss: 0.2871, final accuracy: 0.8799 -> SineReLU (0.0025, 0.0055); STD loss => 0.1282695799687545; AUC => 95.02\n",
    "#Final loss: 0.6411, final accuracy: 0.8774 -> SineReLU (0.055, 0.005); STD loss => 0.1282695799687545; AUC => 94.95\n",
    "#Final loss: 0.3048, final accuracy: 0.8754 -> SineReLU (0.055, 0.005); STD loss => 0.12582034191497002; AUC => 94.92\n",
    "#Final loss: 0.5410, final accuracy: 0.8735 -> SineReLU (0.055, 0.005); STD loss => 0.12481875562430332; AUC => 94.92\n",
    "#Final loss: 0.5385, final accuracy: 0.8751 -> SineReLU (0.055, 0.005); STD loss => 0.12450807406114713; AUC => 94.87\n",
    "#Final loss: 0.4456, final accuracy: 0.8764 -> SineReLU (0.055, 0.005); STD loss => 0.12449238880646624; AUC => 94.82\n",
    "#Final loss: 0.6634, final accuracy: 0.8681 -> SineReLU (0.0025, 0.0055); STD loss => 0.12587642315152103; AUC => 94.41\n",
    "\n",
    "#SineReLU V1\n",
    "#Final loss: 0.6132, final accuracy: 0.8790 -> SineReLU (0.005, 0.003); STD loss => 0.12761551802489726; AUC => 95.16\n",
    "#Final loss: 0.3057, final accuracy: 0.8772 -> SineReLU (0.0025, 0.0055); STD loss => 0.12435647601321513; AUC => 94.94\n",
    "#Final loss: 0.5346, final accuracy: 0.8772 -> SineReLU (0.0055, 0.0083); STD loss => 0.12336675416111663; AUC => 94.89\n",
    "#Final loss: 0.5471, final accuracy: 0.8714 -> SineReLU (0.0025, 0.0055); STD loss => 0.12421548940177027; AUC => 94.88\n",
    "\n",
    "#ReLU\n",
    "\n",
    "# 1st and 3rd with overfitting during training.\n",
    "#Final loss: 0.2918, final accuracy: 0.8756 -> ReLU; STD loss => 0.12667813809127826; AUC => 94.92\n",
    "#Final loss: 0.6250, final accuracy: 0.8783 -> ReLU; STD loss => 0.13021323478326338; AUC => 95.01\n",
    "#Final loss: 0.2878, final accuracy: 0.8772 -> ReLU; STD loss => 0.12688453456699963; AUC => 95.00\n"
   ]
  }
 ],
 "metadata": {
  "kernelspec": {
   "display_name": "Python 3",
   "language": "python",
   "name": "python3"
  },
  "language_info": {
   "codemirror_mode": {
    "name": "ipython",
    "version": 3
   },
   "file_extension": ".py",
   "mimetype": "text/x-python",
   "name": "python",
   "nbconvert_exporter": "python",
   "pygments_lexer": "ipython3",
   "version": "3.6.3"
  }
 },
 "nbformat": 4,
 "nbformat_minor": 2
}
