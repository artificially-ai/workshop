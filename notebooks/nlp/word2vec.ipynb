{
 "cells": [
  {
   "cell_type": "markdown",
   "metadata": {},
   "source": [
    "# Creating Word Vectors with word2vec"
   ]
  },
  {
   "cell_type": "markdown",
   "metadata": {},
   "source": [
    "Let's start with NLTK"
   ]
  },
  {
   "cell_type": "markdown",
   "metadata": {},
   "source": [
    "#### Load Dependencies"
   ]
  },
  {
   "cell_type": "code",
   "execution_count": 1,
   "metadata": {},
   "outputs": [],
   "source": [
    "import nltk\n",
    "from nltk.tokenize import word_tokenize, sent_tokenize\n",
    "import gensim\n",
    "from gensim.models.word2vec import Word2Vec\n",
    "from sklearn.manifold import TSNE\n",
    "import pandas as pd\n",
    "from bokeh.io import output_notebook\n",
    "from bokeh.plotting import show, figure\n",
    "%matplotlib inline"
   ]
  },
  {
   "cell_type": "code",
   "execution_count": 2,
   "metadata": {},
   "outputs": [
    {
     "name": "stdout",
     "output_type": "stream",
     "text": [
      "[nltk_data] Downloading package punkt to /home/jovyan/nltk_data...\n",
      "[nltk_data]   Package punkt is already up-to-date!\n"
     ]
    },
    {
     "data": {
      "text/plain": [
       "True"
      ]
     },
     "execution_count": 2,
     "metadata": {},
     "output_type": "execute_result"
    }
   ],
   "source": [
    "nltk.download('punkt')"
   ]
  },
  {
   "cell_type": "markdown",
   "metadata": {},
   "source": [
    "#### Load Data"
   ]
  },
  {
   "cell_type": "code",
   "execution_count": 3,
   "metadata": {},
   "outputs": [
    {
     "name": "stdout",
     "output_type": "stream",
     "text": [
      "[nltk_data] Downloading package gutenberg to /home/jovyan/nltk_data...\n",
      "[nltk_data]   Package gutenberg is already up-to-date!\n"
     ]
    },
    {
     "data": {
      "text/plain": [
       "True"
      ]
     },
     "execution_count": 3,
     "metadata": {},
     "output_type": "execute_result"
    }
   ],
   "source": [
    "nltk.download('gutenberg')"
   ]
  },
  {
   "cell_type": "code",
   "execution_count": 4,
   "metadata": {},
   "outputs": [],
   "source": [
    "from nltk.corpus import gutenberg"
   ]
  },
  {
   "cell_type": "code",
   "execution_count": 5,
   "metadata": {},
   "outputs": [
    {
     "data": {
      "text/plain": [
       "['austen-emma.txt',\n",
       " 'austen-persuasion.txt',\n",
       " 'austen-sense.txt',\n",
       " 'bible-kjv.txt',\n",
       " 'blake-poems.txt',\n",
       " 'bryant-stories.txt',\n",
       " 'burgess-busterbrown.txt',\n",
       " 'carroll-alice.txt',\n",
       " 'chesterton-ball.txt',\n",
       " 'chesterton-brown.txt',\n",
       " 'chesterton-thursday.txt',\n",
       " 'edgeworth-parents.txt',\n",
       " 'melville-moby_dick.txt',\n",
       " 'milton-paradise.txt',\n",
       " 'shakespeare-caesar.txt',\n",
       " 'shakespeare-hamlet.txt',\n",
       " 'shakespeare-macbeth.txt',\n",
       " 'whitman-leaves.txt']"
      ]
     },
     "execution_count": 5,
     "metadata": {},
     "output_type": "execute_result"
    }
   ],
   "source": [
    "gutenberg.fileids()"
   ]
  },
  {
   "cell_type": "markdown",
   "metadata": {},
   "source": [
    "#### Tokenize Text"
   ]
  },
  {
   "cell_type": "code",
   "execution_count": 6,
   "metadata": {},
   "outputs": [],
   "source": [
    "# Due to lack of resources, I'm not working with the full Gutenberg dataset (18 books).\n",
    "gberg_sent_tokens = sent_tokenize(gutenberg.raw(fileids=['austen-sense.txt',\n",
    " 'blake-poems.txt',\n",
    " 'bryant-stories.txt',\n",
    " 'burgess-busterbrown.txt',\n",
    " 'carroll-alice.txt',\n",
    " 'chesterton-ball.txt',\n",
    " 'chesterton-brown.txt',\n",
    " 'chesterton-thursday.txt',\n",
    " 'edgeworth-parents.txt',\n",
    " 'melville-moby_dick.txt',\n",
    " 'milton-paradise.txt',\n",
    " 'shakespeare-caesar.txt']))"
   ]
  },
  {
   "cell_type": "code",
   "execution_count": 7,
   "metadata": {},
   "outputs": [
    {
     "data": {
      "text/plain": [
       "['[Sense and Sensibility by Jane Austen 1811]\\n\\nCHAPTER 1\\n\\n\\nThe family of Dashwood had long been settled in Sussex.',\n",
       " 'Their estate was large, and their residence was at Norland Park,\\nin the centre of their property, where, for many generations,\\nthey had lived in so respectable a manner as to engage\\nthe general good opinion of their surrounding acquaintance.',\n",
       " 'The late owner of this estate was a single man, who lived\\nto a very advanced age, and who for many years of his life,\\nhad a constant companion and housekeeper in his sister.',\n",
       " 'But her death, which happened ten years before his own,\\nproduced a great alteration in his home; for to supply\\nher loss, he invited and received into his house the family\\nof his nephew Mr. Henry Dashwood, the legal inheritor\\nof the Norland estate, and the person to whom he intended\\nto bequeath it.',\n",
       " \"In the society of his nephew and niece,\\nand their children, the old Gentleman's days were\\ncomfortably spent.\"]"
      ]
     },
     "execution_count": 7,
     "metadata": {},
     "output_type": "execute_result"
    }
   ],
   "source": [
    "gberg_sent_tokens[0:5]"
   ]
  },
  {
   "cell_type": "code",
   "execution_count": 8,
   "metadata": {},
   "outputs": [
    {
     "data": {
      "text/plain": [
       "'Their estate was large, and their residence was at Norland Park,\\nin the centre of their property, where, for many generations,\\nthey had lived in so respectable a manner as to engage\\nthe general good opinion of their surrounding acquaintance.'"
      ]
     },
     "execution_count": 8,
     "metadata": {},
     "output_type": "execute_result"
    }
   ],
   "source": [
    "gberg_sent_tokens[1]"
   ]
  },
  {
   "cell_type": "code",
   "execution_count": 9,
   "metadata": {},
   "outputs": [
    {
     "data": {
      "text/plain": [
       "['Their',\n",
       " 'estate',\n",
       " 'was',\n",
       " 'large',\n",
       " ',',\n",
       " 'and',\n",
       " 'their',\n",
       " 'residence',\n",
       " 'was',\n",
       " 'at',\n",
       " 'Norland',\n",
       " 'Park',\n",
       " ',',\n",
       " 'in',\n",
       " 'the',\n",
       " 'centre',\n",
       " 'of',\n",
       " 'their',\n",
       " 'property',\n",
       " ',',\n",
       " 'where',\n",
       " ',',\n",
       " 'for',\n",
       " 'many',\n",
       " 'generations',\n",
       " ',',\n",
       " 'they',\n",
       " 'had',\n",
       " 'lived',\n",
       " 'in',\n",
       " 'so',\n",
       " 'respectable',\n",
       " 'a',\n",
       " 'manner',\n",
       " 'as',\n",
       " 'to',\n",
       " 'engage',\n",
       " 'the',\n",
       " 'general',\n",
       " 'good',\n",
       " 'opinion',\n",
       " 'of',\n",
       " 'their',\n",
       " 'surrounding',\n",
       " 'acquaintance',\n",
       " '.']"
      ]
     },
     "execution_count": 9,
     "metadata": {},
     "output_type": "execute_result"
    }
   ],
   "source": [
    "word_tokenize(gberg_sent_tokens[1])"
   ]
  },
  {
   "cell_type": "code",
   "execution_count": 10,
   "metadata": {},
   "outputs": [
    {
     "data": {
      "text/plain": [
       "'the'"
      ]
     },
     "execution_count": 10,
     "metadata": {},
     "output_type": "execute_result"
    }
   ],
   "source": [
    "word_tokenize(gberg_sent_tokens[1])[14]"
   ]
  },
  {
   "cell_type": "code",
   "execution_count": 11,
   "metadata": {},
   "outputs": [],
   "source": [
    "# Due to lack of resources, I'm not working with the full Gutenberg dataset (18 books).\n",
    "gberg_sents = gutenberg.sents(fileids=['austen-sense.txt',\n",
    " 'blake-poems.txt',\n",
    " 'bryant-stories.txt',\n",
    " 'burgess-busterbrown.txt',\n",
    " 'carroll-alice.txt',\n",
    " 'chesterton-ball.txt',\n",
    " 'chesterton-brown.txt',\n",
    " 'chesterton-thursday.txt',\n",
    " 'edgeworth-parents.txt',\n",
    " 'melville-moby_dick.txt',\n",
    " 'milton-paradise.txt',\n",
    " 'shakespeare-caesar.txt'])"
   ]
  },
  {
   "cell_type": "code",
   "execution_count": 12,
   "metadata": {},
   "outputs": [
    {
     "data": {
      "text/plain": [
       "[['[', 'Sense', 'and', 'Sensibility', 'by', 'Jane', 'Austen', '1811', ']'],\n",
       " ['CHAPTER', '1'],\n",
       " ['The',\n",
       "  'family',\n",
       "  'of',\n",
       "  'Dashwood',\n",
       "  'had',\n",
       "  'long',\n",
       "  'been',\n",
       "  'settled',\n",
       "  'in',\n",
       "  'Sussex',\n",
       "  '.'],\n",
       " ['Their',\n",
       "  'estate',\n",
       "  'was',\n",
       "  'large',\n",
       "  ',',\n",
       "  'and',\n",
       "  'their',\n",
       "  'residence',\n",
       "  'was',\n",
       "  'at',\n",
       "  'Norland',\n",
       "  'Park',\n",
       "  ',',\n",
       "  'in',\n",
       "  'the',\n",
       "  'centre',\n",
       "  'of',\n",
       "  'their',\n",
       "  'property',\n",
       "  ',',\n",
       "  'where',\n",
       "  ',',\n",
       "  'for',\n",
       "  'many',\n",
       "  'generations',\n",
       "  ',',\n",
       "  'they',\n",
       "  'had',\n",
       "  'lived',\n",
       "  'in',\n",
       "  'so',\n",
       "  'respectable',\n",
       "  'a',\n",
       "  'manner',\n",
       "  'as',\n",
       "  'to',\n",
       "  'engage',\n",
       "  'the',\n",
       "  'general',\n",
       "  'good',\n",
       "  'opinion',\n",
       "  'of',\n",
       "  'their',\n",
       "  'surrounding',\n",
       "  'acquaintance',\n",
       "  '.'],\n",
       " ['The',\n",
       "  'late',\n",
       "  'owner',\n",
       "  'of',\n",
       "  'this',\n",
       "  'estate',\n",
       "  'was',\n",
       "  'a',\n",
       "  'single',\n",
       "  'man',\n",
       "  ',',\n",
       "  'who',\n",
       "  'lived',\n",
       "  'to',\n",
       "  'a',\n",
       "  'very',\n",
       "  'advanced',\n",
       "  'age',\n",
       "  ',',\n",
       "  'and',\n",
       "  'who',\n",
       "  'for',\n",
       "  'many',\n",
       "  'years',\n",
       "  'of',\n",
       "  'his',\n",
       "  'life',\n",
       "  ',',\n",
       "  'had',\n",
       "  'a',\n",
       "  'constant',\n",
       "  'companion',\n",
       "  'and',\n",
       "  'housekeeper',\n",
       "  'in',\n",
       "  'his',\n",
       "  'sister',\n",
       "  '.']]"
      ]
     },
     "execution_count": 12,
     "metadata": {},
     "output_type": "execute_result"
    }
   ],
   "source": [
    "gberg_sents[0:5]"
   ]
  },
  {
   "cell_type": "code",
   "execution_count": 13,
   "metadata": {},
   "outputs": [
    {
     "data": {
      "text/plain": [
       "'a'"
      ]
     },
     "execution_count": 13,
     "metadata": {},
     "output_type": "execute_result"
    }
   ],
   "source": [
    "gberg_sents[4][14]"
   ]
  },
  {
   "cell_type": "code",
   "execution_count": 14,
   "metadata": {},
   "outputs": [
    {
     "data": {
      "text/plain": [
       "['[', 'Emma', 'by', 'Jane', 'Austen', '1816', ']', ...]"
      ]
     },
     "execution_count": 14,
     "metadata": {},
     "output_type": "execute_result"
    }
   ],
   "source": [
    "gutenberg.words()"
   ]
  },
  {
   "cell_type": "code",
   "execution_count": 15,
   "metadata": {},
   "outputs": [
    {
     "data": {
      "text/plain": [
       "1104978"
      ]
     },
     "execution_count": 15,
     "metadata": {},
     "output_type": "execute_result"
    }
   ],
   "source": [
    "# Due to lack of resources, I'm not working with the full Gutenberg dataset (18 books).\n",
    "len(gutenberg.words(fileids=['austen-sense.txt',\n",
    " 'blake-poems.txt',\n",
    " 'bryant-stories.txt',\n",
    " 'burgess-busterbrown.txt',\n",
    " 'carroll-alice.txt',\n",
    " 'chesterton-ball.txt',\n",
    " 'chesterton-brown.txt',\n",
    " 'chesterton-thursday.txt',\n",
    " 'edgeworth-parents.txt',\n",
    " 'melville-moby_dick.txt',\n",
    " 'milton-paradise.txt',\n",
    " 'shakespeare-caesar.txt']))"
   ]
  },
  {
   "cell_type": "markdown",
   "metadata": {},
   "source": [
    "#### Run Word2Vec"
   ]
  },
  {
   "cell_type": "code",
   "execution_count": 16,
   "metadata": {},
   "outputs": [],
   "source": [
    "# size == dimensions\n",
    "# window 10: 20 context words, 10 to the left and 10 to the right\n",
    "model = Word2Vec(sentences=gberg_sents, size=64, sg=1, window=10, min_count=5, seed=42, workers=2)"
   ]
  },
  {
   "cell_type": "code",
   "execution_count": 17,
   "metadata": {},
   "outputs": [],
   "source": [
    "# We don't have to save the model if we don't want to. It's being done here as demonstration.\n",
    "model.save('raw_gutenberg_model.w2v')"
   ]
  },
  {
   "cell_type": "markdown",
   "metadata": {},
   "source": [
    "#### Explore the Model"
   ]
  },
  {
   "cell_type": "code",
   "execution_count": 18,
   "metadata": {},
   "outputs": [],
   "source": [
    "model = Word2Vec.load('raw_gutenberg_model.w2v')"
   ]
  },
  {
   "cell_type": "code",
   "execution_count": 19,
   "metadata": {},
   "outputs": [
    {
     "name": "stderr",
     "output_type": "stream",
     "text": [
      "/opt/conda/lib/python3.6/site-packages/ipykernel_launcher.py:1: DeprecationWarning: Call to deprecated `__getitem__` (Method will be removed in 4.0.0, use self.wv.__getitem__() instead).\n",
      "  \"\"\"Entry point for launching an IPython kernel.\n"
     ]
    },
    {
     "data": {
      "text/plain": [
       "array([-0.3346997 ,  0.1456047 ,  0.0875126 ,  0.16787374,  0.21449646,\n",
       "        0.02000326, -0.43210667, -0.41061348,  0.12348878, -0.4468959 ,\n",
       "        0.00587402, -0.11288248, -0.14280792,  0.02595302, -0.2733135 ,\n",
       "        0.07690801, -0.06747831, -0.37437096,  0.52594775, -0.5403975 ,\n",
       "       -0.02606335,  0.30052555, -0.00727689, -0.2848628 ,  0.22411096,\n",
       "       -0.06927806,  0.5047083 , -0.3519361 , -0.4728269 , -0.4474266 ,\n",
       "        0.25908813, -0.2030207 ,  0.0396525 ,  0.17929295, -0.37270507,\n",
       "        0.0034474 , -0.11405347, -0.52871686,  0.38637105,  0.03185457,\n",
       "       -0.1793869 , -0.36775103,  0.03632726,  0.3099345 ,  0.55703264,\n",
       "        0.23865315, -0.16871358, -0.2827526 ,  0.21554616, -0.1037494 ,\n",
       "       -0.3958877 ,  0.30340326, -0.368484  , -0.11326298, -0.59801   ,\n",
       "       -0.11683481,  0.14097637, -0.21227625,  0.10475738, -0.42735082,\n",
       "        0.41864812, -0.00805139, -0.27151766, -0.03083788], dtype=float32)"
      ]
     },
     "execution_count": 19,
     "metadata": {},
     "output_type": "execute_result"
    }
   ],
   "source": [
    "model['house']"
   ]
  },
  {
   "cell_type": "code",
   "execution_count": 20,
   "metadata": {},
   "outputs": [
    {
     "name": "stderr",
     "output_type": "stream",
     "text": [
      "/opt/conda/lib/python3.6/site-packages/ipykernel_launcher.py:1: DeprecationWarning: Call to deprecated `__getitem__` (Method will be removed in 4.0.0, use self.wv.__getitem__() instead).\n",
      "  \"\"\"Entry point for launching an IPython kernel.\n"
     ]
    },
    {
     "data": {
      "text/plain": [
       "64"
      ]
     },
     "execution_count": 20,
     "metadata": {},
     "output_type": "execute_result"
    }
   ],
   "source": [
    "len(model['house'])"
   ]
  },
  {
   "cell_type": "code",
   "execution_count": 21,
   "metadata": {},
   "outputs": [
    {
     "name": "stderr",
     "output_type": "stream",
     "text": [
      "/opt/conda/lib/python3.6/site-packages/ipykernel_launcher.py:1: DeprecationWarning: Call to deprecated `most_similar` (Method will be removed in 4.0.0, use self.wv.most_similar() instead).\n",
      "  \"\"\"Entry point for launching an IPython kernel.\n"
     ]
    },
    {
     "data": {
      "text/plain": [
       "[('cottage', 0.8372372984886169),\n",
       " ('court', 0.803726315498352),\n",
       " ('carriage', 0.7848597168922424),\n",
       " ('dining', 0.7727811336517334),\n",
       " ('park', 0.7645359039306641),\n",
       " ('parlour', 0.763404369354248),\n",
       " ('Exeter', 0.7630621194839478),\n",
       " ('Harley', 0.7623587846755981),\n",
       " ('Allenham', 0.7569417953491211),\n",
       " ('garden', 0.751043438911438)]"
      ]
     },
     "execution_count": 21,
     "metadata": {},
     "output_type": "execute_result"
    }
   ],
   "source": [
    "model.most_similar('house')"
   ]
  },
  {
   "cell_type": "code",
   "execution_count": 22,
   "metadata": {},
   "outputs": [
    {
     "name": "stderr",
     "output_type": "stream",
     "text": [
      "/opt/conda/lib/python3.6/site-packages/ipykernel_launcher.py:1: DeprecationWarning: Call to deprecated `most_similar` (Method will be removed in 4.0.0, use self.wv.most_similar() instead).\n",
      "  \"\"\"Entry point for launching an IPython kernel.\n"
     ]
    },
    {
     "data": {
      "text/plain": [
       "[('suppose', 0.8765036463737488),\n",
       " ('understand', 0.8388917446136475),\n",
       " ('remember', 0.8361983299255371),\n",
       " ('NOW', 0.8266185522079468),\n",
       " ('manage', 0.8230218887329102),\n",
       " ('know', 0.8209262490272522),\n",
       " ('pretend', 0.8189816474914551),\n",
       " ('contradict', 0.8135943412780762),\n",
       " ('commit', 0.8134847283363342),\n",
       " ('impertinent', 0.8131042718887329)]"
      ]
     },
     "execution_count": 22,
     "metadata": {},
     "output_type": "execute_result"
    }
   ],
   "source": [
    "model.most_similar('think')"
   ]
  },
  {
   "cell_type": "code",
   "execution_count": 23,
   "metadata": {},
   "outputs": [
    {
     "name": "stderr",
     "output_type": "stream",
     "text": [
      "/opt/conda/lib/python3.6/site-packages/ipykernel_launcher.py:1: DeprecationWarning: Call to deprecated `most_similar` (Method will be removed in 4.0.0, use self.wv.most_similar() instead).\n",
      "  \"\"\"Entry point for launching an IPython kernel.\n"
     ]
    },
    {
     "data": {
      "text/plain": [
       "[('morning', 0.8524847030639648),\n",
       " ('night', 0.7957284450531006),\n",
       " ('evening', 0.7444536685943604),\n",
       " ('year', 0.7179579734802246),\n",
       " ('summer', 0.713690996170044),\n",
       " ('work', 0.6924770474433899),\n",
       " ('month', 0.686597466468811),\n",
       " ('week', 0.6802651286125183),\n",
       " ('winter', 0.6785910129547119),\n",
       " ('spend', 0.6759383678436279)]"
      ]
     },
     "execution_count": 23,
     "metadata": {},
     "output_type": "execute_result"
    }
   ],
   "source": [
    "model.most_similar('day')"
   ]
  },
  {
   "cell_type": "code",
   "execution_count": 24,
   "metadata": {},
   "outputs": [
    {
     "name": "stderr",
     "output_type": "stream",
     "text": [
      "/opt/conda/lib/python3.6/site-packages/ipykernel_launcher.py:1: DeprecationWarning: Call to deprecated `most_similar` (Method will be removed in 4.0.0, use self.wv.most_similar() instead).\n",
      "  \"\"\"Entry point for launching an IPython kernel.\n"
     ]
    },
    {
     "data": {
      "text/plain": [
       "[('wife', 0.832089900970459),\n",
       " ('master', 0.8259671330451965),\n",
       " ('brother', 0.8158612251281738),\n",
       " ('cousin', 0.8138773441314697),\n",
       " ('mother', 0.8096708059310913),\n",
       " ('uncle', 0.798831582069397),\n",
       " ('son', 0.7943651080131531),\n",
       " ('Maurice', 0.7812618613243103),\n",
       " ('child', 0.7681208848953247),\n",
       " ('Fanny', 0.7651588916778564)]"
      ]
     },
     "execution_count": 24,
     "metadata": {},
     "output_type": "execute_result"
    }
   ],
   "source": [
    "model.most_similar('father')"
   ]
  },
  {
   "cell_type": "code",
   "execution_count": 25,
   "metadata": {},
   "outputs": [
    {
     "name": "stderr",
     "output_type": "stream",
     "text": [
      "/opt/conda/lib/python3.6/site-packages/ipykernel_launcher.py:1: DeprecationWarning: Call to deprecated `doesnt_match` (Method will be removed in 4.0.0, use self.wv.doesnt_match() instead).\n",
      "  \"\"\"Entry point for launching an IPython kernel.\n"
     ]
    },
    {
     "data": {
      "text/plain": [
       "'house'"
      ]
     },
     "execution_count": 25,
     "metadata": {},
     "output_type": "execute_result"
    }
   ],
   "source": [
    "model.doesnt_match('mother father daughter house'.split())"
   ]
  },
  {
   "cell_type": "code",
   "execution_count": 26,
   "metadata": {},
   "outputs": [
    {
     "name": "stderr",
     "output_type": "stream",
     "text": [
      "/opt/conda/lib/python3.6/site-packages/ipykernel_launcher.py:1: DeprecationWarning: Call to deprecated `similarity` (Method will be removed in 4.0.0, use self.wv.similarity() instead).\n",
      "  \"\"\"Entry point for launching an IPython kernel.\n"
     ]
    },
    {
     "data": {
      "text/plain": [
       "0.8096707348508742"
      ]
     },
     "execution_count": 26,
     "metadata": {},
     "output_type": "execute_result"
    }
   ],
   "source": [
    "model.similarity('father', 'mother')"
   ]
  },
  {
   "cell_type": "code",
   "execution_count": 27,
   "metadata": {},
   "outputs": [
    {
     "name": "stderr",
     "output_type": "stream",
     "text": [
      "/opt/conda/lib/python3.6/site-packages/ipykernel_launcher.py:1: DeprecationWarning: Call to deprecated `most_similar` (Method will be removed in 4.0.0, use self.wv.most_similar() instead).\n",
      "  \"\"\"Entry point for launching an IPython kernel.\n"
     ]
    },
    {
     "data": {
      "text/plain": [
       "[('mother', 0.8156519532203674),\n",
       " ('brother', 0.7988995909690857),\n",
       " ('husband', 0.7883691787719727),\n",
       " ('daughter', 0.7804763317108154),\n",
       " ('daughters', 0.7554768323898315),\n",
       " ('sister', 0.7424092292785645),\n",
       " ('Susan', 0.7421820163726807),\n",
       " ('Lady', 0.7413530349731445),\n",
       " ('Fanny', 0.7360936999320984),\n",
       " ('sisters', 0.7356678247451782)]"
      ]
     },
     "execution_count": 27,
     "metadata": {},
     "output_type": "execute_result"
    }
   ],
   "source": [
    "model.most_similar(positive=['father', 'woman'], negative=['man'])"
   ]
  },
  {
   "cell_type": "code",
   "execution_count": 28,
   "metadata": {},
   "outputs": [
    {
     "name": "stderr",
     "output_type": "stream",
     "text": [
      "/opt/conda/lib/python3.6/site-packages/ipykernel_launcher.py:1: DeprecationWarning: Call to deprecated `most_similar` (Method will be removed in 4.0.0, use self.wv.most_similar() instead).\n",
      "  \"\"\"Entry point for launching an IPython kernel.\n"
     ]
    },
    {
     "data": {
      "text/plain": [
       "[('daughter', 0.8223975896835327),\n",
       " ('eldest', 0.774274468421936),\n",
       " ('daughters', 0.7649023532867432),\n",
       " ('husband', 0.7641652226448059),\n",
       " ('brother', 0.7569246292114258),\n",
       " ('Lady', 0.7295364737510681),\n",
       " ('father', 0.716935932636261),\n",
       " ('mother', 0.7110570073127747),\n",
       " ('sisters', 0.7087134122848511),\n",
       " ('wife', 0.7023751735687256)]"
      ]
     },
     "execution_count": 28,
     "metadata": {},
     "output_type": "execute_result"
    }
   ],
   "source": [
    "model.most_similar(positive=['son', 'woman'], negative=['man'])"
   ]
  },
  {
   "cell_type": "code",
   "execution_count": 29,
   "metadata": {},
   "outputs": [
    {
     "name": "stderr",
     "output_type": "stream",
     "text": [
      "/opt/conda/lib/python3.6/site-packages/ipykernel_launcher.py:1: DeprecationWarning: Call to deprecated `most_similar` (Method will be removed in 4.0.0, use self.wv.most_similar() instead).\n",
      "  \"\"\"Entry point for launching an IPython kernel.\n"
     ]
    },
    {
     "data": {
      "text/plain": [
       "[('sister', 0.8072625994682312),\n",
       " ('mother', 0.8047910928726196),\n",
       " ('daughter', 0.7983226180076599),\n",
       " ('daughters', 0.7819150686264038),\n",
       " ('brother', 0.7792742848396301),\n",
       " ('sisters', 0.7625876665115356),\n",
       " ('eldest', 0.7458395957946777),\n",
       " ('Fanny', 0.7441428899765015),\n",
       " ('herself', 0.741320013999939),\n",
       " ('Mary', 0.7272416353225708)]"
      ]
     },
     "execution_count": 29,
     "metadata": {},
     "output_type": "execute_result"
    }
   ],
   "source": [
    "model.most_similar(positive=['husband', 'woman'], negative=['man'])"
   ]
  },
  {
   "cell_type": "code",
   "execution_count": 30,
   "metadata": {},
   "outputs": [
    {
     "name": "stderr",
     "output_type": "stream",
     "text": [
      "/opt/conda/lib/python3.6/site-packages/ipykernel_launcher.py:1: DeprecationWarning: Call to deprecated `most_similar` (Method will be removed in 4.0.0, use self.wv.most_similar() instead).\n",
      "  \"\"\"Entry point for launching an IPython kernel.\n"
     ]
    },
    {
     "data": {
      "text/plain": [
       "[('eldest', 0.7510108947753906),\n",
       " ('daughters', 0.729170560836792),\n",
       " ('daughter', 0.7054154872894287),\n",
       " ('visit', 0.70168137550354),\n",
       " ('son', 0.7014639377593994),\n",
       " ('widow', 0.6999203562736511),\n",
       " ('husband', 0.6955987215042114),\n",
       " ('Margaret', 0.6954494714736938),\n",
       " ('elder', 0.6943371295928955),\n",
       " ('attending', 0.6910567283630371),\n",
       " ('lively', 0.6905580163002014),\n",
       " ('youngest', 0.6891471147537231),\n",
       " ('invited', 0.6847400665283203),\n",
       " ('wife', 0.6826975345611572),\n",
       " ('Middleton', 0.6800143718719482),\n",
       " ('provided', 0.6775442361831665),\n",
       " ('Fanny', 0.674283504486084),\n",
       " ('Sicily', 0.671622097492218),\n",
       " ('Lady', 0.6700534820556641),\n",
       " ('wrote', 0.6696280241012573),\n",
       " ('charity', 0.6691582202911377),\n",
       " ('robbed', 0.6691069602966309),\n",
       " ('taught', 0.6660434007644653),\n",
       " ('John', 0.6659883856773376),\n",
       " ('mother', 0.6648327112197876),\n",
       " ('health', 0.6640120148658752),\n",
       " ('industrious', 0.6635658144950867),\n",
       " ('Exeter', 0.661763608455658),\n",
       " ('Robert', 0.6609779000282288),\n",
       " ('Gray', 0.6604912281036377)]"
      ]
     },
     "execution_count": 30,
     "metadata": {},
     "output_type": "execute_result"
    }
   ],
   "source": [
    "model.most_similar(positive=['king', 'woman'], negative=['man'], topn=30)"
   ]
  },
  {
   "cell_type": "markdown",
   "metadata": {},
   "source": [
    "#### Reduce word vector dimensionality with t-SNE"
   ]
  },
  {
   "cell_type": "markdown",
   "metadata": {},
   "source": [
    "t-Distributed Stochastic Name Embedding"
   ]
  },
  {
   "cell_type": "code",
   "execution_count": 31,
   "metadata": {},
   "outputs": [
    {
     "data": {
      "text/plain": [
       "11319"
      ]
     },
     "execution_count": 31,
     "metadata": {},
     "output_type": "execute_result"
    }
   ],
   "source": [
    "len(model.wv.vocab)"
   ]
  },
  {
   "cell_type": "code",
   "execution_count": 32,
   "metadata": {},
   "outputs": [
    {
     "name": "stderr",
     "output_type": "stream",
     "text": [
      "/opt/conda/lib/python3.6/site-packages/ipykernel_launcher.py:1: DeprecationWarning: Call to deprecated `__getitem__` (Method will be removed in 4.0.0, use self.wv.__getitem__() instead).\n",
      "  \"\"\"Entry point for launching an IPython kernel.\n"
     ]
    }
   ],
   "source": [
    "X = model[model.wv.vocab]"
   ]
  },
  {
   "cell_type": "code",
   "execution_count": 33,
   "metadata": {},
   "outputs": [],
   "source": [
    "tsne = TSNE(n_components=2, n_iter=250)"
   ]
  },
  {
   "cell_type": "code",
   "execution_count": 34,
   "metadata": {},
   "outputs": [],
   "source": [
    "X_2d = tsne.fit_transform(X)"
   ]
  },
  {
   "cell_type": "code",
   "execution_count": 35,
   "metadata": {},
   "outputs": [],
   "source": [
    "coords_df = pd.DataFrame(X_2d, columns=['x', 'y'])\n",
    "coords_df['token'] = model.wv.vocab.keys()"
   ]
  },
  {
   "cell_type": "code",
   "execution_count": 36,
   "metadata": {},
   "outputs": [
    {
     "data": {
      "text/html": [
       "<div>\n",
       "<style scoped>\n",
       "    .dataframe tbody tr th:only-of-type {\n",
       "        vertical-align: middle;\n",
       "    }\n",
       "\n",
       "    .dataframe tbody tr th {\n",
       "        vertical-align: top;\n",
       "    }\n",
       "\n",
       "    .dataframe thead th {\n",
       "        text-align: right;\n",
       "    }\n",
       "</style>\n",
       "<table border=\"1\" class=\"dataframe\">\n",
       "  <thead>\n",
       "    <tr style=\"text-align: right;\">\n",
       "      <th></th>\n",
       "      <th>x</th>\n",
       "      <th>y</th>\n",
       "      <th>token</th>\n",
       "    </tr>\n",
       "  </thead>\n",
       "  <tbody>\n",
       "    <tr>\n",
       "      <th>0</th>\n",
       "      <td>0.274352</td>\n",
       "      <td>1.097013</td>\n",
       "      <td>[</td>\n",
       "    </tr>\n",
       "    <tr>\n",
       "      <th>1</th>\n",
       "      <td>0.269447</td>\n",
       "      <td>-0.350382</td>\n",
       "      <td>and</td>\n",
       "    </tr>\n",
       "    <tr>\n",
       "      <th>2</th>\n",
       "      <td>0.030642</td>\n",
       "      <td>-0.150067</td>\n",
       "      <td>by</td>\n",
       "    </tr>\n",
       "    <tr>\n",
       "      <th>3</th>\n",
       "      <td>0.272640</td>\n",
       "      <td>1.096708</td>\n",
       "      <td>]</td>\n",
       "    </tr>\n",
       "    <tr>\n",
       "      <th>4</th>\n",
       "      <td>0.284099</td>\n",
       "      <td>1.090458</td>\n",
       "      <td>CHAPTER</td>\n",
       "    </tr>\n",
       "  </tbody>\n",
       "</table>\n",
       "</div>"
      ],
      "text/plain": [
       "          x         y    token\n",
       "0  0.274352  1.097013        [\n",
       "1  0.269447 -0.350382      and\n",
       "2  0.030642 -0.150067       by\n",
       "3  0.272640  1.096708        ]\n",
       "4  0.284099  1.090458  CHAPTER"
      ]
     },
     "execution_count": 36,
     "metadata": {},
     "output_type": "execute_result"
    }
   ],
   "source": [
    "coords_df.head()"
   ]
  },
  {
   "cell_type": "code",
   "execution_count": 37,
   "metadata": {},
   "outputs": [],
   "source": [
    "coords_df.to_csv('raw_gutenberg_tsne.csv', index=False)"
   ]
  },
  {
   "cell_type": "markdown",
   "metadata": {},
   "source": [
    "#### Visualise 2D representation of word vectors"
   ]
  },
  {
   "cell_type": "code",
   "execution_count": 38,
   "metadata": {},
   "outputs": [],
   "source": [
    "coorrds_df = pd.read_csv('raw_gutenberg_tsne.csv')"
   ]
  },
  {
   "cell_type": "code",
   "execution_count": 39,
   "metadata": {},
   "outputs": [
    {
     "data": {
      "text/html": [
       "<div>\n",
       "<style scoped>\n",
       "    .dataframe tbody tr th:only-of-type {\n",
       "        vertical-align: middle;\n",
       "    }\n",
       "\n",
       "    .dataframe tbody tr th {\n",
       "        vertical-align: top;\n",
       "    }\n",
       "\n",
       "    .dataframe thead th {\n",
       "        text-align: right;\n",
       "    }\n",
       "</style>\n",
       "<table border=\"1\" class=\"dataframe\">\n",
       "  <thead>\n",
       "    <tr style=\"text-align: right;\">\n",
       "      <th></th>\n",
       "      <th>x</th>\n",
       "      <th>y</th>\n",
       "      <th>token</th>\n",
       "    </tr>\n",
       "  </thead>\n",
       "  <tbody>\n",
       "    <tr>\n",
       "      <th>0</th>\n",
       "      <td>0.274352</td>\n",
       "      <td>1.097013</td>\n",
       "      <td>[</td>\n",
       "    </tr>\n",
       "    <tr>\n",
       "      <th>1</th>\n",
       "      <td>0.269447</td>\n",
       "      <td>-0.350382</td>\n",
       "      <td>and</td>\n",
       "    </tr>\n",
       "    <tr>\n",
       "      <th>2</th>\n",
       "      <td>0.030642</td>\n",
       "      <td>-0.150067</td>\n",
       "      <td>by</td>\n",
       "    </tr>\n",
       "    <tr>\n",
       "      <th>3</th>\n",
       "      <td>0.272640</td>\n",
       "      <td>1.096708</td>\n",
       "      <td>]</td>\n",
       "    </tr>\n",
       "    <tr>\n",
       "      <th>4</th>\n",
       "      <td>0.284099</td>\n",
       "      <td>1.090458</td>\n",
       "      <td>CHAPTER</td>\n",
       "    </tr>\n",
       "  </tbody>\n",
       "</table>\n",
       "</div>"
      ],
      "text/plain": [
       "          x         y    token\n",
       "0  0.274352  1.097013        [\n",
       "1  0.269447 -0.350382      and\n",
       "2  0.030642 -0.150067       by\n",
       "3  0.272640  1.096708        ]\n",
       "4  0.284099  1.090458  CHAPTER"
      ]
     },
     "execution_count": 39,
     "metadata": {},
     "output_type": "execute_result"
    }
   ],
   "source": [
    "coords_df.head()"
   ]
  },
  {
   "cell_type": "code",
   "execution_count": 40,
   "metadata": {},
   "outputs": [
    {
     "data": {
      "image/png": "[encoded data removed]",
      "text/plain": [
       "<matplotlib.figure.Figure at 0x7f95a9a65128>"
      ]
     },
     "metadata": {},
     "output_type": "display_data"
    }
   ],
   "source": [
    "_ = coords_df.plot.scatter('x', 'y', figsize=(8,8), marker='o', s=10, alpha=0.2)"
   ]
  },
  {
   "cell_type": "code",
   "execution_count": 41,
   "metadata": {},
   "outputs": [
    {
     "data": {
      "text/html": [
       "\n",
       "    <div class=\"bk-root\">\n",
       "        <a href=\"https://bokeh.pydata.org\" target=\"_blank\" class=\"bk-logo bk-logo-small bk-logo-notebook\"></a>\n",
       "        <span id=\"30ed1bef-f93b-42d0-ae0d-e5fcf89bf039\">Loading BokehJS ...</span>\n",
       "    </div>"
      ]
     },
     "metadata": {},
     "output_type": "display_data"
    },
    {
     "data": {
      "application/javascript": [
       "\n",
       "(function(root) {\n",
       "  function now() {\n",
       "    return new Date();\n",
       "  }\n",
       "\n",
       "  var force = true;\n",
       "\n",
       "  if (typeof (root._bokeh_onload_callbacks) === \"undefined\" || force === true) {\n",
       "    root._bokeh_onload_callbacks = [];\n",
       "    root._bokeh_is_loading = undefined;\n",
       "  }\n",
       "\n",
       "  var JS_MIME_TYPE = 'application/javascript';\n",
       "  var HTML_MIME_TYPE = 'text/html';\n",
       "  var EXEC_MIME_TYPE = 'application/vnd.bokehjs_exec.v0+json';\n",
       "  var CLASS_NAME = 'output_bokeh rendered_html';\n",
       "\n",
       "  /**\n",
       "   * Render data to the DOM node\n",
       "   */\n",
       "  function render(props, node) {\n",
       "    var script = document.createElement(\"script\");\n",
       "    node.appendChild(script);\n",
       "  }\n",
       "\n",
       "  /**\n",
       "   * Handle when an output is cleared or removed\n",
       "   */\n",
       "  function handleClearOutput(event, handle) {\n",
       "    var cell = handle.cell;\n",
       "\n",
       "    var id = cell.output_area._bokeh_element_id;\n",
       "    var server_id = cell.output_area._bokeh_server_id;\n",
       "    // Clean up Bokeh references\n",
       "    if (id !== undefined) {\n",
       "      Bokeh.index[id].model.document.clear();\n",
       "      delete Bokeh.index[id];\n",
       "    }\n",
       "\n",
       "    if (server_id !== undefined) {\n",
       "      // Clean up Bokeh references\n",
       "      var cmd = \"from bokeh.io.state import curstate; print(curstate().uuid_to_server['\" + server_id + \"'].get_sessions()[0].document.roots[0]._id)\";\n",
       "      cell.notebook.kernel.execute(cmd, {\n",
       "        iopub: {\n",
       "          output: function(msg) {\n",
       "            var element_id = msg.content.text.trim();\n",
       "            Bokeh.index[element_id].model.document.clear();\n",
       "            delete Bokeh.index[element_id];\n",
       "          }\n",
       "        }\n",
       "      });\n",
       "      // Destroy server and session\n",
       "      var cmd = \"import bokeh.io.notebook as ion; ion.destroy_server('\" + server_id + \"')\";\n",
       "      cell.notebook.kernel.execute(cmd);\n",
       "    }\n",
       "  }\n",
       "\n",
       "  /**\n",
       "   * Handle when a new output is added\n",
       "   */\n",
       "  function handleAddOutput(event, handle) {\n",
       "    var output_area = handle.output_area;\n",
       "    var output = handle.output;\n",
       "\n",
       "    // limit handleAddOutput to display_data with EXEC_MIME_TYPE content only\n",
       "    if ((output.output_type != \"display_data\") || (!output.data.hasOwnProperty(EXEC_MIME_TYPE))) {\n",
       "      return\n",
       "    }\n",
       "\n",
       "    var toinsert = output_area.element.find(\".\" + CLASS_NAME.split(' ')[0]);\n",
       "\n",
       "    if (output.metadata[EXEC_MIME_TYPE][\"id\"] !== undefined) {\n",
       "      toinsert[toinsert.length - 1].firstChild.textContent = output.data[JS_MIME_TYPE];\n",
       "      // store reference to embed id on output_area\n",
       "      output_area._bokeh_element_id = output.metadata[EXEC_MIME_TYPE][\"id\"];\n",
       "    }\n",
       "    if (output.metadata[EXEC_MIME_TYPE][\"server_id\"] !== undefined) {\n",
       "      var bk_div = document.createElement(\"div\");\n",
       "      bk_div.innerHTML = output.data[HTML_MIME_TYPE];\n",
       "      var script_attrs = bk_div.children[0].attributes;\n",
       "      for (var i = 0; i < script_attrs.length; i++) {\n",
       "        toinsert[toinsert.length - 1].firstChild.setAttribute(script_attrs[i].name, script_attrs[i].value);\n",
       "      }\n",
       "      // store reference to server id on output_area\n",
       "      output_area._bokeh_server_id = output.metadata[EXEC_MIME_TYPE][\"server_id\"];\n",
       "    }\n",
       "  }\n",
       "\n",
       "  function register_renderer(events, OutputArea) {\n",
       "\n",
       "    function append_mime(data, metadata, element) {\n",
       "      // create a DOM node to render to\n",
       "      var toinsert = this.create_output_subarea(\n",
       "        metadata,\n",
       "        CLASS_NAME,\n",
       "        EXEC_MIME_TYPE\n",
       "      );\n",
       "      this.keyboard_manager.register_events(toinsert);\n",
       "      // Render to node\n",
       "      var props = {data: data, metadata: metadata[EXEC_MIME_TYPE]};\n",
       "      render(props, toinsert[toinsert.length - 1]);\n",
       "      element.append(toinsert);\n",
       "      return toinsert\n",
       "    }\n",
       "\n",
       "    /* Handle when an output is cleared or removed */\n",
       "    events.on('clear_output.CodeCell', handleClearOutput);\n",
       "    events.on('delete.Cell', handleClearOutput);\n",
       "\n",
       "    /* Handle when a new output is added */\n",
       "    events.on('output_added.OutputArea', handleAddOutput);\n",
       "\n",
       "    /**\n",
       "     * Register the mime type and append_mime function with output_area\n",
       "     */\n",
       "    OutputArea.prototype.register_mime_type(EXEC_MIME_TYPE, append_mime, {\n",
       "      /* Is output safe? */\n",
       "      safe: true,\n",
       "      /* Index of renderer in `output_area.display_order` */\n",
       "      index: 0\n",
       "    });\n",
       "  }\n",
       "\n",
       "  // register the mime type if in Jupyter Notebook environment and previously unregistered\n",
       "  if (root.Jupyter !== undefined) {\n",
       "    var events = require('base/js/events');\n",
       "    var OutputArea = require('notebook/js/outputarea').OutputArea;\n",
       "\n",
       "    if (OutputArea.prototype.mime_types().indexOf(EXEC_MIME_TYPE) == -1) {\n",
       "      register_renderer(events, OutputArea);\n",
       "    }\n",
       "  }\n",
       "\n",
       "  \n",
       "  if (typeof (root._bokeh_timeout) === \"undefined\" || force === true) {\n",
       "    root._bokeh_timeout = Date.now() + 5000;\n",
       "    root._bokeh_failed_load = false;\n",
       "  }\n",
       "\n",
       "  var NB_LOAD_WARNING = {'data': {'text/html':\n",
       "     \"<div style='background-color: #fdd'>\\n\"+\n",
       "     \"<p>\\n\"+\n",
       "     \"BokehJS does not appear to have successfully loaded. If loading BokehJS from CDN, this \\n\"+\n",
       "     \"may be due to a slow or bad network connection. Possible fixes:\\n\"+\n",
       "     \"</p>\\n\"+\n",
       "     \"<ul>\\n\"+\n",
       "     \"<li>re-rerun `output_notebook()` to attempt to load from CDN again, or</li>\\n\"+\n",
       "     \"<li>use INLINE resources instead, as so:</li>\\n\"+\n",
       "     \"</ul>\\n\"+\n",
       "     \"<code>\\n\"+\n",
       "     \"from bokeh.resources import INLINE\\n\"+\n",
       "     \"output_notebook(resources=INLINE)\\n\"+\n",
       "     \"</code>\\n\"+\n",
       "     \"</div>\"}};\n",
       "\n",
       "  function display_loaded() {\n",
       "    var el = document.getElementById(\"30ed1bef-f93b-42d0-ae0d-e5fcf89bf039\");\n",
       "    if (el != null) {\n",
       "      el.textContent = \"BokehJS is loading...\";\n",
       "    }\n",
       "    if (root.Bokeh !== undefined) {\n",
       "      if (el != null) {\n",
       "        el.textContent = \"BokehJS \" + root.Bokeh.version + \" successfully loaded.\";\n",
       "      }\n",
       "    } else if (Date.now() < root._bokeh_timeout) {\n",
       "      setTimeout(display_loaded, 100)\n",
       "    }\n",
       "  }\n",
       "\n",
       "\n",
       "  function run_callbacks() {\n",
       "    try {\n",
       "      root._bokeh_onload_callbacks.forEach(function(callback) { callback() });\n",
       "    }\n",
       "    finally {\n",
       "      delete root._bokeh_onload_callbacks\n",
       "    }\n",
       "    console.info(\"Bokeh: all callbacks have finished\");\n",
       "  }\n",
       "\n",
       "  function load_libs(js_urls, callback) {\n",
       "    root._bokeh_onload_callbacks.push(callback);\n",
       "    if (root._bokeh_is_loading > 0) {\n",
       "      console.log(\"Bokeh: BokehJS is being loaded, scheduling callback at\", now());\n",
       "      return null;\n",
       "    }\n",
       "    if (js_urls == null || js_urls.length === 0) {\n",
       "      run_callbacks();\n",
       "      return null;\n",
       "    }\n",
       "    console.log(\"Bokeh: BokehJS not loaded, scheduling load and callback at\", now());\n",
       "    root._bokeh_is_loading = js_urls.length;\n",
       "    for (var i = 0; i < js_urls.length; i++) {\n",
       "      var url = js_urls[i];\n",
       "      var s = document.createElement('script');\n",
       "      s.src = url;\n",
       "      s.async = false;\n",
       "      s.onreadystatechange = s.onload = function() {\n",
       "        root._bokeh_is_loading--;\n",
       "        if (root._bokeh_is_loading === 0) {\n",
       "          console.log(\"Bokeh: all BokehJS libraries loaded\");\n",
       "          run_callbacks()\n",
       "        }\n",
       "      };\n",
       "      s.onerror = function() {\n",
       "        console.warn(\"failed to load library \" + url);\n",
       "      };\n",
       "      console.log(\"Bokeh: injecting script tag for BokehJS library: \", url);\n",
       "      document.getElementsByTagName(\"head\")[0].appendChild(s);\n",
       "    }\n",
       "  };var element = document.getElementById(\"30ed1bef-f93b-42d0-ae0d-e5fcf89bf039\");\n",
       "  if (element == null) {\n",
       "    console.log(\"Bokeh: ERROR: autoload.js configured with elementid '30ed1bef-f93b-42d0-ae0d-e5fcf89bf039' but no matching script tag was found. \")\n",
       "    return false;\n",
       "  }\n",
       "\n",
       "  var js_urls = [\"https://cdn.pydata.org/bokeh/release/bokeh-0.12.15.min.js\", \"https://cdn.pydata.org/bokeh/release/bokeh-widgets-0.12.15.min.js\", \"https://cdn.pydata.org/bokeh/release/bokeh-tables-0.12.15.min.js\", \"https://cdn.pydata.org/bokeh/release/bokeh-gl-0.12.15.min.js\"];\n",
       "\n",
       "  var inline_js = [\n",
       "    function(Bokeh) {\n",
       "      Bokeh.set_log_level(\"info\");\n",
       "    },\n",
       "    \n",
       "    function(Bokeh) {\n",
       "      \n",
       "    },\n",
       "    function(Bokeh) {\n",
       "      console.log(\"Bokeh: injecting CSS: https://cdn.pydata.org/bokeh/release/bokeh-0.12.15.min.css\");\n",
       "      Bokeh.embed.inject_css(\"https://cdn.pydata.org/bokeh/release/bokeh-0.12.15.min.css\");\n",
       "      console.log(\"Bokeh: injecting CSS: https://cdn.pydata.org/bokeh/release/bokeh-widgets-0.12.15.min.css\");\n",
       "      Bokeh.embed.inject_css(\"https://cdn.pydata.org/bokeh/release/bokeh-widgets-0.12.15.min.css\");\n",
       "      console.log(\"Bokeh: injecting CSS: https://cdn.pydata.org/bokeh/release/bokeh-tables-0.12.15.min.css\");\n",
       "      Bokeh.embed.inject_css(\"https://cdn.pydata.org/bokeh/release/bokeh-tables-0.12.15.min.css\");\n",
       "    }\n",
       "  ];\n",
       "\n",
       "  function run_inline_js() {\n",
       "    \n",
       "    if ((root.Bokeh !== undefined) || (force === true)) {\n",
       "      for (var i = 0; i < inline_js.length; i++) {\n",
       "        inline_js[i].call(root, root.Bokeh);\n",
       "      }if (force === true) {\n",
       "        display_loaded();\n",
       "      }} else if (Date.now() < root._bokeh_timeout) {\n",
       "      setTimeout(run_inline_js, 100);\n",
       "    } else if (!root._bokeh_failed_load) {\n",
       "      console.log(\"Bokeh: BokehJS failed to load within specified timeout.\");\n",
       "      root._bokeh_failed_load = true;\n",
       "    } else if (force !== true) {\n",
       "      var cell = $(document.getElementById(\"30ed1bef-f93b-42d0-ae0d-e5fcf89bf039\")).parents('.cell').data().cell;\n",
       "      cell.output_area.append_execute_result(NB_LOAD_WARNING)\n",
       "    }\n",
       "\n",
       "  }\n",
       "\n",
       "  if (root._bokeh_is_loading === 0) {\n",
       "    console.log(\"Bokeh: BokehJS loaded, going straight to plotting\");\n",
       "    run_inline_js();\n",
       "  } else {\n",
       "    load_libs(js_urls, function() {\n",
       "      console.log(\"Bokeh: BokehJS plotting callback run at\", now());\n",
       "      run_inline_js();\n",
       "    });\n",
       "  }\n",
       "}(window));"
      ],
      "application/vnd.bokehjs_load.v0+json": "\n(function(root) {\n  function now() {\n    return new Date();\n  }\n\n  var force = true;\n\n  if (typeof (root._bokeh_onload_callbacks) === \"undefined\" || force === true) {\n    root._bokeh_onload_callbacks = [];\n    root._bokeh_is_loading = undefined;\n  }\n\n  \n\n  \n  if (typeof (root._bokeh_timeout) === \"undefined\" || force === true) {\n    root._bokeh_timeout = Date.now() + 5000;\n    root._bokeh_failed_load = false;\n  }\n\n  var NB_LOAD_WARNING = {'data': {'text/html':\n     \"<div style='background-color: #fdd'>\\n\"+\n     \"<p>\\n\"+\n     \"BokehJS does not appear to have successfully loaded. If loading BokehJS from CDN, this \\n\"+\n     \"may be due to a slow or bad network connection. Possible fixes:\\n\"+\n     \"</p>\\n\"+\n     \"<ul>\\n\"+\n     \"<li>re-rerun `output_notebook()` to attempt to load from CDN again, or</li>\\n\"+\n     \"<li>use INLINE resources instead, as so:</li>\\n\"+\n     \"</ul>\\n\"+\n     \"<code>\\n\"+\n     \"from bokeh.resources import INLINE\\n\"+\n     \"output_notebook(resources=INLINE)\\n\"+\n     \"</code>\\n\"+\n     \"</div>\"}};\n\n  function display_loaded() {\n    var el = document.getElementById(\"30ed1bef-f93b-42d0-ae0d-e5fcf89bf039\");\n    if (el != null) {\n      el.textContent = \"BokehJS is loading...\";\n    }\n    if (root.Bokeh !== undefined) {\n      if (el != null) {\n        el.textContent = \"BokehJS \" + root.Bokeh.version + \" successfully loaded.\";\n      }\n    } else if (Date.now() < root._bokeh_timeout) {\n      setTimeout(display_loaded, 100)\n    }\n  }\n\n\n  function run_callbacks() {\n    try {\n      root._bokeh_onload_callbacks.forEach(function(callback) { callback() });\n    }\n    finally {\n      delete root._bokeh_onload_callbacks\n    }\n    console.info(\"Bokeh: all callbacks have finished\");\n  }\n\n  function load_libs(js_urls, callback) {\n    root._bokeh_onload_callbacks.push(callback);\n    if (root._bokeh_is_loading > 0) {\n      console.log(\"Bokeh: BokehJS is being loaded, scheduling callback at\", now());\n      return null;\n    }\n    if (js_urls == null || js_urls.length === 0) {\n      run_callbacks();\n      return null;\n    }\n    console.log(\"Bokeh: BokehJS not loaded, scheduling load and callback at\", now());\n    root._bokeh_is_loading = js_urls.length;\n    for (var i = 0; i < js_urls.length; i++) {\n      var url = js_urls[i];\n      var s = document.createElement('script');\n      s.src = url;\n      s.async = false;\n      s.onreadystatechange = s.onload = function() {\n        root._bokeh_is_loading--;\n        if (root._bokeh_is_loading === 0) {\n          console.log(\"Bokeh: all BokehJS libraries loaded\");\n          run_callbacks()\n        }\n      };\n      s.onerror = function() {\n        console.warn(\"failed to load library \" + url);\n      };\n      console.log(\"Bokeh: injecting script tag for BokehJS library: \", url);\n      document.getElementsByTagName(\"head\")[0].appendChild(s);\n    }\n  };var element = document.getElementById(\"30ed1bef-f93b-42d0-ae0d-e5fcf89bf039\");\n  if (element == null) {\n    console.log(\"Bokeh: ERROR: autoload.js configured with elementid '30ed1bef-f93b-42d0-ae0d-e5fcf89bf039' but no matching script tag was found. \")\n    return false;\n  }\n\n  var js_urls = [\"https://cdn.pydata.org/bokeh/release/bokeh-0.12.15.min.js\", \"https://cdn.pydata.org/bokeh/release/bokeh-widgets-0.12.15.min.js\", \"https://cdn.pydata.org/bokeh/release/bokeh-tables-0.12.15.min.js\", \"https://cdn.pydata.org/bokeh/release/bokeh-gl-0.12.15.min.js\"];\n\n  var inline_js = [\n    function(Bokeh) {\n      Bokeh.set_log_level(\"info\");\n    },\n    \n    function(Bokeh) {\n      \n    },\n    function(Bokeh) {\n      console.log(\"Bokeh: injecting CSS: https://cdn.pydata.org/bokeh/release/bokeh-0.12.15.min.css\");\n      Bokeh.embed.inject_css(\"https://cdn.pydata.org/bokeh/release/bokeh-0.12.15.min.css\");\n      console.log(\"Bokeh: injecting CSS: https://cdn.pydata.org/bokeh/release/bokeh-widgets-0.12.15.min.css\");\n      Bokeh.embed.inject_css(\"https://cdn.pydata.org/bokeh/release/bokeh-widgets-0.12.15.min.css\");\n      console.log(\"Bokeh: injecting CSS: https://cdn.pydata.org/bokeh/release/bokeh-tables-0.12.15.min.css\");\n      Bokeh.embed.inject_css(\"https://cdn.pydata.org/bokeh/release/bokeh-tables-0.12.15.min.css\");\n    }\n  ];\n\n  function run_inline_js() {\n    \n    if ((root.Bokeh !== undefined) || (force === true)) {\n      for (var i = 0; i < inline_js.length; i++) {\n        inline_js[i].call(root, root.Bokeh);\n      }if (force === true) {\n        display_loaded();\n      }} else if (Date.now() < root._bokeh_timeout) {\n      setTimeout(run_inline_js, 100);\n    } else if (!root._bokeh_failed_load) {\n      console.log(\"Bokeh: BokehJS failed to load within specified timeout.\");\n      root._bokeh_failed_load = true;\n    } else if (force !== true) {\n      var cell = $(document.getElementById(\"30ed1bef-f93b-42d0-ae0d-e5fcf89bf039\")).parents('.cell').data().cell;\n      cell.output_area.append_execute_result(NB_LOAD_WARNING)\n    }\n\n  }\n\n  if (root._bokeh_is_loading === 0) {\n    console.log(\"Bokeh: BokehJS loaded, going straight to plotting\");\n    run_inline_js();\n  } else {\n    load_libs(js_urls, function() {\n      console.log(\"Bokeh: BokehJS plotting callback run at\", now());\n      run_inline_js();\n    });\n  }\n}(window));"
     },
     "metadata": {},
     "output_type": "display_data"
    }
   ],
   "source": [
    "output_notebook()"
   ]
  },
  {
   "cell_type": "code",
   "execution_count": 42,
   "metadata": {},
   "outputs": [],
   "source": [
    "subset_df = coords_df.sample(n=1000)"
   ]
  },
  {
   "cell_type": "code",
   "execution_count": 43,
   "metadata": {},
   "outputs": [
    {
     "data": {
      "text/html": [
       "<div style=\"display: table;\"><div style=\"display: table-row;\"><div style=\"display: table-cell;\"><b title=\"bokeh.models.renderers.GlyphRenderer\">GlyphRenderer</b>(</div><div style=\"display: table-cell;\">id&nbsp;=&nbsp;'3a2474a4-7a55-4ddf-89e5-65bfb748ec34', <span id=\"2b781aba-482d-46ee-99c0-91eda7711cb3\" style=\"cursor: pointer;\">&hellip;)</span></div></div><div class=\"4f8b73af-c21f-43c6-85ac-bc7db6ef7286\" style=\"display: none;\"><div style=\"display: table-cell;\"></div><div style=\"display: table-cell;\">data_source&nbsp;=&nbsp;ColumnDataSource(id='d6abc833-685f-437a-8073-cd3e4b73e13f', ...),</div></div><div class=\"4f8b73af-c21f-43c6-85ac-bc7db6ef7286\" style=\"display: none;\"><div style=\"display: table-cell;\"></div><div style=\"display: table-cell;\">glyph&nbsp;=&nbsp;Text(id='e50e00c7-781f-469e-ae31-534da4eac024', ...),</div></div><div class=\"4f8b73af-c21f-43c6-85ac-bc7db6ef7286\" style=\"display: none;\"><div style=\"display: table-cell;\"></div><div style=\"display: table-cell;\">hover_glyph&nbsp;=&nbsp;None,</div></div><div class=\"4f8b73af-c21f-43c6-85ac-bc7db6ef7286\" style=\"display: none;\"><div style=\"display: table-cell;\"></div><div style=\"display: table-cell;\">js_event_callbacks&nbsp;=&nbsp;{},</div></div><div class=\"4f8b73af-c21f-43c6-85ac-bc7db6ef7286\" style=\"display: none;\"><div style=\"display: table-cell;\"></div><div style=\"display: table-cell;\">js_property_callbacks&nbsp;=&nbsp;{},</div></div><div class=\"4f8b73af-c21f-43c6-85ac-bc7db6ef7286\" style=\"display: none;\"><div style=\"display: table-cell;\"></div><div style=\"display: table-cell;\">level&nbsp;=&nbsp;'glyph',</div></div><div class=\"4f8b73af-c21f-43c6-85ac-bc7db6ef7286\" style=\"display: none;\"><div style=\"display: table-cell;\"></div><div style=\"display: table-cell;\">muted&nbsp;=&nbsp;False,</div></div><div class=\"4f8b73af-c21f-43c6-85ac-bc7db6ef7286\" style=\"display: none;\"><div style=\"display: table-cell;\"></div><div style=\"display: table-cell;\">muted_glyph&nbsp;=&nbsp;None,</div></div><div class=\"4f8b73af-c21f-43c6-85ac-bc7db6ef7286\" style=\"display: none;\"><div style=\"display: table-cell;\"></div><div style=\"display: table-cell;\">name&nbsp;=&nbsp;None,</div></div><div class=\"4f8b73af-c21f-43c6-85ac-bc7db6ef7286\" style=\"display: none;\"><div style=\"display: table-cell;\"></div><div style=\"display: table-cell;\">nonselection_glyph&nbsp;=&nbsp;Text(id='aa5788c1-1424-480c-a3a8-ff04ab584da1', ...),</div></div><div class=\"4f8b73af-c21f-43c6-85ac-bc7db6ef7286\" style=\"display: none;\"><div style=\"display: table-cell;\"></div><div style=\"display: table-cell;\">selection_glyph&nbsp;=&nbsp;None,</div></div><div class=\"4f8b73af-c21f-43c6-85ac-bc7db6ef7286\" style=\"display: none;\"><div style=\"display: table-cell;\"></div><div style=\"display: table-cell;\">subscribed_events&nbsp;=&nbsp;[],</div></div><div class=\"4f8b73af-c21f-43c6-85ac-bc7db6ef7286\" style=\"display: none;\"><div style=\"display: table-cell;\"></div><div style=\"display: table-cell;\">tags&nbsp;=&nbsp;[],</div></div><div class=\"4f8b73af-c21f-43c6-85ac-bc7db6ef7286\" style=\"display: none;\"><div style=\"display: table-cell;\"></div><div style=\"display: table-cell;\">view&nbsp;=&nbsp;CDSView(id='da6435b4-de27-44b5-8bf2-0711499e5793', ...),</div></div><div class=\"4f8b73af-c21f-43c6-85ac-bc7db6ef7286\" style=\"display: none;\"><div style=\"display: table-cell;\"></div><div style=\"display: table-cell;\">visible&nbsp;=&nbsp;True,</div></div><div class=\"4f8b73af-c21f-43c6-85ac-bc7db6ef7286\" style=\"display: none;\"><div style=\"display: table-cell;\"></div><div style=\"display: table-cell;\">x_range_name&nbsp;=&nbsp;'default',</div></div><div class=\"4f8b73af-c21f-43c6-85ac-bc7db6ef7286\" style=\"display: none;\"><div style=\"display: table-cell;\"></div><div style=\"display: table-cell;\">y_range_name&nbsp;=&nbsp;'default')</div></div></div>\n",
       "<script>\n",
       "(function() {\n",
       "  var expanded = false;\n",
       "  var ellipsis = document.getElementById(\"2b781aba-482d-46ee-99c0-91eda7711cb3\");\n",
       "  ellipsis.addEventListener(\"click\", function() {\n",
       "    var rows = document.getElementsByClassName(\"4f8b73af-c21f-43c6-85ac-bc7db6ef7286\");\n",
       "    for (var i = 0; i < rows.length; i++) {\n",
       "      var el = rows[i];\n",
       "      el.style.display = expanded ? \"none\" : \"table-row\";\n",
       "    }\n",
       "    ellipsis.innerHTML = expanded ? \"&hellip;)\" : \"&lsaquo;&lsaquo;&lsaquo;\";\n",
       "    expanded = !expanded;\n",
       "  });\n",
       "})();\n",
       "</script>\n"
      ],
      "text/plain": [
       "GlyphRenderer(id='3a2474a4-7a55-4ddf-89e5-65bfb748ec34', ...)"
      ]
     },
     "execution_count": 43,
     "metadata": {},
     "output_type": "execute_result"
    }
   ],
   "source": [
    "p = figure(plot_width=600, plot_height=600)\n",
    "p.text(x=subset_df.x, y=subset_df.y, text=subset_df.token)"
   ]
  },
  {
   "cell_type": "code",
   "execution_count": 44,
   "metadata": {},
   "outputs": [
    {
     "data": {
      "text/html": [
       "\n",
       "<div class=\"bk-root\">\n",
       "    <div class=\"bk-plotdiv\" id=\"e397144c-15d1-4623-8d02-7dd5bf52c322\"></div>\n",
       "</div>"
      ]
     },
     "metadata": {},
     "output_type": "display_data"
    },
    {
     "data": {
      "application/javascript": [
       "(function(root) {\n",
       "  function embed_document(root) {\n",
       "    \n",
       "  var docs_json = {\"8c33614e-6827-425f-8a32-4b89ab3f77cf\":{\"roots\":{\"references\":[{\"attributes\":{\"text_color\":{\"value\":\"black\"},\"x\":{\"field\":\"x\"},\"y\":{\"field\":\"y\"}},\"id\":\"e50e00c7-781f-469e-ae31-534da4eac024\",\"type\":\"Text\"},{\"attributes\":{},\"id\":\"51c22eb0-39ff-42dd-adfd-0b5c96d13270\",\"type\":\"BasicTicker\"},{\"attributes\":{},\"id\":\"574751f3-9819-45a1-9c7c-fe546fed77eb\",\"type\":\"WheelZoomTool\"},{\"attributes\":{\"callback\":null},\"id\":\"e9201975-591c-49ea-b9b8-9b8a83c0d160\",\"type\":\"DataRange1d\"},{\"attributes\":{},\"id\":\"707c72b5-c9ac-44b5-9dc6-63fc6555a01a\",\"type\":\"BasicTickFormatter\"},{\"attributes\":{\"source\":{\"id\":\"d6abc833-685f-437a-8073-cd3e4b73e13f\",\"type\":\"ColumnDataSource\"}},\"id\":\"da6435b4-de27-44b5-8bf2-0711499e5793\",\"type\":\"CDSView\"},{\"attributes\":{\"plot\":{\"id\":\"b25d3404-29db-4d76-b908-e3f2c54ca087\",\"subtype\":\"Figure\",\"type\":\"Plot\"},\"ticker\":{\"id\":\"51c22eb0-39ff-42dd-adfd-0b5c96d13270\",\"type\":\"BasicTicker\"}},\"id\":\"b86f23f1-160d-49d0-9e3a-c97bcf86eb44\",\"type\":\"Grid\"},{\"attributes\":{\"plot\":null,\"text\":\"\"},\"id\":\"7b8d449b-011a-4633-832b-d26e9a254902\",\"type\":\"Title\"},{\"attributes\":{},\"id\":\"0caf9dcd-9bac-4a97-a6b5-2a30627b8113\",\"type\":\"HelpTool\"},{\"attributes\":{},\"id\":\"aa81f508-bdbe-48b8-85d2-a2b8a5ada66a\",\"type\":\"BasicTickFormatter\"},{\"attributes\":{},\"id\":\"3f207544-1793-48b5-b497-1a53858a4661\",\"type\":\"SaveTool\"},{\"attributes\":{\"text_alpha\":{\"value\":0.1},\"text_color\":{\"value\":\"black\"},\"x\":{\"field\":\"x\"},\"y\":{\"field\":\"y\"}},\"id\":\"aa5788c1-1424-480c-a3a8-ff04ab584da1\",\"type\":\"Text\"},{\"attributes\":{\"below\":[{\"id\":\"f2c2f633-75eb-4a54-903a-e00b6971149c\",\"type\":\"LinearAxis\"}],\"left\":[{\"id\":\"f2db10f1-45d4-4497-8e79-d9fefc5f5dbd\",\"type\":\"LinearAxis\"}],\"renderers\":[{\"id\":\"f2c2f633-75eb-4a54-903a-e00b6971149c\",\"type\":\"LinearAxis\"},{\"id\":\"b86f23f1-160d-49d0-9e3a-c97bcf86eb44\",\"type\":\"Grid\"},{\"id\":\"f2db10f1-45d4-4497-8e79-d9fefc5f5dbd\",\"type\":\"LinearAxis\"},{\"id\":\"3d01f585-fd40-4c53-8385-ad95dd51a899\",\"type\":\"Grid\"},{\"id\":\"cdc7f001-5ac9-49d1-8bce-7f6a90ed94a4\",\"type\":\"BoxAnnotation\"},{\"id\":\"3a2474a4-7a55-4ddf-89e5-65bfb748ec34\",\"type\":\"GlyphRenderer\"}],\"title\":{\"id\":\"7b8d449b-011a-4633-832b-d26e9a254902\",\"type\":\"Title\"},\"toolbar\":{\"id\":\"da28afc6-d943-48a9-91d5-23184cb48a9b\",\"type\":\"Toolbar\"},\"x_range\":{\"id\":\"361d6539-3af7-499b-9288-acdfb7b19277\",\"type\":\"DataRange1d\"},\"x_scale\":{\"id\":\"410b29b9-de65-4a6b-aa53-544c4ec3b333\",\"type\":\"LinearScale\"},\"y_range\":{\"id\":\"e9201975-591c-49ea-b9b8-9b8a83c0d160\",\"type\":\"DataRange1d\"},\"y_scale\":{\"id\":\"ba75d3fd-aa26-4519-8615-b955bba4f2d7\",\"type\":\"LinearScale\"}},\"id\":\"b25d3404-29db-4d76-b908-e3f2c54ca087\",\"subtype\":\"Figure\",\"type\":\"Plot\"},{\"attributes\":{},\"id\":\"a82bb170-4bed-4fe9-aa2f-29aad41ee6cd\",\"type\":\"BasicTicker\"},{\"attributes\":{\"formatter\":{\"id\":\"aa81f508-bdbe-48b8-85d2-a2b8a5ada66a\",\"type\":\"BasicTickFormatter\"},\"plot\":{\"id\":\"b25d3404-29db-4d76-b908-e3f2c54ca087\",\"subtype\":\"Figure\",\"type\":\"Plot\"},\"ticker\":{\"id\":\"51c22eb0-39ff-42dd-adfd-0b5c96d13270\",\"type\":\"BasicTicker\"}},\"id\":\"f2c2f633-75eb-4a54-903a-e00b6971149c\",\"type\":\"LinearAxis\"},{\"attributes\":{\"callback\":null},\"id\":\"361d6539-3af7-499b-9288-acdfb7b19277\",\"type\":\"DataRange1d\"},{\"attributes\":{},\"id\":\"410b29b9-de65-4a6b-aa53-544c4ec3b333\",\"type\":\"LinearScale\"},{\"attributes\":{\"overlay\":{\"id\":\"cdc7f001-5ac9-49d1-8bce-7f6a90ed94a4\",\"type\":\"BoxAnnotation\"}},\"id\":\"76f5d630-2089-4df5-b8c5-bbd5f15089ea\",\"type\":\"BoxZoomTool\"},{\"attributes\":{\"formatter\":{\"id\":\"707c72b5-c9ac-44b5-9dc6-63fc6555a01a\",\"type\":\"BasicTickFormatter\"},\"plot\":{\"id\":\"b25d3404-29db-4d76-b908-e3f2c54ca087\",\"subtype\":\"Figure\",\"type\":\"Plot\"},\"ticker\":{\"id\":\"a82bb170-4bed-4fe9-aa2f-29aad41ee6cd\",\"type\":\"BasicTicker\"}},\"id\":\"f2db10f1-45d4-4497-8e79-d9fefc5f5dbd\",\"type\":\"LinearAxis\"},{\"attributes\":{\"bottom_units\":\"screen\",\"fill_alpha\":{\"value\":0.5},\"fill_color\":{\"value\":\"lightgrey\"},\"left_units\":\"screen\",\"level\":\"overlay\",\"line_alpha\":{\"value\":1.0},\"line_color\":{\"value\":\"black\"},\"line_dash\":[4,4],\"line_width\":{\"value\":2},\"plot\":null,\"render_mode\":\"css\",\"right_units\":\"screen\",\"top_units\":\"screen\"},\"id\":\"cdc7f001-5ac9-49d1-8bce-7f6a90ed94a4\",\"type\":\"BoxAnnotation\"},{\"attributes\":{\"callback\":null,\"column_names\":[\"x\",\"y\",\"text\"],\"data\":{\"text\":[\"Wise\",\"heavier\",\"sting\",\"shutter\",\"reverie\",\"planted\",\"remains\",\"Infinite\",\"bench\",\"come\",\"simpleton\",\"peas\",\"joy\",\"mischief\",\"LITTLE\",\"irritating\",\"allowed\",\"cousin\",\"trampling\",\"duped\",\"torments\",\"wheeled\",\"fond\",\"ah\",\"thanking\",\"alacrity\",\"grasp\",\"crest\",\"Sea\",\"stroll\",\".'\\\"\",\"indignantly\",\"purposely\",\"fluttered\",\"statue\",\"painter\",\"rake\",\"SIR\",\"information\",\"citizens\",\"engagement\",\"Isabella\",\"bonds\",\"branching\",\"simultaneously\",\"clapping\",\"scud\",\"darker\",\"gale\",\"abhorred\",\"vanishing\",\"burned\",\"Gregory\",\"tumultuous\",\"owe\",\"exquisitely\",\"fraud\",\"gentle\",\"inverted\",\"gallows\",\"Damn\",\"soothe\",\"echoing\",\"desert\",\"Since\",\"sleepers\",\"however\",\"sense\",\"waste\",\"going\",\"deck\",\"vine\",\"appear\",\"rejoice\",\"remainder\",\"fair\",\"notched\",\"accomplices\",\"gingerbread\",\"besides\",\"drowned\",\"shoemaker\",\"plot\",\"favourite\",\"nephews\",\"uncivil\",\"sooner\",\"Never\",\"lounging\",\"smells\",\"punished\",\"Java\",\"unconscious\",\"sphere\",\"indifferent\",\"relating\",\"peasants\",\"series\",\"demon\",\"strawberries\",\"chuckling\",\"appointed\",\"newly\",\"virtues\",\"assume\",\"growing\",\"Sebastian\",\"Beatrice\",\"already\",\"accompanying\",\"ribbons\",\"consolation\",\"attitude\",\"threw\",\"Neapolitan\",\"ruin\",\"\\\"\",\"eager\",\"extinguished\",\"supper\",\"Dashwoods\",\"gilt\",\"parted\",\"scorched\",\"judging\",\"furiously\",\"Christ\",\"indulging\",\"respectable\",\"lump\",\"heaven\",\"heartily\",\"employments\",\"meanest\",\"retreat\",\"Exeunt\",\"games\",\"Unseen\",\"method\",\"imprudent\",\"coloured\",\"Gardens\",\"buns\",\"verbal\",\"bleed\",\"allies\",\"spending\",\"speechless\",\"accepting\",\"shattered\",\"strangely\",\"liking\",\"brooding\",\"----\\\"\",\"affectionately\",\"some\",\"crews\",\"thrown\",\"declares\",\"indiscriminately\",\"observations\",\"pupil\",\"lightness\",\"hopes\",\"twos\",\"Bell\",\"Descend\",\"pause\",\"perverse\",\"sunshine\",\"vowed\",\"parchment\",\"noises\",\"tulip\",\"shipmates\",\"buoyant\",\"angel\",\"actually\",\"glassy\",\"moved\",\"soup\",\"tasting\",\"disputes\",\"breakfast\",\"Seraphim\",\"defence\",\"neither\",\"us\",\"unwilling\",\"gaiety\",\"mutton\",\"objections\",\"flourish\",\"snowy\",\"plum\",\"ken\",\"brain\",\"Duke\",\"concert\",\"activity\",\"vial\",\"Seven\",\"brilliancy\",\"source\",\"conditions\",\"officious\",\"stocks\",\"irrational\",\"plagues\",\"girth\",\"Driven\",\"faded\",\"fiery\",\"conspicuous\",\"opportunities\",\"piano\",\"twigs\",\"metal\",\"dupe\",\"loues\",\"splendid\",\"fright\",\"remind\",\"borrowed\",\"walk\",\"freed\",\"torture\",\"producing\",\"liked\",\"Tell\",\"bulwarks\",\"prepared\",\"Cato\",\"horrible\",\"excuses\",\"artful\",\"Moby\",\"sized\",\"prosperity\",\",\\\"\",\"Saying\",\"has\",\"desperately\",\"herbs\",\"survived\",\"designs\",\"stare\",\"Fanshaw\",\"Open\",\"conclusion\",\"beggar\",\"wall\",\"shawl\",\"crutch\",\"withdrawing\",\"affair\",\"paying\",\"book\",\"grounds\",\"baker\",\"hours\",\"abated\",\"sorrows\",\"successful\",\"moonlit\",\"honours\",\"establishment\",\"Dutch\",\"hind\",\"noiseless\",\"Gingerbread\",\"&\",\"Windmill\",\"tumbler\",\"entry\",\"courteous\",\"lent\",\"vacantly\",\"mean\",\"twin\",\"wilful\",\"shifting\",\"yea\",\"quarrel\",\"readily\",\"shaven\",\"embraces\",\"released\",\"decline\",\"tales\",\"accordance\",\"Princedoms\",\"Chance\",\"peers\",\"madly\",\"parlour\",\"Greywood\",\"elastic\",\"raises\",\"whatever\",\"elect\",\"Kensington\",\"lance\",\"figs\",\"latch\",\"superfluous\",\"Ere\",\"dominion\",\"madam\",\"transformed\",\"excess\",\"neighbour\",\"quicker\",\".--\",\"delivery\",\"weather\",\"labour\",\"secrecy\",\"wooden\",\"flye\",\"all\",\"sperm\",\"oblivious\",\"situation\",\"vague\",\"snug\",\"narrated\",\"free\",\"damp\",\"leant\",\"bottom\",\"propitious\",\"YOUR\",\"smiles\",\"worst\",\"thence\",\"Friend\",\"commanded\",\"chamber\",\"slumber\",\"taking\",\"exclaimed\",\"balanced\",\"Volumnius\",\"doth\",\"upward\",\"Saviour\",\"resentment\",\"tun\",\"miraculous\",\"courtesy\",\"jerking\",\"authorities\",\"Thunder\",\"Night\",\"traditions\",\"brute\",\"Antarctic\",\"guard\",\"warlike\",\"ordinarily\",\"Hath\",\"seamen\",\"along\",\"fairest\",\"gossip\",\"fowl\",\"nut\",\"pretend\",\"early\",\"Seen\",\"smoky\",\"universal\",\"reign\",\"weeding\",\"strongly\",\"fruitless\",\"Boy\",\"land\",\"duellists\",\"shadow\",\"no\",\"there\",\"whip\",\"Yet\",\"remotest\",\"COULD\",\"physical\",\"coiled\",\"smelling\",\"Tranquo\",\"Gresham\",\"Laughing\",\"sit\",\"conveyed\",\"collected\",\"childish\",\"shyness\",\"honesty\",\"patches\",\"Lords\",\"Caska\",\"pirate\",\"surpassed\",\"clumsy\",\"pursue\",\"excessively\",\"soil\",\"stave\",\"particularly\",\"masts\",\"difficulties\",\"breaks\",\"searching\",\"acquainted\",\"fasting\",\"slacken\",\"foresight\",\"NANTUCKET\",\"scales\",\"Dormouse\",\"Ishmael\",\"taken\",\"rested\",\"floated\",\"group\",\"finde\",\"cheered\",\"delivered\",\"Israel\",\"schoolroom\",\"confusing\",\"avoided\",\"sufferance\",\"abuse\",\"moon\",\"tree\",\"play\",\"high\",\"drawers\",\"walked\",\"tulips\",\"disappearing\",\"Get\",\"hawk\",\"intimate\",\"amuse\",\"extreme\",\"echoed\",\"Fell\",\"intoxication\",\"dove\",\"pre\",\"home\",\"cider\",\"tolerable\",\"stop\",\"trap\",\"vicissitudes\",\"WELL\",\"Wheeler\",\"vibrating\",\"incensed\",\"acquaintance\",\"plump\",\"stove\",\"Through\",\"proof\",\"balcony\",\"strawberry\",\"lined\",\"disliked\",\"Raise\",\"flowed\",\"flame\",\"ordinary\",\"shuttle\",\"wanting\",\"instances\",\"pail\",\"job\",\"complicated\",\"summit\",\"helmsman\",\"seconded\",\"transfigured\",\"brandishing\",\"vapours\",\"hunt\",\"Easy\",\"expected\",\"They\",\"snatched\",\"traces\",\"wait\",\"started\",\"death\",\"creating\",\"scratch\",\"composed\",\"instruction\",\"Rollaround\",\"working\",\"float\",\"Ireland\",\"blasted\",\"respectful\",\"gasping\",\"THAT\",\"sugar\",\"feed\",\"magnificent\",\"barb\",\"justified\",\"snapped\",\"report\",\"sometimes\",\"warm\",\"stay\",\"curiously\",\"slate\",\"Put\",\"blending\",\"feebly\",\"commenced\",\"beare\",\"harpooneers\",\"just\",\"trifle\",\"Lakeman\",\"formless\",\"waif\",\"buoyancy\",\"furnishing\",\"disagreeable\",\"predictions\",\"shone\",\"seats\",\"wheat\",\"limping\",\"fowls\",\"mould\",\"Bruno\",\"marbles\",\"Pilgrim\",\"ardour\",\"buckle\",\"outer\",\"legged\",\"scene\",\",\",\"Can\",\"brim\",\"levelled\",\"blossoms\",\"habits\",\"Revolution\",\"sovran\",\"Wheel\",\"crossed\",\"resolute\",\"hovering\",\"startled\",\"ladies\",\"April\",\"eyeing\",\"Henry\",\"hurled\",\"bachelor\",\"civilization\",\"meditations\",\"faltering\",\"flowers\",\"old\",\"pain\",\"statement\",\"HERE\",\"refrained\",\"harshly\",\"constitution\",\"specialist\",\"OCTAVO\",\"always\",\"resembled\",\"ascribed\",\"magnet\",\"isolated\",\"avast\",\"restaurant\",\"observe\",\"Montem\",\"Cannibal\",\"Land\",\"understood\",\"moored\",\"comic\",\"amiable\",\"minded\",\"departed\",\"paragraph\",\"provide\",\"posts\",\"Gottlieb\",\"formed\",\"harvest\",\"perform\",\"Seed\",\"mariners\",\"kind\",\"Supper\",\"Wind\",\"Hands\",\"forks\",\"Dan\",\"footed\",\"committed\",\"sensible\",\"urged\",\"Cask\",\"seek\",\"sanctity\",\"disdained\",\"vigilance\",\"innumerable\",\"grating\",\"worthless\",\"discretion\",\"pursuits\",\"distracted\",\"appointment\",\"into\",\"fact\",\"mole\",\"charm\",\"proceeds\",\"Queen\",\"descends\",\"throng\",\"gleamed\",\"pitty\",\"incredible\",\"electioneerer\",\"farce\",\"blazes\",\"Line\",\"victorious\",\"commander\",\"throwing\",\"hate\",\"desiring\",\"question\",\"shakes\",\"crouching\",\"historical\",\"hose\",\"horrid\",\"With\",\"introduce\",\"Susan\",\"profits\",\"wiping\",\"chop\",\"dusky\",\"pop\",\"charms\",\"swore\",\"fro\",\"greasy\",\"Jew\",\"balm\",\"motley\",\"wont\",\"dissent\",\"instantaneous\",\"smash\",\"Major\",\"plaintiffs\",\"Harris\",\"third\",\"Harley\",\"prow\",\"papa\",\"lunch\",\"calamity\",\"terrors\",\"happiest\",\"Bildad\",\"girl\",\"Fins\",\"began\",\"cabin\",\"sweeping\",\"engrossed\",\"Made\",\"sermon\",\"Egyptian\",\"experience\",\"purely\",\"elves\",\"wakened\",\"Todhunter\",\"conceive\",\"contact\",\"hereafter\",\"wrinkles\",\"spring\",\"idiotic\",\"Ever\",\"swelled\",\"sprung\",\"happens\",\"seriousness\",\"accused\",\"reward\",\"voices\",\"attended\",\"gather\",\"Wilkinson\",\"headlines\",\"text\",\"grow\",\"Reason\",\"didst\",\"bower\",\"Actus\",\"knife\",\"Nightingale\",\"hush\",\"dunce\",\"generall\",\"grounded\",\"miserable\",\"abroad\",\"peace\",\"exact\",\"brethren\",\"sisters\",\"handed\",\"Hardy\",\"North\",\"Chimney\",\"redeem\",\"ark\",\"stars\",\"storied\",\"presents\",\"Ten\",\"child\",\"savagely\",\"Inn\",\"torrent\",\"betook\",\"scuttle\",\"renounce\",\"punctual\",\"feare\",\"Going\",\"decanter\",\"service\",\"deep\",\"effectual\",\"curved\",\"anew\",\"detected\",\"female\",\"piazza\",\"writer\",\"abruptness\",\"desirous\",\"Think\",\"reveries\",\"childhood\",\"LORD\",\"striding\",\"Began\",\"temperate\",\"Now\",\"detain\",\"fame\",\"confinement\",\"secretly\",\"We\",\"isolation\",\"without\",\":--\",\"Syrian\",\"lands\",\"deadly\",\"scarlet\",\"Rain\",\"pier\",\"occasional\",\"lived\",\"lastly\",\"milk\",\"herself\",\"member\",\"deficiency\",\"toil\",\"infallibly\",\"persisted\",\"uncles\",\"aristocratic\",\"Capitoll\",\"useful\",\"William\",\"Fifty\",\"stupid\",\"ginger\",\"Cat\",\"shadows\",\"confused\",\"forehead\",\"border\",\"Too\",\"scrambling\",\"Price\",\"ninety\",\"constrained\",\"Dalroy\",\"Chambermaid\",\"recorded\",\"leapt\",\"compassion\",\"derive\",\"Wherefore\",\"yarn\",\"blest\",\"balls\",\"Sure\",\"Joe\",\"adding\",\"seasons\",\"leviathan\",\"by\",\"miles\",\"piety\",\"thrones\",\"knives\",\"Ill\",\"laying\",\"nuptial\",\"profoundest\",\"entertainment\",\"Portia\",\"painful\",\"embraced\",\"bigness\",\"'-\",\"unearthly\",\"dropping\",\"consent\",\"capstan\",\"squall\",\"kinds\",\"Ha\",\"baffled\",\"tropic\",\"permit\",\"Anne\",\"insignificant\",\"rockets\",\"Strike\",\"fulfilled\",\"beds\",\"scruples\",\"gained\",\"kicking\",\"happier\",\"diversion\",\"Her\",\"sofa\",\"dawned\",\"sir\",\"questioned\",\"Woods\",\"recommendation\",\"explanations\",\"tucked\",\"taint\",\"autumn\",\"illness\",\"mustn\",\"induced\",\"falling\",\"deserts\",\"pillow\",\"tongue\",\"wonted\",\"aspiring\",\"discover\",\"pianoforte\",\"letting\",\"audience\",\"crescent\",\"strife\",\"inside\",\"Babel\",\"church\",\"landing\",\"RIGHT\",\"died\",\"stiff\",\"shriek\",\"couldn\",\"Creator\",\"PIP\",\"Tuesday\",\";'\",\"Archer\",\"enraged\",\"sherry\",\"Bank\",\"Thief\",\"4\",\"strips\",\"jointure\",\"subterraneous\",\"cucumbers\",\"anon\",\"45\",\"Herculaneum\",\"dale\",\"seemingly\",\"Prussian\",\"Messiah\",\"policeman\",\"avenue\",\"proportions\",\"gulf\",\"withdrew\",\"hurrying\",\"images\",\"successive\",\"tyrant\",\"rain\",\"nights\",\"music\",\"recovery\",\"honest\",\"Collection\",\"Things\",\"knocking\",\"amidst\",\"glanced\",\"Grand\",\"kissed\",\"breadth\",\"wanderers\",\"Temple\",\"sin\",\"reaped\",\"firework\",\"wants\",\"Zelia\",\"plan\",\"hangs\",\"reluctant\",\"--\",\"disappointments\",\"live\",\"mob\",\"Lest\",\"dream\",\"Fairy\",\"drawled\",\"loses\",\"emphasis\",\"Laura\",\"partly\",\"Coming\",\"handsomely\",\"sociable\",\"summoned\",\"handle\",\"ransom\",\"power\",\"WHO\",\"usurpation\",\"peered\",\"pray\",\"Coon\",\"Arthur\",\"pretended\",\"varieties\",\"lend\",\"wicked\",\"furthest\",\"clamour\",\"tie\",\"roses\",\"hopeful\",\"Guernsey\",\"essence\",\"Hell\",\"counter\",\"Pull\",\"petty\",\"attempt\",\"seconds\"],\"x\":{\"__ndarray__\":\"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\",\"dtype\":\"float32\",\"shape\":[1000]},\"y\":{\"__ndarray__\":\"7W4aP9gDSj5PDK+9DeDIvqMRsr76kBi/BLEnPgVp6zzumAO/pz/jPohxoT4iBAm/b9w1Pv8psz5UZYs/ZFYqvfiRsD6817g+W5KUvow+kT6jrDe8SrwMv4bz2z6a/u0+892oPpVy6L2fCeu+UVMyv7Fy/r4mOIC+xqsQP9ggoD5UVIi9cOIRvxpiM75Xd4w+wHvNvvbNIT9AZ9Q+bC1HPqjJzD7HI3s9JHNdu9p1Er+99ie/q+uevXpcEr8PW8m+CYyKvrsfwzykjhw9qZXPPcceHD4PAB2/dzsWP34s7b0nb1k+z9M+voVkjr0Hs4M+kgcGP4f4wj1OVwi/CmNyvhUZqj7sFrW+EouNPvFgiz69J6M+++TAPvT2Gr+YdyW/JbivPjH3aD70C8M9GXpgPiQaqb5pLxk+JMsRPs4pvj5sMl++GEdRvaBqkL70Oa0+VZUmvt/Hqj5yFM4+PNILP0JkEL8yEqi+GNIIP7jC6r6ZiMq9eAK2vtWXrj7VIPM9TsnDvSX8o76HH6q+Oeu7PmBQ1LvGNi49ZNhvvigPwD2Mx50+8tbFvtzeCD8L0pC+tA5EvMnsxb59/Li+nYG8Prb9iL4AGde+U9JjvUw0Tz653AQ/hG7gPfTqcb4/yJ0+hTOdPhKUM7+lQN88nbdIvrFYfj4gwUy+EwIuPk0XqD3nDK8+fy6LvqoF2b6YP9k+HuCgPV/kYT6ySa29nmzBPryqtL2HAM++XTORPhnXSj3xYR2/uQaivm4Qkj7rTuA8xQ+tPsXveL5WNAC+mDy/vroEhj5H4S2/EzSFvtMgyD78Ws2+Sc39PpOEo75Z6bE9ymbcvvRi6r6f8aQ98OgRvph9oT7BiFU+BzZ7vgtGrD62Cey+4vvnPskW9LygwG0+ea5rPJhhGr/jq348Ee0lv0kBBb/j0zq9dEDiPpjOnL6JTkQ8hqYtPjQLDr/N6bu+gYJ/vPSlej5uZQi+ndiCPm5q3L5YZrc+3YLVPucP6z414dg+4ehhPvHWtz5eeeI+/AcePgkTA78xyH89WdDhvZ7BPr4ZZYg+xz8XvlBoAT43Wwe/uOyvPK0rn74wBEE+2O2LPsPCnjz9kKe+ge+2vdh8rr2oIoO+rPUCv1Z+Or+NhjC/Kx4LvikpDz6VY5g+C6cCv7BGNr8RR3M83zgvP1UgTL4I3eY9oabZPp71RL7GLzQ+2En4PamjrT6k0Ig9sfTlPiMHIT/BHSC/oPsxPtJhRD+whaO9X1a1Pgw+RD4h1B++pQXQvawDhj4I5No+9C+VvoD1jT4OcpQ+J2rSviGJWL6VDEk+mOVCveN0jT7ww7U+a0ZhPm+pBjyjUiq/KPabvoaVnb7DP++92CS2PlkLrz6YsfE9FbxnPe4iV7pa8Js8yHDyvpdcuj0BZKg+ZAQRv0CIYD051G8+2LtAvQJWEr9z4xS/bJrNPmWeNT3d+WS+TRcLv1HNz74twlU+CImEPugk1b769ig/wbf2vv9vgT5cfPK+Ws3MPf5I7j5LkJQ+2PYHv+mFvr1cySy+T/51PgxlYz7O4ri+l2WKvQGqhj7OSvG+/me1vVdnc77XCUQ+Js6WvrfiVj64i6E+c77XPcZ6k77SDQ6/kAzTvkPKiL6QG2E+4YMMPsb7+D2dEB4/KZl7vp5UIT76gw0/DYpevgEQFD+QYSC+QBNrvgcAiz6zj48+Axgov2eiHD9548C9tfNxvlVOFz1fqMM+vn4KPsdZWT5MYAI+hTi4PsIhwr7SGwS/TDoav7sGObvKLR4/4TUbPpuu2z4kqpS+JDBXP9Nxy75+xgK/KS4Hv9V+uD1FCK8+02vXvjBaJT+Lglo/Wd86v/8LLj6kWJI9DqS+vlO+qr3HPr0+Zvfjvh1DZD1fJOA+SBuZvUO8sD2AL4E+Q/2EviBHkr7Q25i+mC+yvc67dz78qbG+9lYEv3gbp742py8+XUsOv5uHtr62VRw/BJUwPpm24r4H79i+HRCQvu+ZHj4MrIo+vVirPrTaZr3IwMk+654Cv15c5r5+mh+/WQi/PnLiZz5laZG+11CCPhNhMr7DvQw/rIRzPtqBFr8iRha/qMkQPvtfvT4/uJu+BXCdPvMTjz2CJGe9Dd1zPoKnaT46lLI+FwUNvyM6wT6agmY/ZjsCPqnlaL3bSfS+erhVPUlYBT/E3Am/JMSZPn+8xD4JUCy/ZlO0PpfTkb14vqC+7sHePkhzFz7M7cK+ZaeEPc9Rgj9R2s6+UJ1uPlVXEj95A4A+jmj4vgSoNb/shQe/e6JFP7LcBb4yKDi+H64OvkWNwr7ao2s+TiyDPsJ2ez6sH5w+hxU5v53BGb8TM9Y+VZIIv/ERJL5Op7a+h1TOvo2pub7LSA0/ZBXyvpynaD5sd789OezJvU2jE76/9Qq+WMSGvZnx/L6NBgK+i+yjPo4RnD06zoE+GS8AP9Jw474zZ5K9euFtPplPQD/zTiG/gyaCvUNcuj66nqW9Qu0Hv3lwz76xLbA+tYkcvxEYEr8H6zS/OEWWPakXpD32GS2/TGg/v/hxAT6sj6u+EUXFPk8vCz3G0b++lpFoPo0N4r5r7Ri/j2Lqvqajkb3glzq+o+kGv6/5D790J9E+be+jPq0dtz5IdRW+uFzrvimWir0k5QY/uHGqvvw+oj4//z2+90X8PfCwgz1MX08+lc6EPXgYtD1aurC+aUiZPltph72x5ye9HUsCv2i4Gj8S33g+ej1fPtpXqL7A0ZO+JcysPq8Hzb7C8aI+UFpAPn7PpjxXbgg/557tvpmrE7/BGKA+LKkJv3pQwr1BTeu+WEpZPyPtwr41EdE99PSIPuP8Nb4ZMLK+v6OWvkWXLb7wpP2+YIOSPkHqFD53oDe/aB4uv2ICUr0TbUm+Z1MYv6l/AL8kevi+DiwLvkpFXj76qRA+rViUvUTaKL+vhRG/Mxitvt0+kr7D8i0/S3Atv5ZnH7887S+/0w2APrpIAz/GfqM+vYtqvOylGL+RfMG++k43v+zTjL7mKGc+/YCEPjllt76XGuY9CFksv4KSxz0pLLA91momPuPehr2qah+/DMQMPdzCgT7cD5U+eZAJP6Ho9D2Nqp4+NbcuPk91nz2Ay2s/KxHLPmGCxLyg5t48gAV0vTaW8b5q7QQ/7tG/vpzI0T4tEt0+pH5uPsqJtb2gJb8+9nOGvhapwr2P7L8+tplcPuVzirsbG8G8+72nPptF876SeYy904Uivcftkr6ZprY+Zh97PsP1l76NaC4++wQdPuOApT4Vps89nWuRvvvkfT6uBaq+zFbUPnNNzT6xxqQ+7npSP6Rl2T7v3C4+PvNyO47bAb3dSie/vS7Yvq8HjD7wPbc+Xr3FPfHTar59ZRe++InrvuTSpT5NByW/Pu+kvJoiLj6UE2k+w9nlPd/en74Xlje/54uTPqDFdj1ky6A+vgIJPlqYBj+rFU6+S6D+uXKVkL6moZy+GFEGP3nVuT6tP8c+bWCgvlDQBL8psXw+h4DivqqH/L4/oU++EDm3PqE5yT79bq0+YtDqvmg87z4w8CW/GRWPPVr05j2WzII++3Y1v1WuJ78F0u09L+jTvp8DZ74r3lQ+kNxNPqyvxb3+C6I+giiaPcyBJL77yHo9vMqdvjwqhj58My6/UfIhP9p3jT4Xx/89YgqWvrcW3D4g8w8++E+xPu9VZj+Jr969CsIBv8C4F7/eVmC9CegHPb5uCj78lIC+6Eu+Prj0dT5K3fW+iuhqPX4Tzz47tfI+3yzIuxA/sT6+pCe/hr8xvk6fhj5yGEe+O6Mwv8kCEL9Tbd8+H2XNvWMntb1rArM++i2evpSCdT6aufc9J0/NPlh9+b0Eiwg+v+W7vTrteD7u4yo/wOjvvquqZj/849++nLyJPv9Ynj4JuhI+OcEAP3K8kD2gwtQ+7Z2TPh+Omz5D3BA+ScHLvR7IqD7zkfq+mfmrPvLB074DG70+N52LPmyJmb6Rnie/7Ycbvm1+BD45RE++soDtPkrDXj74BCO+LIEKv0EhDL+bLR2/kInQPcyPdD7goFI/m4KBPrnDjL7iirs++JUTv96ALz7RDjK/B5UAvoY8ZD6isja+Oobhvq47GL1UkQS+jjS2PrfpFj+ZCc++zVrrPFdtQj8e1iO/Nojvvnjr0T0xUuM+TlkMP74WDT7V8jA9KLOJPi1n+T7d3rY9oHmBPs8Brb1pAcK+qRcev+hOITzvqzG/UVxRPjkUsb6PoWi+cdAzPmIyjD7MYTQ9RzO2PqHwLj4fMCg+HoUpvQLzdL2H6NI+9WH6Pbb/7b7VhhY/BAzRPpu+wT6VOw8+7TPyPgVyGD8H4Mk+2iIvv+pgJ77VXRq/A7zEvvbQtz5ob4y+iTvYPri+3r19zTK+y2gFPq8x+D5h4nk+du4jv0SomT7jXpE+6NqzPiWTsj7a5JE+rfHAvR+PET9J+Jk+cBhUPh/b5r1gMYe+QKsZvuDzqL2z0zU+6F+EvvG4Ar+Bqqc+AUUivlBgpr4H6ie+OtiAPXX2HD+VSo0+XmRDvoGwoL416bC+XjWKvv9fGr+9Is0+Afe/vUldnL6Y3m6+XIosP/DgL77QVWO9AmEQP2Vq3z4xp7Q9UtkZvmXgnj6gpWk+9eEKv/HbkD0chVA+vp7fvrjP4j5qeYo+wCu+PZNIcL2Ntmm+JWYaP+6xcz1ZN4Y9QcY6PrXXvT24C+a+kSbDvOuu9775J5M+RZUPP8rkhD6IHhS/C4JTPVNCDr/SKrI+wWgqvsqHFz4yyKI+NtLOvaS8+b2BNYa9TP0bv8Zkez7c/aO+IGXCvYy9bb45Vdu+xDRzP0fa1T24hMK+E+C5vmCdJD/CRZE9QMhtPx76rD7HlK49dxa9PrxmS70QbBM7i7Acvt+v6T7sNQA/w1ACv+YPqT7lEvG9E4Rzvi+bLL9Wmh8/Z8KUvhn+Eb+n0xi/C0KuvbO7Jj6CxIk+CXgjv2qHfr6Ezgm/QgiFvinn9b4YfKy+zJq7voFIZD5zNRa/n2NyvobKJb7n6U4+SB64Plug8j3vC5Q+PFt+vqfECb/+DM2+oKd2vq+Imb7Ykgm/KSLcvhw4g77O3pw+aZPLvsiOXL6joQ4/Zb9CPrjCpT4eseq+lmhhvuYrvz7LSFS99QfiPgwpv74tBlQ+Z3vBPkBAED6ssXY+z8UCvSAhOz7hw8E+EAKjvuXACT7Cv7g+DbfCPVZm1r3tOPy+bHHtPaqNlj4FBVc/UefEvBNLEr/knSU/FIyGvkfs1D7FQE8+q9wfvedHCT8g59Y+7zggvrWuFr+xdo++PKMzv84FHj4w3NU9DLWlva/GAr5UiOy+Ge0UPx6Lqj2MeMc+pu8zvg==\",\"dtype\":\"float32\",\"shape\":[1000]}},\"selected\":null,\"selection_policy\":null},\"id\":\"d6abc833-685f-437a-8073-cd3e4b73e13f\",\"type\":\"ColumnDataSource\"},{\"attributes\":{\"active_drag\":\"auto\",\"active_inspect\":\"auto\",\"active_scroll\":\"auto\",\"active_tap\":\"auto\",\"tools\":[{\"id\":\"ab7a03ba-33c2-4b56-9351-5859cc26e376\",\"type\":\"PanTool\"},{\"id\":\"574751f3-9819-45a1-9c7c-fe546fed77eb\",\"type\":\"WheelZoomTool\"},{\"id\":\"76f5d630-2089-4df5-b8c5-bbd5f15089ea\",\"type\":\"BoxZoomTool\"},{\"id\":\"3f207544-1793-48b5-b497-1a53858a4661\",\"type\":\"SaveTool\"},{\"id\":\"422c02a4-644a-4434-bdf2-4140a621278e\",\"type\":\"ResetTool\"},{\"id\":\"0caf9dcd-9bac-4a97-a6b5-2a30627b8113\",\"type\":\"HelpTool\"}]},\"id\":\"da28afc6-d943-48a9-91d5-23184cb48a9b\",\"type\":\"Toolbar\"},{\"attributes\":{\"data_source\":{\"id\":\"d6abc833-685f-437a-8073-cd3e4b73e13f\",\"type\":\"ColumnDataSource\"},\"glyph\":{\"id\":\"e50e00c7-781f-469e-ae31-534da4eac024\",\"type\":\"Text\"},\"hover_glyph\":null,\"muted_glyph\":null,\"nonselection_glyph\":{\"id\":\"aa5788c1-1424-480c-a3a8-ff04ab584da1\",\"type\":\"Text\"},\"selection_glyph\":null,\"view\":{\"id\":\"da6435b4-de27-44b5-8bf2-0711499e5793\",\"type\":\"CDSView\"}},\"id\":\"3a2474a4-7a55-4ddf-89e5-65bfb748ec34\",\"type\":\"GlyphRenderer\"},{\"attributes\":{},\"id\":\"ba75d3fd-aa26-4519-8615-b955bba4f2d7\",\"type\":\"LinearScale\"},{\"attributes\":{},\"id\":\"422c02a4-644a-4434-bdf2-4140a621278e\",\"type\":\"ResetTool\"},{\"attributes\":{},\"id\":\"ab7a03ba-33c2-4b56-9351-5859cc26e376\",\"type\":\"PanTool\"},{\"attributes\":{\"dimension\":1,\"plot\":{\"id\":\"b25d3404-29db-4d76-b908-e3f2c54ca087\",\"subtype\":\"Figure\",\"type\":\"Plot\"},\"ticker\":{\"id\":\"a82bb170-4bed-4fe9-aa2f-29aad41ee6cd\",\"type\":\"BasicTicker\"}},\"id\":\"3d01f585-fd40-4c53-8385-ad95dd51a899\",\"type\":\"Grid\"}],\"root_ids\":[\"b25d3404-29db-4d76-b908-e3f2c54ca087\"]},\"title\":\"Bokeh Application\",\"version\":\"0.12.15\"}};\n",
       "  var render_items = [{\"docid\":\"8c33614e-6827-425f-8a32-4b89ab3f77cf\",\"elementid\":\"e397144c-15d1-4623-8d02-7dd5bf52c322\",\"modelid\":\"b25d3404-29db-4d76-b908-e3f2c54ca087\"}];\n",
       "  root.Bokeh.embed.embed_items_notebook(docs_json, render_items);\n",
       "\n",
       "  }\n",
       "  if (root.Bokeh !== undefined) {\n",
       "    embed_document(root);\n",
       "  } else {\n",
       "    var attempts = 0;\n",
       "    var timer = setInterval(function(root) {\n",
       "      if (root.Bokeh !== undefined) {\n",
       "        embed_document(root);\n",
       "        clearInterval(timer);\n",
       "      }\n",
       "      attempts++;\n",
       "      if (attempts > 100) {\n",
       "        console.log(\"Bokeh: ERROR: Unable to run BokehJS code because BokehJS library is missing\")\n",
       "        clearInterval(timer);\n",
       "      }\n",
       "    }, 10, root)\n",
       "  }\n",
       "})(window);"
      ],
      "application/vnd.bokehjs_exec.v0+json": ""
     },
     "metadata": {
      "application/vnd.bokehjs_exec.v0+json": {
       "id": "b25d3404-29db-4d76-b908-e3f2c54ca087"
      }
     },
     "output_type": "display_data"
    }
   ],
   "source": [
    "show(p)"
   ]
  },
  {
   "cell_type": "code",
   "execution_count": null,
   "metadata": {},
   "outputs": [],
   "source": []
  }
 ],
 "metadata": {
  "kernelspec": {
   "display_name": "Python 3",
   "language": "python",
   "name": "python3"
  },
  "language_info": {
   "codemirror_mode": {
    "name": "ipython",
    "version": 3
   },
   "file_extension": ".py",
   "mimetype": "text/x-python",
   "name": "python",
   "nbconvert_exporter": "python",
   "pygments_lexer": "ipython3",
   "version": "3.6.3"
  }
 },
 "nbformat": 4,
 "nbformat_minor": 2
}
