{
 "cells": [
  {
   "cell_type": "markdown",
   "metadata": {},
   "source": [
    "# Creating Word Vectors with word2vec"
   ]
  },
  {
   "cell_type": "markdown",
   "metadata": {},
   "source": [
    "Let's start with NLTK"
   ]
  },
  {
   "cell_type": "markdown",
   "metadata": {},
   "source": [
    "#### Load Dependencies"
   ]
  },
  {
   "cell_type": "code",
   "execution_count": 1,
   "metadata": {},
   "outputs": [],
   "source": [
    "import nltk\n",
    "from nltk.tokenize import word_tokenize, sent_tokenize\n",
    "import gensim\n",
    "from gensim.models.word2vec import Word2Vec\n",
    "from sklearn.manifold import TSNE\n",
    "import pandas as pd\n",
    "from bokeh.io import output_notebook\n",
    "from bokeh.plotting import show, figure\n",
    "%matplotlib inline"
   ]
  },
  {
   "cell_type": "code",
   "execution_count": 2,
   "metadata": {},
   "outputs": [
    {
     "name": "stdout",
     "output_type": "stream",
     "text": [
      "[nltk_data] Downloading package punkt to /home/jovyan/nltk_data...\n",
      "[nltk_data]   Unzipping tokenizers/punkt.zip.\n"
     ]
    },
    {
     "data": {
      "text/plain": [
       "True"
      ]
     },
     "execution_count": 2,
     "metadata": {},
     "output_type": "execute_result"
    }
   ],
   "source": [
    "nltk.download('punkt')"
   ]
  },
  {
   "cell_type": "markdown",
   "metadata": {},
   "source": [
    "#### Load Data"
   ]
  },
  {
   "cell_type": "code",
   "execution_count": 3,
   "metadata": {},
   "outputs": [
    {
     "name": "stdout",
     "output_type": "stream",
     "text": [
      "[nltk_data] Downloading package gutenberg to /home/jovyan/nltk_data...\n",
      "[nltk_data]   Unzipping corpora/gutenberg.zip.\n"
     ]
    },
    {
     "data": {
      "text/plain": [
       "True"
      ]
     },
     "execution_count": 3,
     "metadata": {},
     "output_type": "execute_result"
    }
   ],
   "source": [
    "nltk.download('gutenberg')"
   ]
  },
  {
   "cell_type": "code",
   "execution_count": 4,
   "metadata": {},
   "outputs": [],
   "source": [
    "from nltk.corpus import gutenberg"
   ]
  },
  {
   "cell_type": "code",
   "execution_count": 5,
   "metadata": {},
   "outputs": [
    {
     "data": {
      "text/plain": [
       "['austen-emma.txt',\n",
       " 'austen-persuasion.txt',\n",
       " 'austen-sense.txt',\n",
       " 'bible-kjv.txt',\n",
       " 'blake-poems.txt',\n",
       " 'bryant-stories.txt',\n",
       " 'burgess-busterbrown.txt',\n",
       " 'carroll-alice.txt',\n",
       " 'chesterton-ball.txt',\n",
       " 'chesterton-brown.txt',\n",
       " 'chesterton-thursday.txt',\n",
       " 'edgeworth-parents.txt',\n",
       " 'melville-moby_dick.txt',\n",
       " 'milton-paradise.txt',\n",
       " 'shakespeare-caesar.txt',\n",
       " 'shakespeare-hamlet.txt',\n",
       " 'shakespeare-macbeth.txt',\n",
       " 'whitman-leaves.txt']"
      ]
     },
     "execution_count": 5,
     "metadata": {},
     "output_type": "execute_result"
    }
   ],
   "source": [
    "gutenberg.fileids()"
   ]
  },
  {
   "cell_type": "markdown",
   "metadata": {},
   "source": [
    "#### Tokenize Text"
   ]
  },
  {
   "cell_type": "code",
   "execution_count": 6,
   "metadata": {},
   "outputs": [],
   "source": [
    "# Due to lack of resources, I'm not working with the full Gutenberg dataset (18 books).\n",
    "gberg_sent_tokens = sent_tokenize(gutenberg.raw(fileids=['austen-sense.txt',\n",
    " 'blake-poems.txt',\n",
    " 'bryant-stories.txt',\n",
    " 'burgess-busterbrown.txt',\n",
    " 'carroll-alice.txt',\n",
    " 'chesterton-ball.txt',\n",
    " 'chesterton-brown.txt',\n",
    " 'chesterton-thursday.txt',\n",
    " 'edgeworth-parents.txt',\n",
    " 'melville-moby_dick.txt',\n",
    " 'milton-paradise.txt',\n",
    " 'shakespeare-caesar.txt']))"
   ]
  },
  {
   "cell_type": "code",
   "execution_count": 7,
   "metadata": {},
   "outputs": [
    {
     "data": {
      "text/plain": [
       "['[Sense and Sensibility by Jane Austen 1811]\\n\\nCHAPTER 1\\n\\n\\nThe family of Dashwood had long been settled in Sussex.',\n",
       " 'Their estate was large, and their residence was at Norland Park,\\nin the centre of their property, where, for many generations,\\nthey had lived in so respectable a manner as to engage\\nthe general good opinion of their surrounding acquaintance.',\n",
       " 'The late owner of this estate was a single man, who lived\\nto a very advanced age, and who for many years of his life,\\nhad a constant companion and housekeeper in his sister.',\n",
       " 'But her death, which happened ten years before his own,\\nproduced a great alteration in his home; for to supply\\nher loss, he invited and received into his house the family\\nof his nephew Mr. Henry Dashwood, the legal inheritor\\nof the Norland estate, and the person to whom he intended\\nto bequeath it.',\n",
       " \"In the society of his nephew and niece,\\nand their children, the old Gentleman's days were\\ncomfortably spent.\"]"
      ]
     },
     "execution_count": 7,
     "metadata": {},
     "output_type": "execute_result"
    }
   ],
   "source": [
    "gberg_sent_tokens[0:5]"
   ]
  },
  {
   "cell_type": "code",
   "execution_count": 8,
   "metadata": {},
   "outputs": [
    {
     "data": {
      "text/plain": [
       "'Their estate was large, and their residence was at Norland Park,\\nin the centre of their property, where, for many generations,\\nthey had lived in so respectable a manner as to engage\\nthe general good opinion of their surrounding acquaintance.'"
      ]
     },
     "execution_count": 8,
     "metadata": {},
     "output_type": "execute_result"
    }
   ],
   "source": [
    "gberg_sent_tokens[1]"
   ]
  },
  {
   "cell_type": "code",
   "execution_count": 9,
   "metadata": {},
   "outputs": [
    {
     "data": {
      "text/plain": [
       "['Their',\n",
       " 'estate',\n",
       " 'was',\n",
       " 'large',\n",
       " ',',\n",
       " 'and',\n",
       " 'their',\n",
       " 'residence',\n",
       " 'was',\n",
       " 'at',\n",
       " 'Norland',\n",
       " 'Park',\n",
       " ',',\n",
       " 'in',\n",
       " 'the',\n",
       " 'centre',\n",
       " 'of',\n",
       " 'their',\n",
       " 'property',\n",
       " ',',\n",
       " 'where',\n",
       " ',',\n",
       " 'for',\n",
       " 'many',\n",
       " 'generations',\n",
       " ',',\n",
       " 'they',\n",
       " 'had',\n",
       " 'lived',\n",
       " 'in',\n",
       " 'so',\n",
       " 'respectable',\n",
       " 'a',\n",
       " 'manner',\n",
       " 'as',\n",
       " 'to',\n",
       " 'engage',\n",
       " 'the',\n",
       " 'general',\n",
       " 'good',\n",
       " 'opinion',\n",
       " 'of',\n",
       " 'their',\n",
       " 'surrounding',\n",
       " 'acquaintance',\n",
       " '.']"
      ]
     },
     "execution_count": 9,
     "metadata": {},
     "output_type": "execute_result"
    }
   ],
   "source": [
    "word_tokenize(gberg_sent_tokens[1])"
   ]
  },
  {
   "cell_type": "code",
   "execution_count": 10,
   "metadata": {},
   "outputs": [
    {
     "data": {
      "text/plain": [
       "'the'"
      ]
     },
     "execution_count": 10,
     "metadata": {},
     "output_type": "execute_result"
    }
   ],
   "source": [
    "word_tokenize(gberg_sent_tokens[1])[14]"
   ]
  },
  {
   "cell_type": "code",
   "execution_count": 11,
   "metadata": {},
   "outputs": [],
   "source": [
    "# Due to lack of resources, I'm not working with the full Gutenberg dataset (18 books).\n",
    "gberg_sents = gutenberg.sents(fileids=['austen-sense.txt',\n",
    " 'blake-poems.txt',\n",
    " 'bryant-stories.txt',\n",
    " 'burgess-busterbrown.txt',\n",
    " 'carroll-alice.txt',\n",
    " 'chesterton-ball.txt',\n",
    " 'chesterton-brown.txt',\n",
    " 'chesterton-thursday.txt',\n",
    " 'edgeworth-parents.txt',\n",
    " 'melville-moby_dick.txt',\n",
    " 'milton-paradise.txt',\n",
    " 'shakespeare-caesar.txt'])"
   ]
  },
  {
   "cell_type": "code",
   "execution_count": 12,
   "metadata": {},
   "outputs": [
    {
     "data": {
      "text/plain": [
       "[['[', 'Sense', 'and', 'Sensibility', 'by', 'Jane', 'Austen', '1811', ']'],\n",
       " ['CHAPTER', '1'],\n",
       " ['The',\n",
       "  'family',\n",
       "  'of',\n",
       "  'Dashwood',\n",
       "  'had',\n",
       "  'long',\n",
       "  'been',\n",
       "  'settled',\n",
       "  'in',\n",
       "  'Sussex',\n",
       "  '.'],\n",
       " ['Their',\n",
       "  'estate',\n",
       "  'was',\n",
       "  'large',\n",
       "  ',',\n",
       "  'and',\n",
       "  'their',\n",
       "  'residence',\n",
       "  'was',\n",
       "  'at',\n",
       "  'Norland',\n",
       "  'Park',\n",
       "  ',',\n",
       "  'in',\n",
       "  'the',\n",
       "  'centre',\n",
       "  'of',\n",
       "  'their',\n",
       "  'property',\n",
       "  ',',\n",
       "  'where',\n",
       "  ',',\n",
       "  'for',\n",
       "  'many',\n",
       "  'generations',\n",
       "  ',',\n",
       "  'they',\n",
       "  'had',\n",
       "  'lived',\n",
       "  'in',\n",
       "  'so',\n",
       "  'respectable',\n",
       "  'a',\n",
       "  'manner',\n",
       "  'as',\n",
       "  'to',\n",
       "  'engage',\n",
       "  'the',\n",
       "  'general',\n",
       "  'good',\n",
       "  'opinion',\n",
       "  'of',\n",
       "  'their',\n",
       "  'surrounding',\n",
       "  'acquaintance',\n",
       "  '.'],\n",
       " ['The',\n",
       "  'late',\n",
       "  'owner',\n",
       "  'of',\n",
       "  'this',\n",
       "  'estate',\n",
       "  'was',\n",
       "  'a',\n",
       "  'single',\n",
       "  'man',\n",
       "  ',',\n",
       "  'who',\n",
       "  'lived',\n",
       "  'to',\n",
       "  'a',\n",
       "  'very',\n",
       "  'advanced',\n",
       "  'age',\n",
       "  ',',\n",
       "  'and',\n",
       "  'who',\n",
       "  'for',\n",
       "  'many',\n",
       "  'years',\n",
       "  'of',\n",
       "  'his',\n",
       "  'life',\n",
       "  ',',\n",
       "  'had',\n",
       "  'a',\n",
       "  'constant',\n",
       "  'companion',\n",
       "  'and',\n",
       "  'housekeeper',\n",
       "  'in',\n",
       "  'his',\n",
       "  'sister',\n",
       "  '.']]"
      ]
     },
     "execution_count": 12,
     "metadata": {},
     "output_type": "execute_result"
    }
   ],
   "source": [
    "gberg_sents[0:5]"
   ]
  },
  {
   "cell_type": "code",
   "execution_count": 13,
   "metadata": {},
   "outputs": [
    {
     "data": {
      "text/plain": [
       "'a'"
      ]
     },
     "execution_count": 13,
     "metadata": {},
     "output_type": "execute_result"
    }
   ],
   "source": [
    "gberg_sents[4][14]"
   ]
  },
  {
   "cell_type": "code",
   "execution_count": 14,
   "metadata": {},
   "outputs": [
    {
     "data": {
      "text/plain": [
       "['[', 'Emma', 'by', 'Jane', 'Austen', '1816', ']', ...]"
      ]
     },
     "execution_count": 14,
     "metadata": {},
     "output_type": "execute_result"
    }
   ],
   "source": [
    "gutenberg.words()"
   ]
  },
  {
   "cell_type": "code",
   "execution_count": 15,
   "metadata": {},
   "outputs": [
    {
     "data": {
      "text/plain": [
       "1104978"
      ]
     },
     "execution_count": 15,
     "metadata": {},
     "output_type": "execute_result"
    }
   ],
   "source": [
    "# Due to lack of resources, I'm not working with the full Gutenberg dataset (18 books).\n",
    "len(gutenberg.words(fileids=['austen-sense.txt',\n",
    " 'blake-poems.txt',\n",
    " 'bryant-stories.txt',\n",
    " 'burgess-busterbrown.txt',\n",
    " 'carroll-alice.txt',\n",
    " 'chesterton-ball.txt',\n",
    " 'chesterton-brown.txt',\n",
    " 'chesterton-thursday.txt',\n",
    " 'edgeworth-parents.txt',\n",
    " 'melville-moby_dick.txt',\n",
    " 'milton-paradise.txt',\n",
    " 'shakespeare-caesar.txt']))"
   ]
  },
  {
   "cell_type": "markdown",
   "metadata": {},
   "source": [
    "#### Run Word2Vec"
   ]
  },
  {
   "cell_type": "code",
   "execution_count": 16,
   "metadata": {},
   "outputs": [],
   "source": [
    "# size == dimensions\n",
    "# window 10: 20 context words, 10 to the left and 10 to the right\n",
    "model = Word2Vec(sentences=gberg_sents, size=64, sg=1, window=10, min_count=5, seed=42, workers=2)"
   ]
  },
  {
   "cell_type": "code",
   "execution_count": 17,
   "metadata": {},
   "outputs": [],
   "source": [
    "# We don't have to save the model if we don't want to. It's being done here as demonstration.\n",
    "model.save('raw_gutenberg_model.w2v')"
   ]
  },
  {
   "cell_type": "markdown",
   "metadata": {},
   "source": [
    "#### Explore the Model"
   ]
  },
  {
   "cell_type": "code",
   "execution_count": 18,
   "metadata": {},
   "outputs": [],
   "source": [
    "model = Word2Vec.load('raw_gutenberg_model.w2v')"
   ]
  },
  {
   "cell_type": "code",
   "execution_count": 19,
   "metadata": {},
   "outputs": [
    {
     "name": "stderr",
     "output_type": "stream",
     "text": [
      "/opt/conda/lib/python3.6/site-packages/ipykernel_launcher.py:1: DeprecationWarning: Call to deprecated `__getitem__` (Method will be removed in 4.0.0, use self.wv.__getitem__() instead).\n",
      "  \"\"\"Entry point for launching an IPython kernel.\n"
     ]
    },
    {
     "data": {
      "text/plain": [
       "array([ 0.00253844, -0.28362033, -0.05020804,  0.243067  ,  0.22758678,\n",
       "       -0.03445566,  0.05544896, -0.6400096 ,  0.7421818 , -0.22936262,\n",
       "       -0.28277883,  0.09234599,  0.15808737, -0.41168603, -0.1746989 ,\n",
       "       -0.09412833,  0.2830225 , -0.0023677 ,  0.16449161,  0.04813597,\n",
       "       -0.33191484, -0.18412393,  0.3233978 , -0.18004127, -0.15361878,\n",
       "        0.0461226 , -0.2623931 ,  0.07534794, -0.16722617, -0.03013645,\n",
       "       -0.06027886, -0.3076095 , -0.77084535,  0.00415463,  0.10246416,\n",
       "       -0.20290059,  0.41379207,  0.19709958, -0.00493711,  0.3623045 ,\n",
       "        0.47710043,  0.26188043, -0.4200422 , -0.37100074,  0.3208747 ,\n",
       "        0.52022797, -0.13591456, -0.29092348, -0.00981716, -0.07570454,\n",
       "       -0.30985105,  0.53540057, -0.15808363,  0.19505948, -0.0456162 ,\n",
       "        0.33518425,  0.11240716,  0.26155046, -0.11950276, -0.5990342 ,\n",
       "       -0.35793218, -0.15128244,  0.33151767,  0.24814092], dtype=float32)"
      ]
     },
     "execution_count": 19,
     "metadata": {},
     "output_type": "execute_result"
    }
   ],
   "source": [
    "model['house']"
   ]
  },
  {
   "cell_type": "code",
   "execution_count": 20,
   "metadata": {},
   "outputs": [
    {
     "name": "stderr",
     "output_type": "stream",
     "text": [
      "/opt/conda/lib/python3.6/site-packages/ipykernel_launcher.py:1: DeprecationWarning: Call to deprecated `__getitem__` (Method will be removed in 4.0.0, use self.wv.__getitem__() instead).\n",
      "  \"\"\"Entry point for launching an IPython kernel.\n"
     ]
    },
    {
     "data": {
      "text/plain": [
       "64"
      ]
     },
     "execution_count": 20,
     "metadata": {},
     "output_type": "execute_result"
    }
   ],
   "source": [
    "len(model['house'])"
   ]
  },
  {
   "cell_type": "code",
   "execution_count": 21,
   "metadata": {},
   "outputs": [
    {
     "name": "stderr",
     "output_type": "stream",
     "text": [
      "/opt/conda/lib/python3.6/site-packages/ipykernel_launcher.py:1: DeprecationWarning: Call to deprecated `most_similar` (Method will be removed in 4.0.0, use self.wv.most_similar() instead).\n",
      "  \"\"\"Entry point for launching an IPython kernel.\n"
     ]
    },
    {
     "data": {
      "text/plain": [
       "[('cottage', 0.8514493703842163),\n",
       " ('court', 0.7917842864990234),\n",
       " ('dining', 0.7778569459915161),\n",
       " ('carriage', 0.7735164761543274),\n",
       " ('park', 0.7682986259460449),\n",
       " ('Harley', 0.7620264291763306),\n",
       " ('room', 0.7617365121841431),\n",
       " ('parlour', 0.7609195709228516),\n",
       " ('Allenham', 0.7596607804298401),\n",
       " ('Exeter', 0.7549090385437012)]"
      ]
     },
     "execution_count": 21,
     "metadata": {},
     "output_type": "execute_result"
    }
   ],
   "source": [
    "model.most_similar('house')"
   ]
  },
  {
   "cell_type": "code",
   "execution_count": 22,
   "metadata": {},
   "outputs": [
    {
     "name": "stderr",
     "output_type": "stream",
     "text": [
      "/opt/conda/lib/python3.6/site-packages/ipykernel_launcher.py:1: DeprecationWarning: Call to deprecated `most_similar` (Method will be removed in 4.0.0, use self.wv.most_similar() instead).\n",
      "  \"\"\"Entry point for launching an IPython kernel.\n"
     ]
    },
    {
     "data": {
      "text/plain": [
       "[('suppose', 0.8686421513557434),\n",
       " ('understand', 0.8406089544296265),\n",
       " ('remember', 0.8331885933876038),\n",
       " ('know', 0.8296819925308228),\n",
       " ('manage', 0.823654294013977),\n",
       " ('guess', 0.8217471837997437),\n",
       " ('NOW', 0.816806435585022),\n",
       " ('impertinent', 0.8160394430160522),\n",
       " ('commit', 0.8098946809768677),\n",
       " ('MUST', 0.8077293634414673)]"
      ]
     },
     "execution_count": 22,
     "metadata": {},
     "output_type": "execute_result"
    }
   ],
   "source": [
    "model.most_similar('think')"
   ]
  },
  {
   "cell_type": "code",
   "execution_count": 23,
   "metadata": {},
   "outputs": [
    {
     "name": "stderr",
     "output_type": "stream",
     "text": [
      "/opt/conda/lib/python3.6/site-packages/ipykernel_launcher.py:1: DeprecationWarning: Call to deprecated `most_similar` (Method will be removed in 4.0.0, use self.wv.most_similar() instead).\n",
      "  \"\"\"Entry point for launching an IPython kernel.\n"
     ]
    },
    {
     "data": {
      "text/plain": [
       "[('morning', 0.8520458340644836),\n",
       " ('night', 0.8025751709938049),\n",
       " ('evening', 0.7523692846298218),\n",
       " ('year', 0.7284113168716431),\n",
       " ('summer', 0.7225607633590698),\n",
       " ('month', 0.6959215998649597),\n",
       " ('week', 0.6941913962364197),\n",
       " ('spend', 0.683414876461029),\n",
       " ('eleven', 0.6771047711372375),\n",
       " ('May', 0.6760200262069702)]"
      ]
     },
     "execution_count": 23,
     "metadata": {},
     "output_type": "execute_result"
    }
   ],
   "source": [
    "model.most_similar('day')"
   ]
  },
  {
   "cell_type": "code",
   "execution_count": 24,
   "metadata": {},
   "outputs": [
    {
     "name": "stderr",
     "output_type": "stream",
     "text": [
      "/opt/conda/lib/python3.6/site-packages/ipykernel_launcher.py:1: DeprecationWarning: Call to deprecated `most_similar` (Method will be removed in 4.0.0, use self.wv.most_similar() instead).\n",
      "  \"\"\"Entry point for launching an IPython kernel.\n"
     ]
    },
    {
     "data": {
      "text/plain": [
       "[('brother', 0.8279287219047546),\n",
       " ('wife', 0.8140286207199097),\n",
       " ('mother', 0.8138506412506104),\n",
       " ('master', 0.7999870181083679),\n",
       " ('cousin', 0.79924476146698),\n",
       " ('uncle', 0.7981894612312317),\n",
       " ('son', 0.7844958901405334),\n",
       " ('Maurice', 0.7770201563835144),\n",
       " ('child', 0.7729185819625854),\n",
       " ('Fanny', 0.7524842619895935)]"
      ]
     },
     "execution_count": 24,
     "metadata": {},
     "output_type": "execute_result"
    }
   ],
   "source": [
    "model.most_similar('father')"
   ]
  },
  {
   "cell_type": "code",
   "execution_count": 25,
   "metadata": {},
   "outputs": [
    {
     "name": "stderr",
     "output_type": "stream",
     "text": [
      "/opt/conda/lib/python3.6/site-packages/ipykernel_launcher.py:1: DeprecationWarning: Call to deprecated `doesnt_match` (Method will be removed in 4.0.0, use self.wv.doesnt_match() instead).\n",
      "  \"\"\"Entry point for launching an IPython kernel.\n"
     ]
    },
    {
     "data": {
      "text/plain": [
       "'house'"
      ]
     },
     "execution_count": 25,
     "metadata": {},
     "output_type": "execute_result"
    }
   ],
   "source": [
    "model.doesnt_match('mother father daughter house'.split())"
   ]
  },
  {
   "cell_type": "code",
   "execution_count": 26,
   "metadata": {},
   "outputs": [
    {
     "name": "stderr",
     "output_type": "stream",
     "text": [
      "/opt/conda/lib/python3.6/site-packages/ipykernel_launcher.py:1: DeprecationWarning: Call to deprecated `similarity` (Method will be removed in 4.0.0, use self.wv.similarity() instead).\n",
      "  \"\"\"Entry point for launching an IPython kernel.\n"
     ]
    },
    {
     "data": {
      "text/plain": [
       "0.8138506563047428"
      ]
     },
     "execution_count": 26,
     "metadata": {},
     "output_type": "execute_result"
    }
   ],
   "source": [
    "model.similarity('father', 'mother')"
   ]
  },
  {
   "cell_type": "code",
   "execution_count": 27,
   "metadata": {},
   "outputs": [
    {
     "name": "stderr",
     "output_type": "stream",
     "text": [
      "/opt/conda/lib/python3.6/site-packages/ipykernel_launcher.py:1: DeprecationWarning: Call to deprecated `most_similar` (Method will be removed in 4.0.0, use self.wv.most_similar() instead).\n",
      "  \"\"\"Entry point for launching an IPython kernel.\n"
     ]
    },
    {
     "data": {
      "text/plain": [
       "[('brother', 0.815841794013977),\n",
       " ('mother', 0.8129395246505737),\n",
       " ('husband', 0.7806116938591003),\n",
       " ('daughter', 0.770318865776062),\n",
       " ('daughters', 0.7428721189498901),\n",
       " ('Fanny', 0.7407931089401245),\n",
       " ('sister', 0.7365231513977051),\n",
       " ('Lady', 0.7356016039848328),\n",
       " ('sisters', 0.7349551916122437),\n",
       " ('Susan', 0.7319581508636475)]"
      ]
     },
     "execution_count": 27,
     "metadata": {},
     "output_type": "execute_result"
    }
   ],
   "source": [
    "model.most_similar(positive=['father', 'woman'], negative=['man'])"
   ]
  },
  {
   "cell_type": "code",
   "execution_count": 28,
   "metadata": {},
   "outputs": [
    {
     "name": "stderr",
     "output_type": "stream",
     "text": [
      "/opt/conda/lib/python3.6/site-packages/ipykernel_launcher.py:1: DeprecationWarning: Call to deprecated `most_similar` (Method will be removed in 4.0.0, use self.wv.most_similar() instead).\n",
      "  \"\"\"Entry point for launching an IPython kernel.\n"
     ]
    },
    {
     "data": {
      "text/plain": [
       "[('daughter', 0.8234765529632568),\n",
       " ('eldest', 0.7831596732139587),\n",
       " ('brother', 0.7709355354309082),\n",
       " ('husband', 0.7619892954826355),\n",
       " ('daughters', 0.7532057762145996),\n",
       " ('Lady', 0.7251722812652588),\n",
       " ('wife', 0.7176585793495178),\n",
       " ('invited', 0.7099258899688721),\n",
       " ('sisters', 0.7092226147651672),\n",
       " ('widow', 0.7049161195755005)]"
      ]
     },
     "execution_count": 28,
     "metadata": {},
     "output_type": "execute_result"
    }
   ],
   "source": [
    "model.most_similar(positive=['son', 'woman'], negative=['man'])"
   ]
  },
  {
   "cell_type": "code",
   "execution_count": 29,
   "metadata": {},
   "outputs": [
    {
     "name": "stderr",
     "output_type": "stream",
     "text": [
      "/opt/conda/lib/python3.6/site-packages/ipykernel_launcher.py:1: DeprecationWarning: Call to deprecated `most_similar` (Method will be removed in 4.0.0, use self.wv.most_similar() instead).\n",
      "  \"\"\"Entry point for launching an IPython kernel.\n"
     ]
    },
    {
     "data": {
      "text/plain": [
       "[('sister', 0.8065283894538879),\n",
       " ('mother', 0.8033996820449829),\n",
       " ('daughter', 0.7897864580154419),\n",
       " ('brother', 0.7847374081611633),\n",
       " ('daughters', 0.7702164649963379),\n",
       " ('sisters', 0.7588099241256714),\n",
       " ('herself', 0.7522388696670532),\n",
       " ('Fanny', 0.7458125352859497),\n",
       " ('eldest', 0.7438929080963135),\n",
       " ('Mary', 0.7120168209075928)]"
      ]
     },
     "execution_count": 29,
     "metadata": {},
     "output_type": "execute_result"
    }
   ],
   "source": [
    "model.most_similar(positive=['husband', 'woman'], negative=['man'])"
   ]
  },
  {
   "cell_type": "code",
   "execution_count": 31,
   "metadata": {},
   "outputs": [
    {
     "name": "stderr",
     "output_type": "stream",
     "text": [
      "/opt/conda/lib/python3.6/site-packages/ipykernel_launcher.py:1: DeprecationWarning: Call to deprecated `most_similar` (Method will be removed in 4.0.0, use self.wv.most_similar() instead).\n",
      "  \"\"\"Entry point for launching an IPython kernel.\n"
     ]
    },
    {
     "data": {
      "text/plain": [
       "[('eldest', 0.754181981086731),\n",
       " ('daughters', 0.7207632660865784),\n",
       " ('visit', 0.7073965072631836),\n",
       " ('daughter', 0.6980539560317993),\n",
       " ('widow', 0.697096049785614),\n",
       " ('husband', 0.6945968866348267),\n",
       " ('invited', 0.6940564513206482),\n",
       " ('elder', 0.6931315660476685),\n",
       " ('attending', 0.6923259496688843),\n",
       " ('son', 0.6889738440513611),\n",
       " ('Margaret', 0.6815564036369324),\n",
       " ('wife', 0.6785577535629272),\n",
       " ('lively', 0.6768495440483093),\n",
       " ('youngest', 0.676306426525116),\n",
       " ('provided', 0.6734195947647095),\n",
       " ('Fanny', 0.6722611784934998),\n",
       " ('Exeter', 0.6707691550254822),\n",
       " ('taught', 0.6687226891517639),\n",
       " ('brother', 0.66819167137146),\n",
       " ('charity', 0.6665070056915283),\n",
       " ('industrious', 0.6651074886322021),\n",
       " ('honoured', 0.6637418270111084),\n",
       " ('Gray', 0.6606661081314087),\n",
       " ('Robert', 0.660377025604248),\n",
       " ('Sicily', 0.660137951374054),\n",
       " ('robbed', 0.6592308282852173),\n",
       " ('health', 0.6570944786071777),\n",
       " ('entreaty', 0.6570299863815308),\n",
       " ('mother', 0.655613899230957),\n",
       " ('Lady', 0.6554924249649048),\n",
       " ('Middleton', 0.6554914116859436),\n",
       " ('married', 0.6536720395088196),\n",
       " ('proud', 0.6533823013305664),\n",
       " ('invitation', 0.6531901359558105),\n",
       " ('wrote', 0.6510581970214844),\n",
       " ('croquet', 0.6505414247512817),\n",
       " ('acquaintance', 0.6499505043029785),\n",
       " ('songs', 0.6481493711471558),\n",
       " ('formerly', 0.647466778755188),\n",
       " ('enquire', 0.6464924812316895),\n",
       " ('Dashwoods', 0.644792914390564),\n",
       " ('younger', 0.6446151733398438),\n",
       " ('marry', 0.6430436372756958),\n",
       " ('inform', 0.6429111957550049),\n",
       " ('helping', 0.6426063776016235),\n",
       " ('returning', 0.6417086720466614),\n",
       " ('Palmer', 0.6413878798484802),\n",
       " ('John', 0.6410718560218811),\n",
       " ('Morton', 0.640573263168335),\n",
       " ('indulgent', 0.6405473947525024)]"
      ]
     },
     "execution_count": 31,
     "metadata": {},
     "output_type": "execute_result"
    }
   ],
   "source": [
    "model.most_similar(positive=['king', 'woman'], negative=['man'], topn=50)"
   ]
  },
  {
   "cell_type": "markdown",
   "metadata": {},
   "source": [
    "#### Reduce word vector dimensionality with t-SNE"
   ]
  },
  {
   "cell_type": "markdown",
   "metadata": {},
   "source": [
    "t-Distributed Stochastic Name Embedding"
   ]
  },
  {
   "cell_type": "code",
   "execution_count": 32,
   "metadata": {},
   "outputs": [
    {
     "data": {
      "text/plain": [
       "11319"
      ]
     },
     "execution_count": 32,
     "metadata": {},
     "output_type": "execute_result"
    }
   ],
   "source": [
    "len(model.wv.vocab)"
   ]
  },
  {
   "cell_type": "code",
   "execution_count": 33,
   "metadata": {},
   "outputs": [
    {
     "name": "stderr",
     "output_type": "stream",
     "text": [
      "/opt/conda/lib/python3.6/site-packages/ipykernel_launcher.py:1: DeprecationWarning: Call to deprecated `__getitem__` (Method will be removed in 4.0.0, use self.wv.__getitem__() instead).\n",
      "  \"\"\"Entry point for launching an IPython kernel.\n"
     ]
    }
   ],
   "source": [
    "X = model[model.wv.vocab]"
   ]
  },
  {
   "cell_type": "code",
   "execution_count": 47,
   "metadata": {},
   "outputs": [],
   "source": [
    "tsne = TSNE(n_components=3, n_iter=250)"
   ]
  },
  {
   "cell_type": "code",
   "execution_count": 48,
   "metadata": {},
   "outputs": [],
   "source": [
    "X_2d = tsne.fit_transform(X)"
   ]
  },
  {
   "cell_type": "code",
   "execution_count": 49,
   "metadata": {},
   "outputs": [],
   "source": [
    "coords_df = pd.DataFrame(X_2d, columns=['x', 'y', 'z'])\n",
    "coords_df['token'] = model.wv.vocab.keys()"
   ]
  },
  {
   "cell_type": "code",
   "execution_count": 50,
   "metadata": {},
   "outputs": [
    {
     "data": {
      "text/html": [
       "<div>\n",
       "<style scoped>\n",
       "    .dataframe tbody tr th:only-of-type {\n",
       "        vertical-align: middle;\n",
       "    }\n",
       "\n",
       "    .dataframe tbody tr th {\n",
       "        vertical-align: top;\n",
       "    }\n",
       "\n",
       "    .dataframe thead th {\n",
       "        text-align: right;\n",
       "    }\n",
       "</style>\n",
       "<table border=\"1\" class=\"dataframe\">\n",
       "  <thead>\n",
       "    <tr style=\"text-align: right;\">\n",
       "      <th></th>\n",
       "      <th>x</th>\n",
       "      <th>y</th>\n",
       "      <th>z</th>\n",
       "      <th>token</th>\n",
       "    </tr>\n",
       "  </thead>\n",
       "  <tbody>\n",
       "    <tr>\n",
       "      <th>0</th>\n",
       "      <td>0.391134</td>\n",
       "      <td>0.762717</td>\n",
       "      <td>-0.833366</td>\n",
       "      <td>[</td>\n",
       "    </tr>\n",
       "    <tr>\n",
       "      <th>1</th>\n",
       "      <td>0.204031</td>\n",
       "      <td>-0.438965</td>\n",
       "      <td>0.127528</td>\n",
       "      <td>and</td>\n",
       "    </tr>\n",
       "    <tr>\n",
       "      <th>2</th>\n",
       "      <td>-0.017161</td>\n",
       "      <td>-0.111368</td>\n",
       "      <td>0.089600</td>\n",
       "      <td>by</td>\n",
       "    </tr>\n",
       "    <tr>\n",
       "      <th>3</th>\n",
       "      <td>0.389705</td>\n",
       "      <td>0.763152</td>\n",
       "      <td>-0.832475</td>\n",
       "      <td>]</td>\n",
       "    </tr>\n",
       "    <tr>\n",
       "      <th>4</th>\n",
       "      <td>0.399254</td>\n",
       "      <td>0.751378</td>\n",
       "      <td>-0.832394</td>\n",
       "      <td>CHAPTER</td>\n",
       "    </tr>\n",
       "  </tbody>\n",
       "</table>\n",
       "</div>"
      ],
      "text/plain": [
       "          x         y         z    token\n",
       "0  0.391134  0.762717 -0.833366        [\n",
       "1  0.204031 -0.438965  0.127528      and\n",
       "2 -0.017161 -0.111368  0.089600       by\n",
       "3  0.389705  0.763152 -0.832475        ]\n",
       "4  0.399254  0.751378 -0.832394  CHAPTER"
      ]
     },
     "execution_count": 50,
     "metadata": {},
     "output_type": "execute_result"
    }
   ],
   "source": [
    "coords_df.head()"
   ]
  },
  {
   "cell_type": "code",
   "execution_count": 51,
   "metadata": {},
   "outputs": [],
   "source": [
    "coords_df.to_csv('raw_gutenberg_tsne.csv', index=False)"
   ]
  },
  {
   "cell_type": "markdown",
   "metadata": {},
   "source": [
    "#### Visualise 2D representation of word vectors"
   ]
  },
  {
   "cell_type": "code",
   "execution_count": 52,
   "metadata": {},
   "outputs": [],
   "source": [
    "coorrds_df = pd.read_csv('raw_gutenberg_tsne.csv')"
   ]
  },
  {
   "cell_type": "code",
   "execution_count": 53,
   "metadata": {},
   "outputs": [
    {
     "data": {
      "text/html": [
       "<div>\n",
       "<style scoped>\n",
       "    .dataframe tbody tr th:only-of-type {\n",
       "        vertical-align: middle;\n",
       "    }\n",
       "\n",
       "    .dataframe tbody tr th {\n",
       "        vertical-align: top;\n",
       "    }\n",
       "\n",
       "    .dataframe thead th {\n",
       "        text-align: right;\n",
       "    }\n",
       "</style>\n",
       "<table border=\"1\" class=\"dataframe\">\n",
       "  <thead>\n",
       "    <tr style=\"text-align: right;\">\n",
       "      <th></th>\n",
       "      <th>x</th>\n",
       "      <th>y</th>\n",
       "      <th>z</th>\n",
       "      <th>token</th>\n",
       "    </tr>\n",
       "  </thead>\n",
       "  <tbody>\n",
       "    <tr>\n",
       "      <th>0</th>\n",
       "      <td>0.391134</td>\n",
       "      <td>0.762717</td>\n",
       "      <td>-0.833366</td>\n",
       "      <td>[</td>\n",
       "    </tr>\n",
       "    <tr>\n",
       "      <th>1</th>\n",
       "      <td>0.204031</td>\n",
       "      <td>-0.438965</td>\n",
       "      <td>0.127528</td>\n",
       "      <td>and</td>\n",
       "    </tr>\n",
       "    <tr>\n",
       "      <th>2</th>\n",
       "      <td>-0.017161</td>\n",
       "      <td>-0.111368</td>\n",
       "      <td>0.089600</td>\n",
       "      <td>by</td>\n",
       "    </tr>\n",
       "    <tr>\n",
       "      <th>3</th>\n",
       "      <td>0.389705</td>\n",
       "      <td>0.763152</td>\n",
       "      <td>-0.832475</td>\n",
       "      <td>]</td>\n",
       "    </tr>\n",
       "    <tr>\n",
       "      <th>4</th>\n",
       "      <td>0.399254</td>\n",
       "      <td>0.751378</td>\n",
       "      <td>-0.832394</td>\n",
       "      <td>CHAPTER</td>\n",
       "    </tr>\n",
       "  </tbody>\n",
       "</table>\n",
       "</div>"
      ],
      "text/plain": [
       "          x         y         z    token\n",
       "0  0.391134  0.762717 -0.833366        [\n",
       "1  0.204031 -0.438965  0.127528      and\n",
       "2 -0.017161 -0.111368  0.089600       by\n",
       "3  0.389705  0.763152 -0.832475        ]\n",
       "4  0.399254  0.751378 -0.832394  CHAPTER"
      ]
     },
     "execution_count": 53,
     "metadata": {},
     "output_type": "execute_result"
    }
   ],
   "source": [
    "coords_df.head()"
   ]
  },
  {
   "cell_type": "code",
   "execution_count": 56,
   "metadata": {},
   "outputs": [
    {
     "ename": "TypeError",
     "evalue": "scatter() got multiple values for argument 's'",
     "output_type": "error",
     "traceback": [
      "\u001b[0;31m---------------------------------------------------------------------------\u001b[0m",
      "\u001b[0;31mTypeError\u001b[0m                                 Traceback (most recent call last)",
      "\u001b[0;32m<ipython-input-56-021e84f856c0>\u001b[0m in \u001b[0;36m<module>\u001b[0;34m()\u001b[0m\n\u001b[0;32m----> 1\u001b[0;31m \u001b[0m_\u001b[0m \u001b[0;34m=\u001b[0m \u001b[0mcoords_df\u001b[0m\u001b[0;34m.\u001b[0m\u001b[0mplot\u001b[0m\u001b[0;34m.\u001b[0m\u001b[0mscatter\u001b[0m\u001b[0;34m(\u001b[0m\u001b[0;34m'x'\u001b[0m\u001b[0;34m,\u001b[0m \u001b[0;34m'y'\u001b[0m\u001b[0;34m,\u001b[0m \u001b[0;34m'z'\u001b[0m\u001b[0;34m,\u001b[0m \u001b[0mfigsize\u001b[0m\u001b[0;34m=\u001b[0m\u001b[0;34m(\u001b[0m\u001b[0;36m8\u001b[0m\u001b[0;34m,\u001b[0m\u001b[0;36m8\u001b[0m\u001b[0;34m,\u001b[0m\u001b[0;36m8\u001b[0m\u001b[0;34m)\u001b[0m\u001b[0;34m,\u001b[0m \u001b[0mmarker\u001b[0m\u001b[0;34m=\u001b[0m\u001b[0;34m'o'\u001b[0m\u001b[0;34m,\u001b[0m \u001b[0ms\u001b[0m\u001b[0;34m=\u001b[0m\u001b[0;36m10\u001b[0m\u001b[0;34m,\u001b[0m \u001b[0malpha\u001b[0m\u001b[0;34m=\u001b[0m\u001b[0;36m0.2\u001b[0m\u001b[0;34m)\u001b[0m\u001b[0;34m\u001b[0m\u001b[0m\n\u001b[0m",
      "\u001b[0;31mTypeError\u001b[0m: scatter() got multiple values for argument 's'"
     ]
    }
   ],
   "source": [
    "_ = coords_df.plot.scatter('x', 'y', 'z', figsize=(8,8,8), marker='o', s=10, alpha=0.2)"
   ]
  },
  {
   "cell_type": "code",
   "execution_count": 43,
   "metadata": {},
   "outputs": [
    {
     "data": {
      "text/html": [
       "\n",
       "    <div class=\"bk-root\">\n",
       "        <a href=\"https://bokeh.pydata.org\" target=\"_blank\" class=\"bk-logo bk-logo-small bk-logo-notebook\"></a>\n",
       "        <span id=\"8dff579c-e54c-4966-8e25-ba1be47b06e5\">Loading BokehJS ...</span>\n",
       "    </div>"
      ]
     },
     "metadata": {},
     "output_type": "display_data"
    },
    {
     "data": {
      "application/javascript": [
       "\n",
       "(function(root) {\n",
       "  function now() {\n",
       "    return new Date();\n",
       "  }\n",
       "\n",
       "  var force = true;\n",
       "\n",
       "  if (typeof (root._bokeh_onload_callbacks) === \"undefined\" || force === true) {\n",
       "    root._bokeh_onload_callbacks = [];\n",
       "    root._bokeh_is_loading = undefined;\n",
       "  }\n",
       "\n",
       "  var JS_MIME_TYPE = 'application/javascript';\n",
       "  var HTML_MIME_TYPE = 'text/html';\n",
       "  var EXEC_MIME_TYPE = 'application/vnd.bokehjs_exec.v0+json';\n",
       "  var CLASS_NAME = 'output_bokeh rendered_html';\n",
       "\n",
       "  /**\n",
       "   * Render data to the DOM node\n",
       "   */\n",
       "  function render(props, node) {\n",
       "    var script = document.createElement(\"script\");\n",
       "    node.appendChild(script);\n",
       "  }\n",
       "\n",
       "  /**\n",
       "   * Handle when an output is cleared or removed\n",
       "   */\n",
       "  function handleClearOutput(event, handle) {\n",
       "    var cell = handle.cell;\n",
       "\n",
       "    var id = cell.output_area._bokeh_element_id;\n",
       "    var server_id = cell.output_area._bokeh_server_id;\n",
       "    // Clean up Bokeh references\n",
       "    if (id !== undefined) {\n",
       "      Bokeh.index[id].model.document.clear();\n",
       "      delete Bokeh.index[id];\n",
       "    }\n",
       "\n",
       "    if (server_id !== undefined) {\n",
       "      // Clean up Bokeh references\n",
       "      var cmd = \"from bokeh.io.state import curstate; print(curstate().uuid_to_server['\" + server_id + \"'].get_sessions()[0].document.roots[0]._id)\";\n",
       "      cell.notebook.kernel.execute(cmd, {\n",
       "        iopub: {\n",
       "          output: function(msg) {\n",
       "            var element_id = msg.content.text.trim();\n",
       "            Bokeh.index[element_id].model.document.clear();\n",
       "            delete Bokeh.index[element_id];\n",
       "          }\n",
       "        }\n",
       "      });\n",
       "      // Destroy server and session\n",
       "      var cmd = \"import bokeh.io.notebook as ion; ion.destroy_server('\" + server_id + \"')\";\n",
       "      cell.notebook.kernel.execute(cmd);\n",
       "    }\n",
       "  }\n",
       "\n",
       "  /**\n",
       "   * Handle when a new output is added\n",
       "   */\n",
       "  function handleAddOutput(event, handle) {\n",
       "    var output_area = handle.output_area;\n",
       "    var output = handle.output;\n",
       "\n",
       "    // limit handleAddOutput to display_data with EXEC_MIME_TYPE content only\n",
       "    if ((output.output_type != \"display_data\") || (!output.data.hasOwnProperty(EXEC_MIME_TYPE))) {\n",
       "      return\n",
       "    }\n",
       "\n",
       "    var toinsert = output_area.element.find(\".\" + CLASS_NAME.split(' ')[0]);\n",
       "\n",
       "    if (output.metadata[EXEC_MIME_TYPE][\"id\"] !== undefined) {\n",
       "      toinsert[toinsert.length - 1].firstChild.textContent = output.data[JS_MIME_TYPE];\n",
       "      // store reference to embed id on output_area\n",
       "      output_area._bokeh_element_id = output.metadata[EXEC_MIME_TYPE][\"id\"];\n",
       "    }\n",
       "    if (output.metadata[EXEC_MIME_TYPE][\"server_id\"] !== undefined) {\n",
       "      var bk_div = document.createElement(\"div\");\n",
       "      bk_div.innerHTML = output.data[HTML_MIME_TYPE];\n",
       "      var script_attrs = bk_div.children[0].attributes;\n",
       "      for (var i = 0; i < script_attrs.length; i++) {\n",
       "        toinsert[toinsert.length - 1].firstChild.setAttribute(script_attrs[i].name, script_attrs[i].value);\n",
       "      }\n",
       "      // store reference to server id on output_area\n",
       "      output_area._bokeh_server_id = output.metadata[EXEC_MIME_TYPE][\"server_id\"];\n",
       "    }\n",
       "  }\n",
       "\n",
       "  function register_renderer(events, OutputArea) {\n",
       "\n",
       "    function append_mime(data, metadata, element) {\n",
       "      // create a DOM node to render to\n",
       "      var toinsert = this.create_output_subarea(\n",
       "        metadata,\n",
       "        CLASS_NAME,\n",
       "        EXEC_MIME_TYPE\n",
       "      );\n",
       "      this.keyboard_manager.register_events(toinsert);\n",
       "      // Render to node\n",
       "      var props = {data: data, metadata: metadata[EXEC_MIME_TYPE]};\n",
       "      render(props, toinsert[toinsert.length - 1]);\n",
       "      element.append(toinsert);\n",
       "      return toinsert\n",
       "    }\n",
       "\n",
       "    /* Handle when an output is cleared or removed */\n",
       "    events.on('clear_output.CodeCell', handleClearOutput);\n",
       "    events.on('delete.Cell', handleClearOutput);\n",
       "\n",
       "    /* Handle when a new output is added */\n",
       "    events.on('output_added.OutputArea', handleAddOutput);\n",
       "\n",
       "    /**\n",
       "     * Register the mime type and append_mime function with output_area\n",
       "     */\n",
       "    OutputArea.prototype.register_mime_type(EXEC_MIME_TYPE, append_mime, {\n",
       "      /* Is output safe? */\n",
       "      safe: true,\n",
       "      /* Index of renderer in `output_area.display_order` */\n",
       "      index: 0\n",
       "    });\n",
       "  }\n",
       "\n",
       "  // register the mime type if in Jupyter Notebook environment and previously unregistered\n",
       "  if (root.Jupyter !== undefined) {\n",
       "    var events = require('base/js/events');\n",
       "    var OutputArea = require('notebook/js/outputarea').OutputArea;\n",
       "\n",
       "    if (OutputArea.prototype.mime_types().indexOf(EXEC_MIME_TYPE) == -1) {\n",
       "      register_renderer(events, OutputArea);\n",
       "    }\n",
       "  }\n",
       "\n",
       "  \n",
       "  if (typeof (root._bokeh_timeout) === \"undefined\" || force === true) {\n",
       "    root._bokeh_timeout = Date.now() + 5000;\n",
       "    root._bokeh_failed_load = false;\n",
       "  }\n",
       "\n",
       "  var NB_LOAD_WARNING = {'data': {'text/html':\n",
       "     \"<div style='background-color: #fdd'>\\n\"+\n",
       "     \"<p>\\n\"+\n",
       "     \"BokehJS does not appear to have successfully loaded. If loading BokehJS from CDN, this \\n\"+\n",
       "     \"may be due to a slow or bad network connection. Possible fixes:\\n\"+\n",
       "     \"</p>\\n\"+\n",
       "     \"<ul>\\n\"+\n",
       "     \"<li>re-rerun `output_notebook()` to attempt to load from CDN again, or</li>\\n\"+\n",
       "     \"<li>use INLINE resources instead, as so:</li>\\n\"+\n",
       "     \"</ul>\\n\"+\n",
       "     \"<code>\\n\"+\n",
       "     \"from bokeh.resources import INLINE\\n\"+\n",
       "     \"output_notebook(resources=INLINE)\\n\"+\n",
       "     \"</code>\\n\"+\n",
       "     \"</div>\"}};\n",
       "\n",
       "  function display_loaded() {\n",
       "    var el = document.getElementById(\"8dff579c-e54c-4966-8e25-ba1be47b06e5\");\n",
       "    if (el != null) {\n",
       "      el.textContent = \"BokehJS is loading...\";\n",
       "    }\n",
       "    if (root.Bokeh !== undefined) {\n",
       "      if (el != null) {\n",
       "        el.textContent = \"BokehJS \" + root.Bokeh.version + \" successfully loaded.\";\n",
       "      }\n",
       "    } else if (Date.now() < root._bokeh_timeout) {\n",
       "      setTimeout(display_loaded, 100)\n",
       "    }\n",
       "  }\n",
       "\n",
       "\n",
       "  function run_callbacks() {\n",
       "    try {\n",
       "      root._bokeh_onload_callbacks.forEach(function(callback) { callback() });\n",
       "    }\n",
       "    finally {\n",
       "      delete root._bokeh_onload_callbacks\n",
       "    }\n",
       "    console.info(\"Bokeh: all callbacks have finished\");\n",
       "  }\n",
       "\n",
       "  function load_libs(js_urls, callback) {\n",
       "    root._bokeh_onload_callbacks.push(callback);\n",
       "    if (root._bokeh_is_loading > 0) {\n",
       "      console.log(\"Bokeh: BokehJS is being loaded, scheduling callback at\", now());\n",
       "      return null;\n",
       "    }\n",
       "    if (js_urls == null || js_urls.length === 0) {\n",
       "      run_callbacks();\n",
       "      return null;\n",
       "    }\n",
       "    console.log(\"Bokeh: BokehJS not loaded, scheduling load and callback at\", now());\n",
       "    root._bokeh_is_loading = js_urls.length;\n",
       "    for (var i = 0; i < js_urls.length; i++) {\n",
       "      var url = js_urls[i];\n",
       "      var s = document.createElement('script');\n",
       "      s.src = url;\n",
       "      s.async = false;\n",
       "      s.onreadystatechange = s.onload = function() {\n",
       "        root._bokeh_is_loading--;\n",
       "        if (root._bokeh_is_loading === 0) {\n",
       "          console.log(\"Bokeh: all BokehJS libraries loaded\");\n",
       "          run_callbacks()\n",
       "        }\n",
       "      };\n",
       "      s.onerror = function() {\n",
       "        console.warn(\"failed to load library \" + url);\n",
       "      };\n",
       "      console.log(\"Bokeh: injecting script tag for BokehJS library: \", url);\n",
       "      document.getElementsByTagName(\"head\")[0].appendChild(s);\n",
       "    }\n",
       "  };var element = document.getElementById(\"8dff579c-e54c-4966-8e25-ba1be47b06e5\");\n",
       "  if (element == null) {\n",
       "    console.log(\"Bokeh: ERROR: autoload.js configured with elementid '8dff579c-e54c-4966-8e25-ba1be47b06e5' but no matching script tag was found. \")\n",
       "    return false;\n",
       "  }\n",
       "\n",
       "  var js_urls = [\"https://cdn.pydata.org/bokeh/release/bokeh-0.12.15.min.js\", \"https://cdn.pydata.org/bokeh/release/bokeh-widgets-0.12.15.min.js\", \"https://cdn.pydata.org/bokeh/release/bokeh-tables-0.12.15.min.js\", \"https://cdn.pydata.org/bokeh/release/bokeh-gl-0.12.15.min.js\"];\n",
       "\n",
       "  var inline_js = [\n",
       "    function(Bokeh) {\n",
       "      Bokeh.set_log_level(\"info\");\n",
       "    },\n",
       "    \n",
       "    function(Bokeh) {\n",
       "      \n",
       "    },\n",
       "    function(Bokeh) {\n",
       "      console.log(\"Bokeh: injecting CSS: https://cdn.pydata.org/bokeh/release/bokeh-0.12.15.min.css\");\n",
       "      Bokeh.embed.inject_css(\"https://cdn.pydata.org/bokeh/release/bokeh-0.12.15.min.css\");\n",
       "      console.log(\"Bokeh: injecting CSS: https://cdn.pydata.org/bokeh/release/bokeh-widgets-0.12.15.min.css\");\n",
       "      Bokeh.embed.inject_css(\"https://cdn.pydata.org/bokeh/release/bokeh-widgets-0.12.15.min.css\");\n",
       "      console.log(\"Bokeh: injecting CSS: https://cdn.pydata.org/bokeh/release/bokeh-tables-0.12.15.min.css\");\n",
       "      Bokeh.embed.inject_css(\"https://cdn.pydata.org/bokeh/release/bokeh-tables-0.12.15.min.css\");\n",
       "    }\n",
       "  ];\n",
       "\n",
       "  function run_inline_js() {\n",
       "    \n",
       "    if ((root.Bokeh !== undefined) || (force === true)) {\n",
       "      for (var i = 0; i < inline_js.length; i++) {\n",
       "        inline_js[i].call(root, root.Bokeh);\n",
       "      }if (force === true) {\n",
       "        display_loaded();\n",
       "      }} else if (Date.now() < root._bokeh_timeout) {\n",
       "      setTimeout(run_inline_js, 100);\n",
       "    } else if (!root._bokeh_failed_load) {\n",
       "      console.log(\"Bokeh: BokehJS failed to load within specified timeout.\");\n",
       "      root._bokeh_failed_load = true;\n",
       "    } else if (force !== true) {\n",
       "      var cell = $(document.getElementById(\"8dff579c-e54c-4966-8e25-ba1be47b06e5\")).parents('.cell').data().cell;\n",
       "      cell.output_area.append_execute_result(NB_LOAD_WARNING)\n",
       "    }\n",
       "\n",
       "  }\n",
       "\n",
       "  if (root._bokeh_is_loading === 0) {\n",
       "    console.log(\"Bokeh: BokehJS loaded, going straight to plotting\");\n",
       "    run_inline_js();\n",
       "  } else {\n",
       "    load_libs(js_urls, function() {\n",
       "      console.log(\"Bokeh: BokehJS plotting callback run at\", now());\n",
       "      run_inline_js();\n",
       "    });\n",
       "  }\n",
       "}(window));"
      ],
      "application/vnd.bokehjs_load.v0+json": "\n(function(root) {\n  function now() {\n    return new Date();\n  }\n\n  var force = true;\n\n  if (typeof (root._bokeh_onload_callbacks) === \"undefined\" || force === true) {\n    root._bokeh_onload_callbacks = [];\n    root._bokeh_is_loading = undefined;\n  }\n\n  \n\n  \n  if (typeof (root._bokeh_timeout) === \"undefined\" || force === true) {\n    root._bokeh_timeout = Date.now() + 5000;\n    root._bokeh_failed_load = false;\n  }\n\n  var NB_LOAD_WARNING = {'data': {'text/html':\n     \"<div style='background-color: #fdd'>\\n\"+\n     \"<p>\\n\"+\n     \"BokehJS does not appear to have successfully loaded. If loading BokehJS from CDN, this \\n\"+\n     \"may be due to a slow or bad network connection. Possible fixes:\\n\"+\n     \"</p>\\n\"+\n     \"<ul>\\n\"+\n     \"<li>re-rerun `output_notebook()` to attempt to load from CDN again, or</li>\\n\"+\n     \"<li>use INLINE resources instead, as so:</li>\\n\"+\n     \"</ul>\\n\"+\n     \"<code>\\n\"+\n     \"from bokeh.resources import INLINE\\n\"+\n     \"output_notebook(resources=INLINE)\\n\"+\n     \"</code>\\n\"+\n     \"</div>\"}};\n\n  function display_loaded() {\n    var el = document.getElementById(\"8dff579c-e54c-4966-8e25-ba1be47b06e5\");\n    if (el != null) {\n      el.textContent = \"BokehJS is loading...\";\n    }\n    if (root.Bokeh !== undefined) {\n      if (el != null) {\n        el.textContent = \"BokehJS \" + root.Bokeh.version + \" successfully loaded.\";\n      }\n    } else if (Date.now() < root._bokeh_timeout) {\n      setTimeout(display_loaded, 100)\n    }\n  }\n\n\n  function run_callbacks() {\n    try {\n      root._bokeh_onload_callbacks.forEach(function(callback) { callback() });\n    }\n    finally {\n      delete root._bokeh_onload_callbacks\n    }\n    console.info(\"Bokeh: all callbacks have finished\");\n  }\n\n  function load_libs(js_urls, callback) {\n    root._bokeh_onload_callbacks.push(callback);\n    if (root._bokeh_is_loading > 0) {\n      console.log(\"Bokeh: BokehJS is being loaded, scheduling callback at\", now());\n      return null;\n    }\n    if (js_urls == null || js_urls.length === 0) {\n      run_callbacks();\n      return null;\n    }\n    console.log(\"Bokeh: BokehJS not loaded, scheduling load and callback at\", now());\n    root._bokeh_is_loading = js_urls.length;\n    for (var i = 0; i < js_urls.length; i++) {\n      var url = js_urls[i];\n      var s = document.createElement('script');\n      s.src = url;\n      s.async = false;\n      s.onreadystatechange = s.onload = function() {\n        root._bokeh_is_loading--;\n        if (root._bokeh_is_loading === 0) {\n          console.log(\"Bokeh: all BokehJS libraries loaded\");\n          run_callbacks()\n        }\n      };\n      s.onerror = function() {\n        console.warn(\"failed to load library \" + url);\n      };\n      console.log(\"Bokeh: injecting script tag for BokehJS library: \", url);\n      document.getElementsByTagName(\"head\")[0].appendChild(s);\n    }\n  };var element = document.getElementById(\"8dff579c-e54c-4966-8e25-ba1be47b06e5\");\n  if (element == null) {\n    console.log(\"Bokeh: ERROR: autoload.js configured with elementid '8dff579c-e54c-4966-8e25-ba1be47b06e5' but no matching script tag was found. \")\n    return false;\n  }\n\n  var js_urls = [\"https://cdn.pydata.org/bokeh/release/bokeh-0.12.15.min.js\", \"https://cdn.pydata.org/bokeh/release/bokeh-widgets-0.12.15.min.js\", \"https://cdn.pydata.org/bokeh/release/bokeh-tables-0.12.15.min.js\", \"https://cdn.pydata.org/bokeh/release/bokeh-gl-0.12.15.min.js\"];\n\n  var inline_js = [\n    function(Bokeh) {\n      Bokeh.set_log_level(\"info\");\n    },\n    \n    function(Bokeh) {\n      \n    },\n    function(Bokeh) {\n      console.log(\"Bokeh: injecting CSS: https://cdn.pydata.org/bokeh/release/bokeh-0.12.15.min.css\");\n      Bokeh.embed.inject_css(\"https://cdn.pydata.org/bokeh/release/bokeh-0.12.15.min.css\");\n      console.log(\"Bokeh: injecting CSS: https://cdn.pydata.org/bokeh/release/bokeh-widgets-0.12.15.min.css\");\n      Bokeh.embed.inject_css(\"https://cdn.pydata.org/bokeh/release/bokeh-widgets-0.12.15.min.css\");\n      console.log(\"Bokeh: injecting CSS: https://cdn.pydata.org/bokeh/release/bokeh-tables-0.12.15.min.css\");\n      Bokeh.embed.inject_css(\"https://cdn.pydata.org/bokeh/release/bokeh-tables-0.12.15.min.css\");\n    }\n  ];\n\n  function run_inline_js() {\n    \n    if ((root.Bokeh !== undefined) || (force === true)) {\n      for (var i = 0; i < inline_js.length; i++) {\n        inline_js[i].call(root, root.Bokeh);\n      }if (force === true) {\n        display_loaded();\n      }} else if (Date.now() < root._bokeh_timeout) {\n      setTimeout(run_inline_js, 100);\n    } else if (!root._bokeh_failed_load) {\n      console.log(\"Bokeh: BokehJS failed to load within specified timeout.\");\n      root._bokeh_failed_load = true;\n    } else if (force !== true) {\n      var cell = $(document.getElementById(\"8dff579c-e54c-4966-8e25-ba1be47b06e5\")).parents('.cell').data().cell;\n      cell.output_area.append_execute_result(NB_LOAD_WARNING)\n    }\n\n  }\n\n  if (root._bokeh_is_loading === 0) {\n    console.log(\"Bokeh: BokehJS loaded, going straight to plotting\");\n    run_inline_js();\n  } else {\n    load_libs(js_urls, function() {\n      console.log(\"Bokeh: BokehJS plotting callback run at\", now());\n      run_inline_js();\n    });\n  }\n}(window));"
     },
     "metadata": {},
     "output_type": "display_data"
    }
   ],
   "source": [
    "output_notebook()"
   ]
  },
  {
   "cell_type": "code",
   "execution_count": 44,
   "metadata": {},
   "outputs": [],
   "source": [
    "subset_df = coords_df.sample(n=1000)"
   ]
  },
  {
   "cell_type": "code",
   "execution_count": 45,
   "metadata": {},
   "outputs": [
    {
     "data": {
      "text/html": [
       "<div style=\"display: table;\"><div style=\"display: table-row;\"><div style=\"display: table-cell;\"><b title=\"bokeh.models.renderers.GlyphRenderer\">GlyphRenderer</b>(</div><div style=\"display: table-cell;\">id&nbsp;=&nbsp;'2990fb86-2bcc-4f9d-b9cb-4ee1b748c93f', <span id=\"1ac85b06-6bbe-4a0f-9519-8168c94bff50\" style=\"cursor: pointer;\">&hellip;)</span></div></div><div class=\"7efea9d7-dcb9-4d80-aaa9-be7824aaa27c\" style=\"display: none;\"><div style=\"display: table-cell;\"></div><div style=\"display: table-cell;\">data_source&nbsp;=&nbsp;ColumnDataSource(id='be26282c-844a-43cc-aa7e-9d7bb05f8f3e', ...),</div></div><div class=\"7efea9d7-dcb9-4d80-aaa9-be7824aaa27c\" style=\"display: none;\"><div style=\"display: table-cell;\"></div><div style=\"display: table-cell;\">glyph&nbsp;=&nbsp;Text(id='823d683c-b909-4288-88ba-f33760a864d0', ...),</div></div><div class=\"7efea9d7-dcb9-4d80-aaa9-be7824aaa27c\" style=\"display: none;\"><div style=\"display: table-cell;\"></div><div style=\"display: table-cell;\">hover_glyph&nbsp;=&nbsp;None,</div></div><div class=\"7efea9d7-dcb9-4d80-aaa9-be7824aaa27c\" style=\"display: none;\"><div style=\"display: table-cell;\"></div><div style=\"display: table-cell;\">js_event_callbacks&nbsp;=&nbsp;{},</div></div><div class=\"7efea9d7-dcb9-4d80-aaa9-be7824aaa27c\" style=\"display: none;\"><div style=\"display: table-cell;\"></div><div style=\"display: table-cell;\">js_property_callbacks&nbsp;=&nbsp;{},</div></div><div class=\"7efea9d7-dcb9-4d80-aaa9-be7824aaa27c\" style=\"display: none;\"><div style=\"display: table-cell;\"></div><div style=\"display: table-cell;\">level&nbsp;=&nbsp;'glyph',</div></div><div class=\"7efea9d7-dcb9-4d80-aaa9-be7824aaa27c\" style=\"display: none;\"><div style=\"display: table-cell;\"></div><div style=\"display: table-cell;\">muted&nbsp;=&nbsp;False,</div></div><div class=\"7efea9d7-dcb9-4d80-aaa9-be7824aaa27c\" style=\"display: none;\"><div style=\"display: table-cell;\"></div><div style=\"display: table-cell;\">muted_glyph&nbsp;=&nbsp;None,</div></div><div class=\"7efea9d7-dcb9-4d80-aaa9-be7824aaa27c\" style=\"display: none;\"><div style=\"display: table-cell;\"></div><div style=\"display: table-cell;\">name&nbsp;=&nbsp;None,</div></div><div class=\"7efea9d7-dcb9-4d80-aaa9-be7824aaa27c\" style=\"display: none;\"><div style=\"display: table-cell;\"></div><div style=\"display: table-cell;\">nonselection_glyph&nbsp;=&nbsp;Text(id='09a501a8-eec6-4694-a2ad-9b779f2f9f49', ...),</div></div><div class=\"7efea9d7-dcb9-4d80-aaa9-be7824aaa27c\" style=\"display: none;\"><div style=\"display: table-cell;\"></div><div style=\"display: table-cell;\">selection_glyph&nbsp;=&nbsp;None,</div></div><div class=\"7efea9d7-dcb9-4d80-aaa9-be7824aaa27c\" style=\"display: none;\"><div style=\"display: table-cell;\"></div><div style=\"display: table-cell;\">subscribed_events&nbsp;=&nbsp;[],</div></div><div class=\"7efea9d7-dcb9-4d80-aaa9-be7824aaa27c\" style=\"display: none;\"><div style=\"display: table-cell;\"></div><div style=\"display: table-cell;\">tags&nbsp;=&nbsp;[],</div></div><div class=\"7efea9d7-dcb9-4d80-aaa9-be7824aaa27c\" style=\"display: none;\"><div style=\"display: table-cell;\"></div><div style=\"display: table-cell;\">view&nbsp;=&nbsp;CDSView(id='d28fd1b6-3dc0-4073-aa92-a98d66cc9044', ...),</div></div><div class=\"7efea9d7-dcb9-4d80-aaa9-be7824aaa27c\" style=\"display: none;\"><div style=\"display: table-cell;\"></div><div style=\"display: table-cell;\">visible&nbsp;=&nbsp;True,</div></div><div class=\"7efea9d7-dcb9-4d80-aaa9-be7824aaa27c\" style=\"display: none;\"><div style=\"display: table-cell;\"></div><div style=\"display: table-cell;\">x_range_name&nbsp;=&nbsp;'default',</div></div><div class=\"7efea9d7-dcb9-4d80-aaa9-be7824aaa27c\" style=\"display: none;\"><div style=\"display: table-cell;\"></div><div style=\"display: table-cell;\">y_range_name&nbsp;=&nbsp;'default')</div></div></div>\n",
       "<script>\n",
       "(function() {\n",
       "  var expanded = false;\n",
       "  var ellipsis = document.getElementById(\"1ac85b06-6bbe-4a0f-9519-8168c94bff50\");\n",
       "  ellipsis.addEventListener(\"click\", function() {\n",
       "    var rows = document.getElementsByClassName(\"7efea9d7-dcb9-4d80-aaa9-be7824aaa27c\");\n",
       "    for (var i = 0; i < rows.length; i++) {\n",
       "      var el = rows[i];\n",
       "      el.style.display = expanded ? \"none\" : \"table-row\";\n",
       "    }\n",
       "    ellipsis.innerHTML = expanded ? \"&hellip;)\" : \"&lsaquo;&lsaquo;&lsaquo;\";\n",
       "    expanded = !expanded;\n",
       "  });\n",
       "})();\n",
       "</script>\n"
      ],
      "text/plain": [
       "GlyphRenderer(id='2990fb86-2bcc-4f9d-b9cb-4ee1b748c93f', ...)"
      ]
     },
     "execution_count": 45,
     "metadata": {},
     "output_type": "execute_result"
    }
   ],
   "source": [
    "p = figure(plot_width=600, plot_height=600)\n",
    "p.text(x=subset_df.x, y=subset_df.y, text=subset_df.token)"
   ]
  },
  {
   "cell_type": "code",
   "execution_count": 46,
   "metadata": {},
   "outputs": [
    {
     "data": {
      "text/html": [
       "\n",
       "<div class=\"bk-root\">\n",
       "    <div class=\"bk-plotdiv\" id=\"72629d23-294a-4e10-827d-8735374ec429\"></div>\n",
       "</div>"
      ]
     },
     "metadata": {},
     "output_type": "display_data"
    },
    {
     "data": {
      "application/javascript": [
       "(function(root) {\n",
       "  function embed_document(root) {\n",
       "    \n",
       "  var docs_json = {\"b7f3ad9b-cb2c-4689-befa-5a1bc9abb12e\":{\"roots\":{\"references\":[{\"attributes\":{\"source\":{\"id\":\"be26282c-844a-43cc-aa7e-9d7bb05f8f3e\",\"type\":\"ColumnDataSource\"}},\"id\":\"d28fd1b6-3dc0-4073-aa92-a98d66cc9044\",\"type\":\"CDSView\"},{\"attributes\":{\"callback\":null},\"id\":\"a09fcae0-3347-4e52-95e6-5a1eb378a1ce\",\"type\":\"DataRange1d\"},{\"attributes\":{},\"id\":\"aa4e0142-2d56-48a3-b670-d3de9cfa30d3\",\"type\":\"BasicTicker\"},{\"attributes\":{\"overlay\":{\"id\":\"9440ae6b-4bab-443e-9741-f5e9e8ec6c7a\",\"type\":\"BoxAnnotation\"}},\"id\":\"484ace05-bbd8-4b93-bf63-415f75f67387\",\"type\":\"BoxZoomTool\"},{\"attributes\":{\"text_color\":{\"value\":\"black\"},\"x\":{\"field\":\"x\"},\"y\":{\"field\":\"y\"}},\"id\":\"823d683c-b909-4288-88ba-f33760a864d0\",\"type\":\"Text\"},{\"attributes\":{},\"id\":\"cea796ed-993b-43da-9654-89ebe6e78652\",\"type\":\"PanTool\"},{\"attributes\":{},\"id\":\"24b56532-7c31-4ab9-901c-8a86218f77bd\",\"type\":\"BasicTickFormatter\"},{\"attributes\":{\"callback\":null,\"column_names\":[\"x\",\"y\",\"text\"],\"data\":{\"text\":[\"adore\",\"regain\",\"lunatics\",\"surmise\",\"architecture\",\"visiting\",\"Twas\",\"future\",\"waters\",\"Earth\",\"pondering\",\"ceiling\",\"moral\",\"bullets\",\"lights\",\"cherished\",\"narration\",\"acts\",\"Pleased\",\"clamorous\",\"doubt\",\"declared\",\"pink\",\"forthwith\",\")--\",\"Standing\",\"van\",\"arise\",\"Likewise\",\"lot\",\"account\",\"Lee\",\"bold\",\"caps\",\"Zelia\",\"wiped\",\"wisdom\",\"uneasiness\",\"cruet\",\"resolve\",\"Statue\",\"race\",\"concluded\",\"collected\",\"atheists\",\"summon\",\"deny\",\"directions\",\"slily\",\"critical\",\"prophet\",\"Loue\",\"Pooh\",\"individual\",\"musical\",\"ruinous\",\"enter\",\"penitent\",\"rugged\",\"orders\",\"slippers\",\"issuing\",\"Heir\",\"fiercer\",\"marching\",\"comprehended\",\"solitude\",\"tucked\",\"mammy\",\"Fourth\",\"distant\",\"exhibited\",\"forsaken\",\"corrupt\",\"Behind\",\"duty\",\"arrangement\",\"ruthless\",\"finding\",\"upheld\",\"original\",\"authors\",\"asked\",\"headsmen\",\"lend\",\"phantoms\",\"vnto\",\"white\",\"feebly\",\"Four\",\"pluck\",\"Jerry\",\"Buildings\",\"aspiring\",\"gamesome\",\"tuned\",\"swing\",\"confirm\",\"unprincipled\",\"'-\",\"Virtue\",\"Green\",\"swells\",\"Lord\",\"sneaking\",\"examination\",\"rode\",\"desiring\",\"passion\",\"disasters\",\"hissed\",\"passage\",\"issued\",\"friends\",\"impudence\",\"feverish\",\"event\",\"sincere\",\"whiting\",\"flushed\",\"enabled\",\"measureless\",\"pause\",\"prior\",\"forenoon\",\"rooted\",\"ordained\",\"Martha\",\"uproar\",\"chaps\",\"balloon\",\"nay\",\"tapping\",\"tide\",\"marched\",\"combined\",\"shuddering\",\"hopelessly\",\"masks\",\"daresay\",\"usage\",\"asserted\",\"faced\",\"discoloured\",\"withhold\",\"SHIP\",\"careless\",\"dares\",\"sheer\",\"Gladly\",\"During\",\"twinkling\",\"Yankee\",\"probably\",\"A\",\"torrid\",\"exhausted\",\"difficulty\",\"making\",\"maintained\",\"drift\",\"remembered\",\"mischievous\",\"calm\",\"changes\",\"sobbed\",\"unsuspected\",\"anvil\",\"fuller\",\"sicknesse\",\"honourable\",\"marvellous\",\"Almighty\",\"drinks\",\"flee\",\"befel\",\"immortality\",\"groan\",\"Pindarus\",\"other\",\"piteous\",\"nearer\",\"provoked\",\"ugly\",\"abated\",\"estimated\",\"timed\",\"trace\",\"tangle\",\"preparation\",\"shake\",\"shared\",\"meaning\",\"impertinence\",\"deuce\",\"potent\",\"deceitful\",\"Has\",\"uncouth\",\"considerable\",\"lowered\",\"advised\",\"Pomfret\",\"descended\",\"vpon\",\"fancy\",\"hoist\",\"drawing\",\"Madeleine\",\"Away\",\"bees\",\"wrought\",\"Pip\",\"shirts\",\"purchased\",\"edged\",\"disastrous\",\"glances\",\"published\",\"Hare\",\"hovering\",\"Coming\",\"arithmetic\",\"Enemy\",\"magnificence\",\"chorus\",\"Flora\",\"philosophical\",\"navy\",\"fate\",\"flow\",\"obstacle\",\"pack\",\"shutters\",\"kiss\",\"steal\",\"flew\",\"hospitable\",\"sticks\",\"Meets\",\"wandering\",\"study\",\"speedily\",\"smart\",\"suffering\",\"spade\",\"governess\",\"expectations\",\"light\",\"strolled\",\"uttermost\",\"$\",\"easy\",\"flesh\",\"mildness\",\"ringleader\",\"interrupt\",\"smiled\",\"revolved\",\"touching\",\"dye\",\"neglected\",\"shadowed\",\"Yes\",\"balm\",\"south\",\"!\",\"wages\",\"improve\",\"thinke\",\"beares\",\"overcame\",\"curved\",\"introduction\",\"temper\",\"ineffable\",\"phantom\",\"sexes\",\"Mogul\",\"Bobby\",\"rare\",\"corpse\",\"stronger\",\"Jackal\",\"tubs\",\"unkind\",\"sudden\",\"messengers\",\"obeying\",\"Ambitious\",\"games\",\"Ludgate\",\"metal\",\"eligible\",\"sermon\",\"minded\",\"hotel\",\"maxim\",\"Clouds\",\"cutting\",\"Cutler\",\"sitting\",\"Deci\",\"riches\",\"wept\",\"Catholic\",\"maze\",\"astern\",\"eyelids\",\"sofa\",\"Moreover\",\"yields\",\"parts\",\"infallibly\",\"glasses\",\"mild\",\"stuff\",\"sanity\",\"tightened\",\"senile\",\"dread\",\"encouraged\",\"pitching\",\"rights\",\"seriousness\",\"prejudices\",\"trial\",\"Man\",\"beholds\",\"resolute\",\"er\",\"mad\",\"management\",\"pursuing\",\"pace\",\"vines\",\"sneezing\",\"annuity\",\"watered\",\"concerning\",\"repast\",\"forcibly\",\"packed\",\"circumstances\",\"Seven\",\"Revolution\",\"Through\",\"dusty\",\"adequately\",\"shavings\",\"permanent\",\"Lark\",\"previous\",\"What\",\"creating\",\"swifter\",\"military\",\"Day\",\"haven\",\"partnership\",\"inhabited\",\"45\",\"move\",\"manage\",\"aristocrat\",\"invariable\",\"bronze\",\"wasn\",\"despatched\",\"tossing\",\"low\",\"rueful\",\"vexed\",\"crown\",\"honestly\",\"intellect\",\"hemlock\",\"faintest\",\"Brahmin\",\"awhile\",\"October\",\"invention\",\"knock\",\"she\",\"Sad\",\"crimes\",\"alone\",\"work\",\"Irish\",\"Southern\",\"bulwarks\",\"Circus\",\"torments\",\"commendation\",\"finger\",\"unmistakable\",\"Euen\",\"rebel\",\"o\",\"pitiful\",\"wakened\",\"President\",\"correctly\",\"referred\",\"morsel\",\"High\",\"examine\",\"declining\",\"defined\",\"Buttons\",\"advisable\",\"holds\",\"call\",\"confounded\",\"premium\",\"lying\",\"Sole\",\"Malvoli\",\"harpoon\",\"keeping\",\"flashing\",\"ounce\",\"divinely\",\"how\",\"THIS\",\"Cassi\",\"Frogs\",\"Land\",\"political\",\"mistakes\",\"unsuccessful\",\"reed\",\"manly\",\"find\",\"hears\",\"ANY\",\"ay\",\"Mamma\",\"dirty\",\"scratching\",\"loth\",\"3\",\"contradictory\",\"prevented\",\"follow\",\"fruitless\",\"communication\",\"mouthful\",\"Why\",\"large\",\"tossed\",\"perched\",\"ribs\",\"worshippers\",\"decently\",\"interrupted\",\"waded\",\"aghast\",\"Turk\",\"starting\",\"deprive\",\"deeps\",\"lord\",\"sulphurous\",\"skull\",\"disdain\",\"presence\",\"--\",\"wants\",\"sawest\",\"origin\",\"recently\",\"driven\",\"talk\",\"Alabama\",\"tiger\",\"cuffs\",\"poetical\",\"unbar\",\"interposed\",\"picked\",\"carving\",\"precisely\",\"hip\",\"HIS\",\"covers\",\"Messa\",\"triumph\",\"destiny\",\"maids\",\"naught\",\"folk\",\"chalk\",\"corresponding\",\"bowed\",\"Highest\",\"moist\",\"Too\",\"Possum\",\"secrets\",\"noon\",\"enquiry\",\"moonlight\",\"tapers\",\"assent\",\"slabs\",\"engrossed\",\"created\",\"crutch\",\"lustrous\",\"socks\",\"nobleman\",\"ARE\",\"elaborate\",\"encouraging\",\"high\",\"Bedford\",\"Nobody\",\"irritating\",\"crawling\",\"Give\",\"flye\",\"marking\",\"Grand\",\"pointing\",\"Wisdom\",\"evidence\",\"bats\",\"imitate\",\"gleam\",\"drew\",\"home\",\"sorrows\",\"Dr\",\"Certainly\",\"critters\",\"ample\",\"noble\",\"leviathan\",\"Parsee\",\"Both\",\"judges\",\"moan\",\"arranged\",\"satisfying\",\"torn\",\"hanging\",\"oxen\",\"amongst\",\"inscrutable\",\"pipe\",\"pit\",\"partially\",\"Mind\",\"vacantly\",\"coincidence\",\"mouth\",\"hiss\",\"parody\",\"dealing\",\"recent\",\"circle\",\"arresting\",\"brigand\",\"cowardly\",\"rage\",\"depraved\",\"Pendragons\",\"melon\",\"r\",\"revolt\",\"'\",\"swore\",\"nostrils\",\"sunset\",\":--\\\"\",\"signals\",\"supplied\",\"feeds\",\"shady\",\"contentment\",\"Pole\",\"rank\",\"join\",\"forget\",\"since\",\"headed\",\"sweat\",\"Java\",\"confidence\",\"sin\",\"customary\",\"lead\",\"shell\",\"your\",\"oneself\",\"solemn\",\"Dominations\",\"Sebastian\",\"written\",\"snapping\",\"nowhere\",\"perceiue\",\"curious\",\"directing\",\"chanced\",\"Money\",\"accompanying\",\"Pull\",\"rural\",\"lobsters\",\"expecting\",\"fro\",\"forbear\",\"crushed\",\"richer\",\"succeeding\",\"coil\",\"motive\",\"smoothly\",\"appellation\",\"pail\",\"resolved\",\"gateway\",\"CHAPTER\",\"extracts\",\"converted\",\"magnifying\",\"country\",\"upside\",\"sakes\",\"Ducks\",\"moving\",\"purple\",\"told\",\"Decius\",\"bowl\",\"straight\",\"prospect\",\"quarrelled\",\"close\",\"shone\",\"apologies\",\"obscure\",\"Help\",\"cheery\",\"profits\",\"scalding\",\"stream\",\"causes\",\"aged\",\"inference\",\"immovable\",\"picking\",\"designated\",\"Something\",\"suspected\",\"suspicions\",\"Leviathan\",\"mornings\",\"towing\",\"soundings\",\"fool\",\"intricacies\",\"bless\",\"silken\",\"Ryan\",\"detestable\",\"cleaned\",\"considerate\",\"moves\",\"insufferable\",\"Camel\",\"box\",\"folds\",\"timber\",\"social\",\"comparatively\",\"quarters\",\"parsonage\",\"confinement\",\"words\",\"protect\",\"sling\",\"faults\",\"treat\",\"Asia\",\"countries\",\"telescope\",\"gliding\",\"verdure\",\"border\",\"imaginable\",\"embark\",\"O\",\"incongruous\",\"cracks\",\"unmoved\",\"heel\",\"gasp\",\"longed\",\"Canaan\",\"Windmill\",\"cider\",\"beware\",\"copy\",\"saint\",\"grip\",\"tuft\",\"dearest\",\"Eternity\",\"stand\",\"cow\",\"Catholicism\",\"People\",\"onely\",\"playthings\",\"flinging\",\"bags\",\"From\",\"perceptible\",\"visual\",\"reflections\",\"comprehension\",\"revealing\",\"pike\",\"ours\",\"survey\",\"Paradise\",\"innocent\",\"JOHN\",\"rouse\",\"September\",\"seuerall\",\"Unseen\",\"shipwrecked\",\"OF\",\"plane\",\"slanting\",\"abounding\",\"maul\",\"awakened\",\"trifle\",\"enjoy\",\"sunny\",\"surrounded\",\"giants\",\"ancient\",\"ROBERT\",\"vanish\",\"thought\",\"perceive\",\"takes\",\"whiskers\",\"Awake\",\"solicitude\",\"weak\",\"apply\",\"rowing\",\"thanks\",\"formerly\",\"gazing\",\"staircase\",\"sparks\",\"Ant\",\"hazard\",\"contains\",\"course\",\"brass\",\"any\",\"birthday\",\"plaster\",\"distrust\",\"wavering\",\"slightly\",\"shade\",\"let\",\"angels\",\"cupboard\",\"lower\",\"statues\",\"frock\",\"zone\",\"wings\",\"possession\",\"government\",\"prize\",\"talked\",\"motor\",\"Count\",\"baskets\",\"Tell\",\"thirsty\",\"keepe\",\"cheated\",\"page\",\"swum\",\"Peggy\",\"arrangements\",\"bone\",\"curricle\",\"steward\",\"Though\",\"fossils\",\"convey\",\"existence\",\"whither\",\"month\",\"blooming\",\"Hallo\",\"Tit\",\"vast\",\"related\",\"mixture\",\"gowns\",\"pitchpoling\",\"anybody\",\"reel\",\"]\",\"diffident\",\"Honour\",\"sleeping\",\"seeing\",\"belief\",\"Cas\",\"stranded\",\"shopman\",\"steers\",\"grasshopper\",\"unborn\",\"looks\",\"beene\",\"RED\",\"nevertheless\",\"Honest\",\"road\",\"thrown\",\"marble\",\"train\",\"continued\",\"symbol\",\"feverishly\",\"situated\",\"Since\",\"corps\",\"literature\",\"success\",\"Peter\",\"hilt\",\"denying\",\"thirds\",\"thigh\",\"curls\",\"Chief\",\"cuts\",\"uncommonly\",\"Put\",\"denied\",\"traditions\",\"split\",\"knotted\",\"spasm\",\"hieroglyphics\",\"seeke\",\"noises\",\"serenely\",\"yelled\",\"visits\",\"scare\",\"Patrick\",\"makes\",\"medium\",\"pages\",\"bore\",\"Grateful\",\"Downs\",\"boxes\",\"tire\",\"bits\",\"amused\",\"onset\",\"scores\",\"older\",\"stunning\",\"History\",\"assist\",\"surrender\",\"cat\",\"shuddered\",\"thief\",\"vse\",\"foremast\",\"honey\",\"Till\",\"induced\",\"lesser\",\"unearthly\",\"oceans\",\"portion\",\"opening\",\"Sub\",\"collision\",\"beget\",\"Lamb\",\"challenge\",\"drugged\",\"gills\",\"required\",\"Five\",\"defendants\",\"beds\",\"vile\",\"sided\",\"nut\",\"GO\",\"wretched\",\"Tattle\",\"glowing\",\"felicity\",\"diving\",\"unite\",\"elect\",\"legions\",\"pavement\",\"Hirsch\",\"dense\",\"soar\",\"clapped\",\"dignified\",\"appointed\",\"praising\",\"Turnbull\",\"spun\",\"weake\",\"jeopardy\",\"ingenious\",\"shouldn\",\"Words\",\"departed\",\"sustain\",\"wealthy\",\"eighteenth\",\"skies\",\"waist\",\"stooped\",\"imperfect\",\"dancing\",\"Farmer\",\"implements\",\"Archy\",\"Natural\",\"continent\",\"HAVE\",\"sunlit\",\"nights\",\"calculating\",\"wish\",\"DUODECIMO\",\"fumbling\",\"Francisco\",\"foundations\",\"Lucius\",\"aristocratic\",\"derision\",\"confession\",\"Mediterranean\",\"dire\",\"humming\",\"smaller\",\"landed\",\"Wild\",\"coins\",\"heartily\",\"playhouse\",\"literally\",\"refuge\",\"yawning\",\"interrupting\",\"minde\",\"concluding\",\"Abbey\",\"Providence\",\"burn\",\"yield\",\"bridge\",\"gratitude\",\"happier\",\"can\",\"harpers\",\"bespoke\",\"horses\",\"twine\",\"counterpane\",\".,\",\"That\",\"seems\",\"abide\",\"eyebrows\",\"bethink\",\"abode\"],\"x\":{\"__ndarray__\":\"YRvkPqwEFz5wmZs9fknRPcKdl70BFPu9PISWPbxAFT77pQW/+9XYvJ8KIb0ZsPe+vkFIPhaSpr52p9i+1pbfvE4NTL3zb2S9P0QEvLxpAb6H7XQ+yakQPr3j9b7/lFG9SrvwPnyYuL6OYt6+YwaNPupgEr3unKw+nS5YPi8aOTvaJxm98dMCv/7cJj4pa1C+kA1bPvQPwz0iiGq81BofPrNkBj5PwjI6QGLjPXACmb3Bi0k+hV5xvbyn2j4vKKS+87osvlD2VL2aqhc8gr4PPyn2nz4D/BQ+k3iuvbIOZ7433Fk+tloAPJwk4L69ICE+D9YKPU9F2L66+iI+ZgHNvoATAb9sZIk9ee06PTnXrL6m8sA+JrQvvqjn0b54iuS9H5QHPo6olj72l+q+bI51PpU2/j2sxPO9vErnPZj2Szwca1u8ud81PNQgcz6qb3K+UzDQPhjPkL6pXhI/6KDyvpJUub3r1RQ8AWWlPvX19D0D7+S8gOEMPmfc+D3ztbm+rwXuvl0WoTyPflo9scKIvtUgij5sQy2+w0D/vj+wPj9xUac+FYoKvcgc8b6KBm4+sbdFPpQVeL2sDn6+wmG8vjbKv75nOjc+L2lAPW5rLb4fwCg+D79aPoKnqD5VrMa+sWg4PUkSsb7iUTU+YlyePZaZmL50vd2+idN/PtTXWb0Ixtq+TriYPkt+C70ZNsQ+nIWfvWPz775eOvW+JTKIvnDpvr7pBxG9h+mLvncX4D7hYhe9flMtvR3c3r6Vpfe+bv0+PsQyhz8YEtk9dwk+Pl/5v764S4c98mQtvi313r7KfSQ+7242PmVmsD6Wxa++RXfbvQ5OGT41gAg+/S8aPDbpp74D0AA+OUkavV/5Kr7dbBe+YoNWPWO/K74lKZu+i2pnvpUZhT7gBl0+wNLLvR3+Oz4By78+caPxu88IV70Ikws+LPxGvoKDAj91MeC9/pBXvhabpb6vD6M9oNGjPaivv77LSlq9hCkzPTlGZL3mYAe/o8mlux2tGD4oe029rRmNPmoMrz2A1Ns+oGutvImeHj4IhdE+fTpNvtq9uT0SzRa+c6WRPgJloD6RF/O+QYNLP8P3hj5D4YO+8UwFPYP8aL1UQr4+XpTxvprpd71pyqI+vQKgvpBdMb3pC9m+T1m8vqNGkb5SisI9uq6EPgMqDL9e7Qs+ZQ1FPek1/T6sd3e+Epi3PSRi8D3A7IA9jxoQvkxFKD5IST6+bsyjPa51Rj5Ixbq+evTNPo0K4j6vfum+vPM5vZsWxb4WQW6+keZGvr5zOj5sJpE8USKfPhxyHD4t0+W+Q2rEPkaPEz5ZyQe/q43nvvpYI75xm3k+ypdiPj53Ej37FC29CCImPbO10D4xmza+3r+zvlIzgLuV0yU/19YePiNbtr4rR/o+dOifvrSrAb8IMww/cNvhPexGbT45/zo/rNYQP7VXBT3x0we/TZACPu42Qj5+24U+gqHUvrXUkb7W7Iq9iPgXvt+Kmjvo8du+drECPuNqiT7aYrq+tw9oPiuvjL6BAE680ak6PlTiEz+t4Zy9zSPkvnVyC7/jR9E9zoLCPQ9AEz4dS8m+OAU+Pr8sM73E+uy+4uWbPaVpbL761Hk/umxDPiUzmL480xI+vCa6vqAw675oUNm+uCStveVzKL7vUlu+Q7ZWvsLkkb1PlNe+9p+lvviRcz7FdLo9HcjgvjoEjL7GKXG9y1pQPipSxL4wA7U9qMPWvX7DXD5jEJo+OZVyPhpphb6caZ++KC6CvuWR6T7Os8a9N3cpvbOAmL59O9U9Eq1OPLzkMz4lV9e+26nEPRPPpb0iZ687eQ22vroyGj67Ghw9zSvaPreel77T0mC+kzINPtS1tL48X8+8hQY9vbeEwb1dVBc/VfkpviBFpD7Oy4O9/fo1vTTwBj8tZ0Q+haelvXCXIT/WROc9ZgnjPvkTVL3N2+29Z34NvxoQBD/y+ma9L7EBv3AuP75VK4G+iOKvvGSbOD1zHNA+h1DOPaBiub7b+kc9eoPKPkjbgj1uY2o/fSi2PveiA76i7mk+2PGCPWnOYz3i+JI+mHhyPh13ULyL93C9LuPvvg0a0L7BipO8yl9RPjzdvL5k6QO/LjShPlJhAz53pkO+q8ipPg21PDzlNUg+NoKOvUfkGL1ZbGA+IVgevo2PPD29qQw+lQ/CvJficL0aG40+6TMEPkeR6j5W4Dc+KgoRPp6M3L7BDgI+CYtCPmBbzL4ulqc9P93yvjxWuD3j2RG+/pfTPgA0Kz9tHoI+fVESvmmfhb1J3gS98BeIPmyrmr0pj6q+QB5ivaDexT4W07E+cZt7P3p64z7RV+w+TFv4PGdl9b3tgIs+Q0h7P0miRj0YVAc+aV7UPscfpL1k3hk+yrC0vRtiEz9GZYm+xrYFv0FduL6vXPy+u8KWvllZkb1o3aI+SGyWvq7LfL53/zQ+cpKWPeRcbz5DXiW+pBTNPiLi0L5JdOa+xm3JvRU4ED6AKHI+UszZPsZ9Lz2urlK9b1uBPXY0sr5ctN8+DzBMvQcD/b7r1x49z0bdPWlQLj57Tqi9H6XKvicp1b5dlQQ+ECMqvsebjj9iPBw9evdpP1Nro71SC5g9M+9svmshgj1pSgu9kFHCvuZUa74pIX6+oEKqPVFU2b6g9Zs+H7wdPcrNOT1E5/K+ORBKPfGA5r4IJLO+6vKgvndj+L4wyTy9b3opPhdHe741Fwa/tLXsvuQQoD0zT1Y/o7U6PflzDD6cSd++SkVRviob0T61e469uHnkvlfgBj8cYA4/OTPtvSRPUr5zc5A9LgXmPpy5pT5c2dU+bMWpPYxGCL/rup++gmZXPq4s5juajY8+uzn8PjaC6j43++C+rLUnvcDJXL5LUNS+XY9xvKDL+738C1m+QvIIPpwYtjzHz+6+DqbUvmSAX74VFao9Ud/JvZ3tz77O3N29D0e3vhmgsz5Om6S+YYzsPKRYxL73hci+eDeJvmurCD6w1Xq+K961vqLvd72h3h6+8YzTvFL+Tr7HWmc+/1V8vcvxST4A0rg+GYMmPty6oD4sZhE+RFLcvjsaEL9DQ54+4vMxvg+oZT3TSyW+QroCvxFQgT7he1Q+PXVKvprCyT7RCOw+1IJXPhsZwr5UWWi+3BS5vq3QWT6zs38+SxRKvgvdWj5Mqr08svfwPtNTgj48Gkq+rob3vC8U7D6nihs+OXoFv5XVAz7nB6A+v44RPkvZfb1NMSW+i3gRPUSsmL7w1wA/EietvjK8jj5XmTm9jG0Kv0Q0PT5Mvtm+y6FbPcgkHr2Pi6++yLN9Ptybjr605Pi8FZyOvkq8Yj5Tbfi+QtiOP/AyALyHGFo9DnuDvmAAQ72yRqG+AidfPpuecb4aCtS+uoMGv43Emz6vP0Y/Ig5evaA38r58ihS9DHuuPiV+wb4ANwy/xJ6KPi0cxr4o9dY+DcRWPkqzaD6Fkda+kEf+vhqT07xlHae+ERLIPbvpNL6bgLu+dbeOvZfyej7MQIQ+OLL5PcahL77F+Ee+TxDxvjvZ7L0v5+k+bU7PvmB5Gz/nNsm+DCsnP9gXKj4IOyi+aCUMPpL+Eb0vXp69AlJCPnVunb2kcwi/bYPVvqAyJj2CTB6+R5GvvgMjMD1P/ru8KnTdvDIkij7eJXW8VcI+PrS3tD5hzq2+GKgmvQPgd76c9Nu+lq7tvlGyob7Aops9GKcVvV9xKT89FG29tTeYvhr/Z77PhgS/qNlfvr3BoT449F++tBMvvvFEbT0W+xY/c1TiPXnCdL2DiQe+uGfrvptLvT5iIK27NDYxPnL3iD0rjU4+A9+LPpQbpj4keao+ZorHvi/rcL523Aq+ypEOvV94p7wt6Ik9kG88Pdbw+r6xC6u+/sOPPndeqLyNoCS9rHSCu2I0cz9wdAu92gigPcndSD41lKK+g07VvJXNkz8hxFK+kXwIv0qWAr6g1rC+SeJfvALgJT4XIqk+N0vZvg10K76nw52+GCXXvePBFj94HIk+9ol/PvTjYj5XpAU+87LkvnJLlz79uzg+MiXlPRHyoT5pB2G+WqWKPnojrz0G89m+cAipvl6lBr8iNhI/gzdLPl3mXr50Xn4+u0cIv1ZShT7rX6s+uJeCvkxxCz6AQOW+tn/CvrEyBb/vKQo/rTHGvbkk270sEAG/7nnsvuKO7L6+o82+Y/4NvzJSDj6nL1I9M79gPjJDBT6mdpi+sf1yPUuMxr5RTgQ/tjAPvoZGCD8i91Q+qAaLvR1cw76yjJU+YwgzPoLKxr47i44+gK4rPZkpFT4+n5K9EC2NPgchPj7i94Q+8VrxPYjlq76ab8c+PNVfvtEP8r7jxz8+C7OBvd0jo74umw2+Ae/OPtzFXb4BWo8/hd0dPgwIrT2AvkK73V1MPqVpFD4VDHA/nJQ5vuyGEL6Z37y+CzPRvfvTw704pDo+3O7yPkPmXj/roKY9dduuPmGF5L7H6Lu+dZILv6Ozirxz+Iw+ZYsMPYMMl77sZLq9W1qGPoX6hb1+kFE5oUUhPlrM5T2k4YK+BGkRPQg7er5zPV6+BtcGv92YVz4/Z8Q9Zu80Puznhj6h6749ITwjPWl0xb5JVte+cWGOvsG2hr5+qP8+buXQvtKJjr7xN3W+kajAPTGpAj4D6og9QA6DPtt8Lj7t8XO+KE6rvjTIuryCauW8G3ZKvvC4Tz4UgOO+md8FPjzXkr7ggAG+rwY6Pvacn74VKx090uNOPhQqCzy28Hu9tYIkPg+2Cj/rudo+zl2nvtBSpj7mT/y9Y94LPq3ENT2gcFW+tZuAvi06bz3ir86+NMipPXyYp71slTs+o5jQPjzaET54CLI9Ixv1vf6rIT4zGWU+lyECvgqE1L59aNU+wu92Pdb/kb4EA3w/b+E4Pm8Amj4FKc6+c2utPUSQyr7yZGS9MuDMPUHmqr5ChPy+bdCsPnFrq74ZC/q9eMmhvmXokb0nPZ28gxINPvq2DT49M8m+363LPputr71SQPE920kMP95PGb2fhVW9j2lTPo2m7z0iSYq953XUvqzmBL/NB+i+fucsvgxlxr6ZL28+CxISvl3qWT6AUEg7h9vOvVdBPD/f9gC/9CBdvvmg/L0pEuc+v8hRP3QzaryrUJI+Lh+ZvtCDPD/jyLq+nWovvicobzwj55C+afd7vnHV2r6shXu+LIo8vgxPF77C/b+9mgihPpiPnD6CIdm+cEaZvDffjb49pcQ+cTH/PtytJD1PmQQ+aWb5PEsZ27wLWpQ+9KsGv5EVQj6VOJg+KMwEPxF/pr6nfGQ+ACZ1vga9vryPwIi+5CZ1PxU16T73oFc+rJO5PhAYuL5wKBs+ab/qPQ==\",\"dtype\":\"float32\",\"shape\":[1000]},\"y\":{\"__ndarray__\":\"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\",\"dtype\":\"float32\",\"shape\":[1000]}},\"selected\":null,\"selection_policy\":null},\"id\":\"be26282c-844a-43cc-aa7e-9d7bb05f8f3e\",\"type\":\"ColumnDataSource\"},{\"attributes\":{\"formatter\":{\"id\":\"24b56532-7c31-4ab9-901c-8a86218f77bd\",\"type\":\"BasicTickFormatter\"},\"plot\":{\"id\":\"be948680-89da-4985-86b1-35a1495e03b0\",\"subtype\":\"Figure\",\"type\":\"Plot\"},\"ticker\":{\"id\":\"aa4e0142-2d56-48a3-b670-d3de9cfa30d3\",\"type\":\"BasicTicker\"}},\"id\":\"fb05175d-9121-4e70-a148-b2a19eee29cc\",\"type\":\"LinearAxis\"},{\"attributes\":{},\"id\":\"cc61aaf0-2988-4ec1-8025-f26fd65c467f\",\"type\":\"SaveTool\"},{\"attributes\":{},\"id\":\"6f0112df-934e-4d39-9751-40b59eb9e420\",\"type\":\"BasicTickFormatter\"},{\"attributes\":{},\"id\":\"4119764b-c3b8-47a4-9e62-843dd8e2c5d5\",\"type\":\"HelpTool\"},{\"attributes\":{\"formatter\":{\"id\":\"6f0112df-934e-4d39-9751-40b59eb9e420\",\"type\":\"BasicTickFormatter\"},\"plot\":{\"id\":\"be948680-89da-4985-86b1-35a1495e03b0\",\"subtype\":\"Figure\",\"type\":\"Plot\"},\"ticker\":{\"id\":\"7edefbe7-b123-4ad2-9b18-dca95207f396\",\"type\":\"BasicTicker\"}},\"id\":\"0bda4000-f270-4bdc-9b78-0ecbf8b1ac2e\",\"type\":\"LinearAxis\"},{\"attributes\":{\"dimension\":1,\"plot\":{\"id\":\"be948680-89da-4985-86b1-35a1495e03b0\",\"subtype\":\"Figure\",\"type\":\"Plot\"},\"ticker\":{\"id\":\"7edefbe7-b123-4ad2-9b18-dca95207f396\",\"type\":\"BasicTicker\"}},\"id\":\"07b1e72d-bb64-459a-93c0-ddfdec6f2757\",\"type\":\"Grid\"},{\"attributes\":{\"bottom_units\":\"screen\",\"fill_alpha\":{\"value\":0.5},\"fill_color\":{\"value\":\"lightgrey\"},\"left_units\":\"screen\",\"level\":\"overlay\",\"line_alpha\":{\"value\":1.0},\"line_color\":{\"value\":\"black\"},\"line_dash\":[4,4],\"line_width\":{\"value\":2},\"plot\":null,\"render_mode\":\"css\",\"right_units\":\"screen\",\"top_units\":\"screen\"},\"id\":\"9440ae6b-4bab-443e-9741-f5e9e8ec6c7a\",\"type\":\"BoxAnnotation\"},{\"attributes\":{},\"id\":\"03fe70bf-2cc4-4779-8724-b6361c03608a\",\"type\":\"LinearScale\"},{\"attributes\":{},\"id\":\"5cef0d24-c0c3-4fce-bf8b-3276d3bd2bb3\",\"type\":\"ResetTool\"},{\"attributes\":{\"plot\":{\"id\":\"be948680-89da-4985-86b1-35a1495e03b0\",\"subtype\":\"Figure\",\"type\":\"Plot\"},\"ticker\":{\"id\":\"aa4e0142-2d56-48a3-b670-d3de9cfa30d3\",\"type\":\"BasicTicker\"}},\"id\":\"70a6d4a7-50a1-4c61-9d4c-9dca3be17e02\",\"type\":\"Grid\"},{\"attributes\":{},\"id\":\"6560826f-141f-4384-8222-797c95165b41\",\"type\":\"LinearScale\"},{\"attributes\":{\"text_alpha\":{\"value\":0.1},\"text_color\":{\"value\":\"black\"},\"x\":{\"field\":\"x\"},\"y\":{\"field\":\"y\"}},\"id\":\"09a501a8-eec6-4694-a2ad-9b779f2f9f49\",\"type\":\"Text\"},{\"attributes\":{\"active_drag\":\"auto\",\"active_inspect\":\"auto\",\"active_scroll\":\"auto\",\"active_tap\":\"auto\",\"tools\":[{\"id\":\"cea796ed-993b-43da-9654-89ebe6e78652\",\"type\":\"PanTool\"},{\"id\":\"0b824096-8253-4ca2-81b4-45a7868026d9\",\"type\":\"WheelZoomTool\"},{\"id\":\"484ace05-bbd8-4b93-bf63-415f75f67387\",\"type\":\"BoxZoomTool\"},{\"id\":\"cc61aaf0-2988-4ec1-8025-f26fd65c467f\",\"type\":\"SaveTool\"},{\"id\":\"5cef0d24-c0c3-4fce-bf8b-3276d3bd2bb3\",\"type\":\"ResetTool\"},{\"id\":\"4119764b-c3b8-47a4-9e62-843dd8e2c5d5\",\"type\":\"HelpTool\"}]},\"id\":\"6b7e27de-c5de-4c1f-aa8d-6b27ee290cf6\",\"type\":\"Toolbar\"},{\"attributes\":{},\"id\":\"7edefbe7-b123-4ad2-9b18-dca95207f396\",\"type\":\"BasicTicker\"},{\"attributes\":{},\"id\":\"0b824096-8253-4ca2-81b4-45a7868026d9\",\"type\":\"WheelZoomTool\"},{\"attributes\":{\"plot\":null,\"text\":\"\"},\"id\":\"faac9402-e2c7-462b-b56b-fe16ae81c45e\",\"type\":\"Title\"},{\"attributes\":{\"data_source\":{\"id\":\"be26282c-844a-43cc-aa7e-9d7bb05f8f3e\",\"type\":\"ColumnDataSource\"},\"glyph\":{\"id\":\"823d683c-b909-4288-88ba-f33760a864d0\",\"type\":\"Text\"},\"hover_glyph\":null,\"muted_glyph\":null,\"nonselection_glyph\":{\"id\":\"09a501a8-eec6-4694-a2ad-9b779f2f9f49\",\"type\":\"Text\"},\"selection_glyph\":null,\"view\":{\"id\":\"d28fd1b6-3dc0-4073-aa92-a98d66cc9044\",\"type\":\"CDSView\"}},\"id\":\"2990fb86-2bcc-4f9d-b9cb-4ee1b748c93f\",\"type\":\"GlyphRenderer\"},{\"attributes\":{\"below\":[{\"id\":\"fb05175d-9121-4e70-a148-b2a19eee29cc\",\"type\":\"LinearAxis\"}],\"left\":[{\"id\":\"0bda4000-f270-4bdc-9b78-0ecbf8b1ac2e\",\"type\":\"LinearAxis\"}],\"renderers\":[{\"id\":\"fb05175d-9121-4e70-a148-b2a19eee29cc\",\"type\":\"LinearAxis\"},{\"id\":\"70a6d4a7-50a1-4c61-9d4c-9dca3be17e02\",\"type\":\"Grid\"},{\"id\":\"0bda4000-f270-4bdc-9b78-0ecbf8b1ac2e\",\"type\":\"LinearAxis\"},{\"id\":\"07b1e72d-bb64-459a-93c0-ddfdec6f2757\",\"type\":\"Grid\"},{\"id\":\"9440ae6b-4bab-443e-9741-f5e9e8ec6c7a\",\"type\":\"BoxAnnotation\"},{\"id\":\"2990fb86-2bcc-4f9d-b9cb-4ee1b748c93f\",\"type\":\"GlyphRenderer\"}],\"title\":{\"id\":\"faac9402-e2c7-462b-b56b-fe16ae81c45e\",\"type\":\"Title\"},\"toolbar\":{\"id\":\"6b7e27de-c5de-4c1f-aa8d-6b27ee290cf6\",\"type\":\"Toolbar\"},\"x_range\":{\"id\":\"a65d05e8-d386-442f-9f55-18882804b661\",\"type\":\"DataRange1d\"},\"x_scale\":{\"id\":\"03fe70bf-2cc4-4779-8724-b6361c03608a\",\"type\":\"LinearScale\"},\"y_range\":{\"id\":\"a09fcae0-3347-4e52-95e6-5a1eb378a1ce\",\"type\":\"DataRange1d\"},\"y_scale\":{\"id\":\"6560826f-141f-4384-8222-797c95165b41\",\"type\":\"LinearScale\"}},\"id\":\"be948680-89da-4985-86b1-35a1495e03b0\",\"subtype\":\"Figure\",\"type\":\"Plot\"},{\"attributes\":{\"callback\":null},\"id\":\"a65d05e8-d386-442f-9f55-18882804b661\",\"type\":\"DataRange1d\"}],\"root_ids\":[\"be948680-89da-4985-86b1-35a1495e03b0\"]},\"title\":\"Bokeh Application\",\"version\":\"0.12.15\"}};\n",
       "  var render_items = [{\"docid\":\"b7f3ad9b-cb2c-4689-befa-5a1bc9abb12e\",\"elementid\":\"72629d23-294a-4e10-827d-8735374ec429\",\"modelid\":\"be948680-89da-4985-86b1-35a1495e03b0\"}];\n",
       "  root.Bokeh.embed.embed_items_notebook(docs_json, render_items);\n",
       "\n",
       "  }\n",
       "  if (root.Bokeh !== undefined) {\n",
       "    embed_document(root);\n",
       "  } else {\n",
       "    var attempts = 0;\n",
       "    var timer = setInterval(function(root) {\n",
       "      if (root.Bokeh !== undefined) {\n",
       "        embed_document(root);\n",
       "        clearInterval(timer);\n",
       "      }\n",
       "      attempts++;\n",
       "      if (attempts > 100) {\n",
       "        console.log(\"Bokeh: ERROR: Unable to run BokehJS code because BokehJS library is missing\")\n",
       "        clearInterval(timer);\n",
       "      }\n",
       "    }, 10, root)\n",
       "  }\n",
       "})(window);"
      ],
      "application/vnd.bokehjs_exec.v0+json": ""
     },
     "metadata": {
      "application/vnd.bokehjs_exec.v0+json": {
       "id": "be948680-89da-4985-86b1-35a1495e03b0"
      }
     },
     "output_type": "display_data"
    }
   ],
   "source": [
    "show(p)"
   ]
  },
  {
   "cell_type": "code",
   "execution_count": null,
   "metadata": {},
   "outputs": [],
   "source": []
  }
 ],
 "metadata": {
  "kernelspec": {
   "display_name": "Python 3",
   "language": "python",
   "name": "python3"
  },
  "language_info": {
   "codemirror_mode": {
    "name": "ipython",
    "version": 3
   },
   "file_extension": ".py",
   "mimetype": "text/x-python",
   "name": "python",
   "nbconvert_exporter": "python",
   "pygments_lexer": "ipython3",
   "version": "3.6.3"
  }
 },
 "nbformat": 4,
 "nbformat_minor": 2
}
