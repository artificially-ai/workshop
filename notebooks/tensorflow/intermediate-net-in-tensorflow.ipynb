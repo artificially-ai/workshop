{
 "cells": [
  {
   "cell_type": "markdown",
   "metadata": {},
   "source": [
    "# Intermediate Neural Net in Tensorflow"
   ]
  },
  {
   "cell_type": "markdown",
   "metadata": {},
   "source": [
    "#### Load Dependencies"
   ]
  },
  {
   "cell_type": "code",
   "execution_count": null,
   "metadata": {},
   "outputs": [],
   "source": [
    "import numpy as np\n",
    "import tensorflow as tf"
   ]
  },
  {
   "cell_type": "markdown",
   "metadata": {},
   "source": [
    "#### Initialise Seeds"
   ]
  },
  {
   "cell_type": "code",
   "execution_count": null,
   "metadata": {},
   "outputs": [],
   "source": [
    "np.random.seed(42)\n",
    "tf.set_random_seed(42)"
   ]
  },
  {
   "cell_type": "markdown",
   "metadata": {},
   "source": [
    "#### Load Data"
   ]
  },
  {
   "cell_type": "code",
   "execution_count": null,
   "metadata": {},
   "outputs": [],
   "source": [
    "from tensorflow.examples.tutorials.mnist import input_data\n",
    "mnist = input_data.read_data_sets(\"MNIST_data/\", one_hot = True)"
   ]
  },
  {
   "cell_type": "code",
   "execution_count": null,
   "metadata": {},
   "outputs": [],
   "source": [
    "lr = 0.1\n",
    "epochs = 10\n",
    "batch_size = 128\n",
    "weight_initializer = tf.contrib.layers.xavier_initializer()"
   ]
  },
  {
   "cell_type": "code",
   "execution_count": null,
   "metadata": {},
   "outputs": [],
   "source": [
    "n_input = 784\n",
    "n_dense_1 = 64\n",
    "n_dense_2 = 64\n",
    "n_classes = 10"
   ]
  },
  {
   "cell_type": "markdown",
   "metadata": {},
   "source": [
    "#### Define Placeholders"
   ]
  },
  {
   "cell_type": "code",
   "execution_count": null,
   "metadata": {},
   "outputs": [],
   "source": [
    "x = tf.placeholder(tf.float32, [None, n_input])\n",
    "y = tf.placeholder(tf.float32, [None, n_classes])"
   ]
  },
  {
   "cell_type": "markdown",
   "metadata": {},
   "source": [
    "#### Define Feedforward Linear"
   ]
  },
  {
   "cell_type": "code",
   "execution_count": null,
   "metadata": {},
   "outputs": [],
   "source": [
    "def feedfoward_linear(x, W, b):\n",
    "    z = tf.add(tf.matmul(x, W), b)\n",
    "    return z"
   ]
  },
  {
   "cell_type": "code",
   "execution_count": null,
   "metadata": {},
   "outputs": [],
   "source": [
    "def relu_activation(z):\n",
    "    return tf.nn.relu(z)"
   ]
  },
  {
   "cell_type": "markdown",
   "metadata": {},
   "source": [
    "#### Define Neural Network Architecture"
   ]
  },
  {
   "cell_type": "code",
   "execution_count": null,
   "metadata": {},
   "outputs": [],
   "source": [
    "def compute_feedforward(x, weights, biases):\n",
    "    # two dense hidden layers\n",
    "    dense_1 = relu_activation(feedfoward_linear(x, weights[\"W1\"], biases[\"b1\"]))\n",
    "    dense_2 = relu_activation(feedfoward_linear(dense_1, weights[\"W2\"], biases[\"b2\"]))\n",
    "    \n",
    "    # linear output layer\n",
    "    out_z = feedfoward_linear(dense_2, weights[\"W_out\"], biases[\"b_out\"])\n",
    "    return out_z"
   ]
  },
  {
   "cell_type": "markdown",
   "metadata": {},
   "source": [
    "#### Build Dictionaries"
   ]
  },
  {
   "cell_type": "code",
   "execution_count": null,
   "metadata": {},
   "outputs": [],
   "source": [
    "bias_dict = {\n",
    "    \"b1\" : tf.Variable(tf.zeros([n_dense_1])),\n",
    "    \"b2\" : tf.Variable(tf.zeros([n_dense_2])),\n",
    "    \"b_out\" : tf.Variable(tf.zeros([n_classes]))\n",
    "}\n",
    "\n",
    "weights_dict = {\n",
    "    \"W1\" : tf.get_variable(\"W1\", [n_input, n_dense_1], initializer = weight_initializer),\n",
    "    \"W2\" : tf.get_variable(\"W2\", [n_dense_1, n_dense_2], initializer = weight_initializer),\n",
    "    \"W_out\" : tf.get_variable(\"W_out\", [n_dense_2, n_classes], initializer = weight_initializer)\n",
    "}"
   ]
  },
  {
   "cell_type": "markdown",
   "metadata": {},
   "source": [
    "#### Build the Model"
   ]
  },
  {
   "cell_type": "code",
   "execution_count": null,
   "metadata": {},
   "outputs": [],
   "source": [
    "predictions = compute_feedforward(x, weights = weights_dict, biases = bias_dict)"
   ]
  },
  {
   "cell_type": "markdown",
   "metadata": {},
   "source": [
    "#### Define Loss and Optimizer"
   ]
  },
  {
   "cell_type": "code",
   "execution_count": null,
   "metadata": {},
   "outputs": [],
   "source": [
    "cost = tf.reduce_mean(tf.nn.softmax_cross_entropy_with_logits(logits = predictions, labels = y))\n",
    "optimizer = tf.train.GradientDescentOptimizer(learning_rate = lr).minimize(cost)"
   ]
  },
  {
   "cell_type": "markdown",
   "metadata": {},
   "source": [
    "#### Define  Evaluation Metrics"
   ]
  },
  {
   "cell_type": "code",
   "execution_count": null,
   "metadata": {},
   "outputs": [],
   "source": [
    "correct_predictions = tf.equal(tf.argmax(predictions, 1), tf.argmax(y, 1))\n",
    "accuracy_pct = tf.reduce_mean(tf.cast(correct_predictions, tf.float32)) * 100"
   ]
  },
  {
   "cell_type": "markdown",
   "metadata": {},
   "source": [
    "#### Initialisation Operation"
   ]
  },
  {
   "cell_type": "code",
   "execution_count": null,
   "metadata": {},
   "outputs": [],
   "source": [
    "initializer_op = tf.global_variables_initializer()"
   ]
  },
  {
   "cell_type": "markdown",
   "metadata": {},
   "source": [
    "#### Train the Network"
   ]
  },
  {
   "cell_type": "code",
   "execution_count": null,
   "metadata": {},
   "outputs": [],
   "source": [
    "with tf.Session() as session:\n",
    "#     saver = tf.train.Saver()\n",
    "    session.run(initializer_op)\n",
    "    \n",
    "    print(\"Training for\", epochs, \"epochs.\")\n",
    "    \n",
    "    # loop over epochs:\n",
    "    for i in range(epochs):\n",
    "        avg_cost = 0.0\n",
    "        avg_accuracy_pct = 0.0\n",
    "        \n",
    "        # loop over batches:\n",
    "        n_batches = int(mnist.train.num_examples / batch_size)\n",
    "        for j in range(n_batches):\n",
    "            batch_x, batch_y = mnist.train.next_batch(batch_size)\n",
    "            _, batch_cost, batch_acc = session.run([optimizer, cost, accuracy_pct],\n",
    "                                                   feed_dict = {x : batch_x, y : batch_y})\n",
    "            avg_cost += batch_cost / n_batches\n",
    "            avg_accuracy_pct += batch_acc / n_batches\n",
    "        \n",
    "        # output logs at end of each epoch of training:\\n\",\n",
    "        print(\"Epoch \", '%03d' % (i + 1),\n",
    "              \": cost = \", '{:.3f}'.format(avg_cost),\n",
    "              \", accuracy = \", '{:.2f}'.format(avg_accuracy_pct), \"%\",\n",
    "              sep='')\n",
    "\n",
    "    print(\"Training Complete. Testing Model.\\n\")\n",
    "\n",
    "    test_cost = cost.eval({x: mnist.test.images, y: mnist.test.labels})\n",
    "    test_accuracy_pct = accuracy_pct.eval({x: mnist.test.images, y: mnist.test.labels})\n",
    "\n",
    "    print(\"Test Cost:\", '{:.3f}'.format(test_cost))\n",
    "    print(\"Test Accuracy:\", '{:.2f}'.format(test_accuracy_pct), \"%\", sep=\"\")\n",
    "    \n",
    "#     saver.save(session, 'mnist_intermediate')"
   ]
  },
  {
   "cell_type": "code",
   "execution_count": null,
   "metadata": {},
   "outputs": [],
   "source": []
  }
 ],
 "metadata": {
  "kernelspec": {
   "display_name": "Python 3",
   "language": "python",
   "name": "python3"
  },
  "language_info": {
   "codemirror_mode": {
    "name": "ipython",
    "version": 3
   },
   "file_extension": ".py",
   "mimetype": "text/x-python",
   "name": "python",
   "nbconvert_exporter": "python",
   "pygments_lexer": "ipython3",
   "version": "3.6.3"
  }
 },
 "nbformat": 4,
 "nbformat_minor": 2
}
