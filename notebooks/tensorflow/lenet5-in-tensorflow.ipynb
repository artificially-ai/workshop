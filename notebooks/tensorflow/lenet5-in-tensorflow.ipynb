{
 "cells": [
  {
   "cell_type": "markdown",
   "metadata": {},
   "source": [
    "# LeNet-5 in Tensorflow"
   ]
  },
  {
   "cell_type": "markdown",
   "metadata": {},
   "source": [
    "#### Load Dependencies"
   ]
  },
  {
   "cell_type": "code",
   "execution_count": null,
   "metadata": {},
   "outputs": [],
   "source": [
    "import numpy as np\n",
    "import tensorflow as tf"
   ]
  },
  {
   "cell_type": "markdown",
   "metadata": {},
   "source": [
    "#### Initialise Seeds"
   ]
  },
  {
   "cell_type": "code",
   "execution_count": null,
   "metadata": {},
   "outputs": [],
   "source": [
    "np.random.seed(42)\n",
    "tf.set_random_seed(42)"
   ]
  },
  {
   "cell_type": "markdown",
   "metadata": {},
   "source": [
    "#### Load Data"
   ]
  },
  {
   "cell_type": "code",
   "execution_count": null,
   "metadata": {},
   "outputs": [],
   "source": [
    "from tensorflow.examples.tutorials.mnist import input_data\n",
    "mnist = input_data.read_data_sets(\"MNIST_data/\", one_hot = True)"
   ]
  },
  {
   "cell_type": "code",
   "execution_count": null,
   "metadata": {},
   "outputs": [],
   "source": [
    "epochs = 10\n",
    "batch_size = 128\n",
    "wt_init = tf.contrib.layers.xavier_initializer()\n",
    "display_progress = 40"
   ]
  },
  {
   "cell_type": "markdown",
   "metadata": {},
   "source": [
    "#### Set Parameneter for each Layer"
   ]
  },
  {
   "cell_type": "code",
   "execution_count": null,
   "metadata": {},
   "outputs": [],
   "source": [
    "# Input layer:\n",
    "n_input = 784\n",
    "\n",
    "# First conv. layer:\n",
    "n_conv_1 = 64\n",
    "k_conv_1 = 3\n",
    "\n",
    "# Scond conv. layer:\n",
    "n_conv_2 = 64\n",
    "k_conv_2 = 3\n",
    "\n",
    "# Max-Pooling layer:\n",
    "pool_size = 2\n",
    "mp_layer_dropout = 0.25\n",
    "\n",
    "# Dense layer:\n",
    "n_dense = 128\n",
    "dense_layer_dropout = 0.5\n",
    "\n",
    "# Output layer:\n",
    "n_classes = 10"
   ]
  },
  {
   "cell_type": "markdown",
   "metadata": {},
   "source": [
    "#### Define Placeholders"
   ]
  },
  {
   "cell_type": "code",
   "execution_count": null,
   "metadata": {},
   "outputs": [],
   "source": [
    "x = tf.placeholder(tf.float32, [None, n_input])\n",
    "y = tf.placeholder(tf.float32, [None, n_classes])"
   ]
  },
  {
   "cell_type": "markdown",
   "metadata": {},
   "source": [
    "#### Activation Function"
   ]
  },
  {
   "cell_type": "code",
   "execution_count": null,
   "metadata": {},
   "outputs": [],
   "source": [
    "def relu(z):\n",
    "    return tf.nn.relu(z)"
   ]
  },
  {
   "cell_type": "markdown",
   "metadata": {},
   "source": [
    "#### Define Feedforward Computation"
   ]
  },
  {
   "cell_type": "code",
   "execution_count": null,
   "metadata": {},
   "outputs": [],
   "source": [
    "def dense_layer(x, W, b):\n",
    "    z = tf.add(tf.matmul(x, W), b)\n",
    "    return relu(z)\n",
    "\n",
    "def conv2d_layer(x, W, b, stride_length = 1):\n",
    "    conv_W = tf.nn.conv2d(x, W, strides = [1, stride_length, stride_length, 1], padding = \"SAME\")\n",
    "    z = tf.nn.bias_add(conv_W, b)\n",
    "    return relu(z)\n",
    "\n",
    "def maxpooling2d_layer(x, p_size):\n",
    "    return tf.nn.max_pool(x,\n",
    "                         ksize = [1, p_size, p_size, 1],\n",
    "                         strides = [1, p_size, p_size, 1],\n",
    "                         padding = \"SAME\")"
   ]
  },
  {
   "cell_type": "markdown",
   "metadata": {},
   "source": [
    "#### Define Neural Network Architecture"
   ]
  },
  {
   "cell_type": "code",
   "execution_count": null,
   "metadata": {},
   "outputs": [],
   "source": [
    "def compute_feedforward(x, weights, biases, n_in, mp_psize, mp_dropout, dense_dropout):\n",
    "    # Reshape input data:\n",
    "    square_dimensions = int(np.sqrt(n_in))\n",
    "    square_x = tf.reshape(x, shape = [-1, square_dimensions, square_dimensions, 1])\n",
    "    \n",
    "    # Convolutional layers:\n",
    "    conv_1 = conv2d_layer(square_x, weights[\"W_c1\"], biases[\"b_c1\"])\n",
    "    conv_2 = conv2d_layer(conv_1, weights[\"W_c2\"], biases[\"b_c2\"])\n",
    "    pool_1 = maxpooling2d_layer(conv_2, mp_psize)\n",
    "    pool_1 = tf.nn.dropout(pool_1, 1 - mp_dropout)\n",
    "    \n",
    "    # Dense (fully connected) layer:\n",
    "    flat = tf.reshape(pool_1, shape = [-1, weights['W_d1'].get_shape().as_list()[0]])\n",
    "    dense_1 = dense_layer(flat, weights[\"W_d1\"], biases[\"b_d1\"])\n",
    "    dense_1 = tf.nn.dropout(dense_1, 1 - dense_dropout)\n",
    "    \n",
    "    # linear output layer\n",
    "    out_z = tf.add(tf.matmul(dense_1, weights[\"W_out\"]), biases[\"b_out\"])\n",
    "    return out_z"
   ]
  },
  {
   "cell_type": "markdown",
   "metadata": {},
   "source": [
    "#### Build Dictionaries"
   ]
  },
  {
   "cell_type": "code",
   "execution_count": null,
   "metadata": {},
   "outputs": [],
   "source": [
    "bias_dict = {\n",
    "    \"b_c1\" : tf.Variable(tf.zeros([n_conv_1])),\n",
    "    \"b_c2\" : tf.Variable(tf.zeros([n_conv_2])),\n",
    "    \"b_d1\" : tf.Variable(tf.zeros([n_dense])),\n",
    "    \"b_out\" : tf.Variable(tf.zeros([n_classes]))\n",
    "}\n",
    "\n",
    "full_square_length = np.sqrt(n_input)\n",
    "pooled_square_length = int(full_square_length / pool_size)\n",
    "dense_inputs = pooled_square_length ** 2 * n_conv_2\n",
    "\n",
    "weights_dict = {\n",
    "    \"W_c1\" : tf.get_variable(\"W_c1\", [k_conv_1, k_conv_1, 1, n_conv_1], initializer = wt_init),\n",
    "    \"W_c2\" : tf.get_variable(\"W_c2\", [k_conv_2, k_conv_2, n_conv_1, n_conv_2], initializer = wt_init),\n",
    "    \"W_d1\" : tf.get_variable(\"W_d1\", [dense_inputs, n_dense], initializer = wt_init),\n",
    "    \"W_out\" : tf.get_variable(\"W_out\", [n_dense, n_classes], initializer = wt_init)\n",
    "}"
   ]
  },
  {
   "cell_type": "markdown",
   "metadata": {},
   "source": [
    "#### Build the Model"
   ]
  },
  {
   "cell_type": "code",
   "execution_count": null,
   "metadata": {},
   "outputs": [],
   "source": [
    "predictions = compute_feedforward(x, weights_dict, bias_dict, n_input, pool_size,\n",
    "                                  mp_layer_dropout, dense_layer_dropout)"
   ]
  },
  {
   "cell_type": "markdown",
   "metadata": {},
   "source": [
    "#### Define Loss and Optimizer"
   ]
  },
  {
   "cell_type": "code",
   "execution_count": null,
   "metadata": {},
   "outputs": [],
   "source": [
    "cost = tf.reduce_mean(tf.nn.softmax_cross_entropy_with_logits(logits = predictions, labels = y))\n",
    "optimizer = tf.train.AdamOptimizer().minimize(cost)"
   ]
  },
  {
   "cell_type": "markdown",
   "metadata": {},
   "source": [
    "#### Define  Evaluation Metrics"
   ]
  },
  {
   "cell_type": "code",
   "execution_count": null,
   "metadata": {},
   "outputs": [],
   "source": [
    "correct_predictions = tf.equal(tf.argmax(predictions, 1), tf.argmax(y, 1))\n",
    "accuracy_pct = tf.reduce_mean(tf.cast(correct_predictions, tf.float32)) * 100"
   ]
  },
  {
   "cell_type": "markdown",
   "metadata": {},
   "source": [
    "#### Initialisation Operation"
   ]
  },
  {
   "cell_type": "code",
   "execution_count": null,
   "metadata": {},
   "outputs": [],
   "source": [
    "initializer_op = tf.global_variables_initializer()"
   ]
  },
  {
   "cell_type": "markdown",
   "metadata": {},
   "source": [
    "#### Train the Network"
   ]
  },
  {
   "cell_type": "code",
   "execution_count": null,
   "metadata": {},
   "outputs": [],
   "source": [
    "with tf.Session() as session:\n",
    "    session.run(initializer_op)\n",
    "    \n",
    "    print(\"Training for\", epochs, \"epochs.\")\n",
    "    \n",
    "    # loop over epochs:\n",
    "    for i in range(epochs):\n",
    "        avg_cost = 0.0\n",
    "        avg_accuracy_pct = 0.0\n",
    "        \n",
    "        # loop over batches:\n",
    "        n_batches = int(mnist.train.num_examples / batch_size)\n",
    "        for j in range(n_batches):\n",
    "            \n",
    "            # Check progress\n",
    "            if j % display_progress == 0:\n",
    "                print(\"Step \", j + 1, \" of \", n_batches, \" in epoch \", i + 1, \".\", sep = \"\")\n",
    "            \n",
    "            batch_x, batch_y = mnist.train.next_batch(batch_size)\n",
    "            _, batch_cost, batch_acc = session.run([optimizer, cost, accuracy_pct],\n",
    "                                                   feed_dict = {x : batch_x, y : batch_y})\n",
    "            avg_cost += batch_cost / n_batches\n",
    "            avg_accuracy_pct += batch_acc / n_batches\n",
    "        \n",
    "        # output logs at end of each epoch of training:\\n\",\n",
    "        print(\"Epoch \", '%03d' % (i + 1),\n",
    "              \": cost = \", '{:.3f}'.format(avg_cost),\n",
    "              \", accuracy = \", '{:.2f}'.format(avg_accuracy_pct), \"%\",\n",
    "              sep='')\n",
    "\n",
    "    print(\"Training Complete. Testing Model.\\n\")\n",
    "\n",
    "    test_cost = cost.eval({x: mnist.test.images, y: mnist.test.labels})\n",
    "    test_accuracy_pct = accuracy_pct.eval({x: mnist.test.images, y: mnist.test.labels})\n",
    "\n",
    "    print(\"Test Cost:\", '{:.3f}'.format(test_cost))\n",
    "    print(\"Test Accuracy:\", '{:.2f}'.format(test_accuracy_pct), \"%\", sep=\"\")"
   ]
  },
  {
   "cell_type": "code",
   "execution_count": null,
   "metadata": {},
   "outputs": [],
   "source": []
  }
 ],
 "metadata": {
  "kernelspec": {
   "display_name": "Python 3",
   "language": "python",
   "name": "python3"
  },
  "language_info": {
   "codemirror_mode": {
    "name": "ipython",
    "version": 3
   },
   "file_extension": ".py",
   "mimetype": "text/x-python",
   "name": "python",
   "nbconvert_exporter": "python",
   "pygments_lexer": "ipython3",
   "version": "3.6.3"
  }
 },
 "nbformat": 4,
 "nbformat_minor": 2
}
