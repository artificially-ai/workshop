{
 "cells": [
  {
   "cell_type": "markdown",
   "metadata": {},
   "source": [
    "# Convolutional Neural Network for Sentiment Classification"
   ]
  },
  {
   "cell_type": "markdown",
   "metadata": {},
   "source": [
    "This notebook comprises the network architecture used for senciment classification using as input human faces."
   ]
  },
  {
   "cell_type": "markdown",
   "metadata": {},
   "source": [
    "#### Import Dependencies"
   ]
  },
  {
   "cell_type": "code",
   "execution_count": 1,
   "metadata": {},
   "outputs": [],
   "source": [
    "import numpy as np\n",
    "np.random.seed(42)"
   ]
  },
  {
   "cell_type": "code",
   "execution_count": 2,
   "metadata": {},
   "outputs": [
    {
     "name": "stderr",
     "output_type": "stream",
     "text": [
      "/opt/conda/lib/python3.6/site-packages/h5py/__init__.py:36: FutureWarning: Conversion of the second argument of issubdtype from `float` to `np.floating` is deprecated. In future, it will be treated as `np.float64 == np.dtype(float).type`.\n",
      "  from ._conv import register_converters as _register_converters\n",
      "Using TensorFlow backend.\n"
     ]
    }
   ],
   "source": [
    "import os\n",
    "import keras\n",
    "from keras.models import Sequential\n",
    "from keras.layers import Activation, Dense, Dropout, Conv2D, MaxPooling2D, AveragePooling2D, GlobalAveragePooling2D, Flatten, BatchNormalization\n",
    "from keras.callbacks import TensorBoard, ModelCheckpoint, EarlyStopping\n",
    "\n",
    "from keras.preprocessing.image import ImageDataGenerator\n",
    "\n",
    "from keras_contrib.layers.advanced_activations import SineReLU\n",
    "\n",
    "from sklearn.model_selection import train_test_split\n",
    "\n",
    "import pandas as pd\n",
    "\n",
    "import matplotlib.pyplot as plt\n",
    "%matplotlib inline"
   ]
  },
  {
   "cell_type": "markdown",
   "metadata": {},
   "source": [
    "#### Hyper-Parameters"
   ]
  },
  {
   "cell_type": "code",
   "execution_count": 3,
   "metadata": {},
   "outputs": [],
   "source": [
    "num_classes = 7\n",
    "\n",
    "image_size=(48, 48)\n",
    "input_shape = (48, 48, 1)\n",
    "\n",
    "labels = {0:'angry',1:'disgust',2:'fear',3:'happy', 4:'sad',5:'surprise',6:'neutral'}\n",
    "\n",
    "batch_size = 128\n",
    "num_epochs = 5\n",
    "validation_split = .1\n",
    "test_split = .1\n",
    "patience = 10\n",
    "dropout = .2\n",
    "\n",
    "e_param_cnn = 0.0025\n",
    "e_param_dense = 0.0083\n",
    "\n",
    "dataset_path = '../../dataset/fer2013.csv'\n",
    "model_output = '../models/best_model_weights_BETA.hdf5'"
   ]
  },
  {
   "cell_type": "markdown",
   "metadata": {},
   "source": [
    "#### Load Dataset"
   ]
  },
  {
   "cell_type": "code",
   "execution_count": 4,
   "metadata": {},
   "outputs": [],
   "source": [
    "data = pd.read_csv(dataset_path)"
   ]
  },
  {
   "cell_type": "code",
   "execution_count": 5,
   "metadata": {},
   "outputs": [],
   "source": [
    "def load_dataset():\n",
    "    pixels = data['pixels']\n",
    "    \n",
    "    faces = []\n",
    "    for pixel_sequence in pixels:\n",
    "        face = [int(pixel) for pixel in pixel_sequence.split(' ')]\n",
    "        face = np.asarray(face).reshape(48, 48)\n",
    "        faces.append(face.astype('float32'))\n",
    "\n",
    "    faces = np.asarray(faces)\n",
    "    emotions = keras.utils.to_categorical(data['emotion'], num_classes)\n",
    "    \n",
    "    return faces, emotions"
   ]
  },
  {
   "cell_type": "markdown",
   "metadata": {},
   "source": [
    "#### Pre-Process Dataset"
   ]
  },
  {
   "cell_type": "code",
   "execution_count": 6,
   "metadata": {},
   "outputs": [],
   "source": [
    "faces, emotions = load_dataset()\n",
    "\n",
    "train_faces, val_faces, train_emotions, val_emotions = train_test_split(faces, emotions, test_size=validation_split)\n",
    "train_faces, test_faces, train_emotions, test_emotions = train_test_split(train_faces, train_emotions, test_size=test_split)\n",
    "\n",
    "train_faces = train_faces.reshape(-1, 48, 48, 1)\n",
    "val_faces = val_faces.reshape(-1, 48, 48, 1)\n",
    "test_faces = test_faces.reshape(-1, 48, 48, 1)\n",
    "\n",
    "train_faces = train_faces.astype(\"float32\")/255.\n",
    "val_faces = val_faces.astype(\"float32\")/255.\n",
    "test_faces = test_faces.astype(\"float32\")/255."
   ]
  },
  {
   "cell_type": "markdown",
   "metadata": {},
   "source": [
    "#### Network Architecture"
   ]
  },
  {
   "cell_type": "code",
   "execution_count": 7,
   "metadata": {},
   "outputs": [
    {
     "name": "stdout",
     "output_type": "stream",
     "text": [
      "_________________________________________________________________\n",
      "Layer (type)                 Output Shape              Param #   \n",
      "=================================================================\n",
      "conv2d_1 (Conv2D)            (None, 48, 48, 16)        800       \n",
      "_________________________________________________________________\n",
      "conv2d_2 (Conv2D)            (None, 48, 48, 16)        12560     \n",
      "_________________________________________________________________\n",
      "sine_re_lu_1 (SineReLU)      (None, 48, 48, 16)        0         \n",
      "_________________________________________________________________\n",
      "max_pooling2d_1 (MaxPooling2 (None, 24, 24, 16)        0         \n",
      "_________________________________________________________________\n",
      "dropout_1 (Dropout)          (None, 24, 24, 16)        0         \n",
      "_________________________________________________________________\n",
      "conv2d_3 (Conv2D)            (None, 24, 24, 32)        12832     \n",
      "_________________________________________________________________\n",
      "conv2d_4 (Conv2D)            (None, 24, 24, 32)        25632     \n",
      "_________________________________________________________________\n",
      "sine_re_lu_2 (SineReLU)      (None, 24, 24, 32)        0         \n",
      "_________________________________________________________________\n",
      "max_pooling2d_2 (MaxPooling2 (None, 12, 12, 32)        0         \n",
      "_________________________________________________________________\n",
      "dropout_2 (Dropout)          (None, 12, 12, 32)        0         \n",
      "_________________________________________________________________\n",
      "conv2d_5 (Conv2D)            (None, 12, 12, 64)        18496     \n",
      "_________________________________________________________________\n",
      "conv2d_6 (Conv2D)            (None, 12, 12, 64)        36928     \n",
      "_________________________________________________________________\n",
      "sine_re_lu_3 (SineReLU)      (None, 12, 12, 64)        0         \n",
      "_________________________________________________________________\n",
      "max_pooling2d_3 (MaxPooling2 (None, 6, 6, 64)          0         \n",
      "_________________________________________________________________\n",
      "dropout_3 (Dropout)          (None, 6, 6, 64)          0         \n",
      "_________________________________________________________________\n",
      "conv2d_7 (Conv2D)            (None, 6, 6, 128)         73856     \n",
      "_________________________________________________________________\n",
      "conv2d_8 (Conv2D)            (None, 6, 6, 128)         147584    \n",
      "_________________________________________________________________\n",
      "sine_re_lu_4 (SineReLU)      (None, 6, 6, 128)         0         \n",
      "_________________________________________________________________\n",
      "max_pooling2d_4 (MaxPooling2 (None, 3, 3, 128)         0         \n",
      "_________________________________________________________________\n",
      "dropout_4 (Dropout)          (None, 3, 3, 128)         0         \n",
      "_________________________________________________________________\n",
      "conv2d_9 (Conv2D)            (None, 3, 3, 256)         295168    \n",
      "_________________________________________________________________\n",
      "sine_re_lu_5 (SineReLU)      (None, 3, 3, 256)         0         \n",
      "_________________________________________________________________\n",
      "conv2d_10 (Conv2D)           (None, 3, 3, 7)           16135     \n",
      "_________________________________________________________________\n",
      "sine_re_lu_6 (SineReLU)      (None, 3, 3, 7)           0         \n",
      "_________________________________________________________________\n",
      "flatten_1 (Flatten)          (None, 63)                0         \n",
      "_________________________________________________________________\n",
      "dense_1 (Dense)              (None, 512)               32768     \n",
      "_________________________________________________________________\n",
      "sine_re_lu_7 (SineReLU)      (None, 512)               0         \n",
      "_________________________________________________________________\n",
      "dropout_5 (Dropout)          (None, 512)               0         \n",
      "_________________________________________________________________\n",
      "dense_2 (Dense)              (None, 7)                 3591      \n",
      "=================================================================\n",
      "Total params: 676,350\n",
      "Trainable params: 676,350\n",
      "Non-trainable params: 0\n",
      "_________________________________________________________________\n"
     ]
    }
   ],
   "source": [
    "model = Sequential()\n",
    "model.add(Conv2D(filters=16, kernel_size=(7, 7), padding='same', input_shape=input_shape))\n",
    "# model.add(BatchNormalization())\n",
    "model.add(Conv2D(filters=16, kernel_size=(7, 7), padding='same'))\n",
    "# model.add(BatchNormalization())\n",
    "model.add(SineReLU(e_param_cnn))\n",
    "model.add(MaxPooling2D(pool_size=(2, 2), padding='same'))\n",
    "model.add(Dropout(dropout))\n",
    "\n",
    "model.add(Conv2D(filters=32, kernel_size=(5, 5), padding='same'))\n",
    "# model.add(BatchNormalization())\n",
    "model.add(Conv2D(filters=32, kernel_size=(5, 5), padding='same'))\n",
    "# model.add(BatchNormalization())\n",
    "model.add(SineReLU(e_param_cnn))\n",
    "model.add(MaxPooling2D(pool_size=(2, 2), padding='same'))\n",
    "model.add(Dropout(dropout))\n",
    "\n",
    "model.add(Conv2D(filters=64, kernel_size=(3, 3), padding='same'))\n",
    "# model.add(BatchNormalization())\n",
    "model.add(Conv2D(filters=64, kernel_size=(3, 3), padding='same'))\n",
    "# model.add(BatchNormalization())\n",
    "model.add(SineReLU(e_param_cnn))\n",
    "model.add(MaxPooling2D(pool_size=(2, 2), padding='same'))\n",
    "model.add(Dropout(dropout))\n",
    "\n",
    "model.add(Conv2D(filters=128, kernel_size=(3, 3), padding='same'))\n",
    "# model.add(BatchNormalization())\n",
    "model.add(Conv2D(filters=128, kernel_size=(3, 3), padding='same'))\n",
    "# model.add(BatchNormalization())\n",
    "model.add(SineReLU(e_param_cnn))\n",
    "model.add(MaxPooling2D(pool_size=(2, 2), padding='same'))\n",
    "model.add(Dropout(dropout))\n",
    "\n",
    "model.add(Conv2D(filters=256, kernel_size=(3, 3), padding='same'))\n",
    "# model.add(BatchNormalization())\n",
    "model.add(SineReLU(e_param_cnn))\n",
    "model.add(Conv2D(filters=num_classes, kernel_size=(3, 3), padding='same'))\n",
    "model.add(SineReLU(e_param_cnn))\n",
    "\n",
    "model.add(Flatten())\n",
    "model.add(Dense(512))\n",
    "model.add(SineReLU(e_param_dense))\n",
    "model.add(Dropout(dropout))\n",
    "\n",
    "model.add(Dense(num_classes, activation = \"softmax\"))\n",
    "\n",
    "model.summary()\n"
   ]
  },
  {
   "cell_type": "markdown",
   "metadata": {},
   "source": [
    "#### Define Callbacks"
   ]
  },
  {
   "cell_type": "code",
   "execution_count": 8,
   "metadata": {},
   "outputs": [],
   "source": [
    "modelCheckpoint = ModelCheckpoint(monitor='val_acc', filepath=model_output,\n",
    "                                               save_best_only=True, mode='max')\n",
    "earlyStopping = EarlyStopping(monitor='val_acc', mode='max', patience=patience)\n",
    "\n",
    "\n",
    "if not os.path.exists('../models'):\n",
    "    os.makedirs('../models')\n",
    "\n",
    "tensorboard = TensorBoard(\"logs/mood-classification-I\")"
   ]
  },
  {
   "cell_type": "markdown",
   "metadata": {},
   "source": [
    "#### Data Augmnetation"
   ]
  },
  {
   "cell_type": "code",
   "execution_count": 9,
   "metadata": {},
   "outputs": [],
   "source": [
    "train_datagen = ImageDataGenerator(zoom_range = 0.1,\n",
    "                            height_shift_range = 0.1,\n",
    "                            width_shift_range = 0.1,\n",
    "                            rotation_range = 10)\n",
    "\n",
    "test_datagen = ImageDataGenerator(zoom_range = 0.1,\n",
    "                            height_shift_range = 0.1,\n",
    "                            width_shift_range = 0.1,\n",
    "                            rotation_range = 10)\n",
    "\n",
    "train_generator = train_datagen.flow(train_faces, train_emotions, batch_size = batch_size)\n",
    "\n",
    "validation_generator = test_datagen.flow(val_faces, val_emotions, batch_size = batch_size)"
   ]
  },
  {
   "cell_type": "markdown",
   "metadata": {},
   "source": [
    "#### Compile Model"
   ]
  },
  {
   "cell_type": "code",
   "execution_count": 10,
   "metadata": {},
   "outputs": [],
   "source": [
    "model.compile(loss = 'categorical_crossentropy', optimizer = 'adam', metrics = ['accuracy'])"
   ]
  },
  {
   "cell_type": "code",
   "execution_count": 11,
   "metadata": {},
   "outputs": [
    {
     "name": "stdout",
     "output_type": "stream",
     "text": [
      "Train on 29068 samples, validate on 3589 samples\n",
      "Epoch 1/5\n",
      "29068/29068 [==============================] - 352s 12ms/step - loss: 1.7930 - acc: 0.2636 - val_loss: 1.6899 - val_acc: 0.3182\n",
      "Epoch 2/5\n",
      "29068/29068 [==============================] - 345s 12ms/step - loss: 1.6114 - acc: 0.3615 - val_loss: 1.5037 - val_acc: 0.4160\n",
      "Epoch 3/5\n",
      "29068/29068 [==============================] - 343s 12ms/step - loss: 1.4853 - acc: 0.4205 - val_loss: 1.4588 - val_acc: 0.4090\n",
      "Epoch 4/5\n",
      "29068/29068 [==============================] - 343s 12ms/step - loss: 1.4367 - acc: 0.4390 - val_loss: 1.3986 - val_acc: 0.4661\n",
      "Epoch 5/5\n",
      "29068/29068 [==============================] - 354s 12ms/step - loss: 1.3975 - acc: 0.4548 - val_loss: 1.3540 - val_acc: 0.4767\n"
     ]
    }
   ],
   "source": [
    "history = model.fit(train_faces, train_emotions, batch_size = 128, epochs = 5, verbose = 1,\n",
    "          validation_data = (val_faces, val_emotions),\n",
    "          callbacks=[modelCheckpoint, earlyStopping, tensorboard])"
   ]
  },
  {
   "cell_type": "markdown",
   "metadata": {},
   "source": [
    "#### Predict"
   ]
  },
  {
   "cell_type": "code",
   "execution_count": 12,
   "metadata": {},
   "outputs": [
    {
     "data": {
      "text/plain": [
       "0.14352612260677786"
      ]
     },
     "execution_count": 12,
     "metadata": {},
     "output_type": "execute_result"
    }
   ],
   "source": [
    "saved_model = keras.models.load_model(model_output)\n",
    "predictions = saved_model.predict_classes(test_faces, verbose = 2)\n",
    "np.std(history.history['loss'])"
   ]
  },
  {
   "cell_type": "markdown",
   "metadata": {},
   "source": [
    "#### Test a Single face"
   ]
  },
  {
   "cell_type": "code",
   "execution_count": 19,
   "metadata": {},
   "outputs": [
    {
     "name": "stdout",
     "output_type": "stream",
     "text": [
      "1/1 [==============================] - 0s 8ms/step\n",
      "happy\n"
     ]
    }
   ],
   "source": [
    "reshaped_face = np.reshape(test_faces[239], (-1, 48, 48, 1))\n",
    "face = saved_model.predict_classes(reshaped_face, verbose = 1)\n",
    "print(labels[face[0]])"
   ]
  },
  {
   "cell_type": "markdown",
   "metadata": {},
   "source": [
    "#### Plot Image"
   ]
  },
  {
   "cell_type": "code",
   "execution_count": 18,
   "metadata": {},
   "outputs": [
    {
     "data": {
      "text/plain": [
       "<matplotlib.image.AxesImage at 0x7fabae98b630>"
      ]
     },
     "execution_count": 18,
     "metadata": {},
     "output_type": "execute_result"
    },
    {
     "data": {
      "image/png": "[encoded data removed]",
      "text/plain": [
       "<matplotlib.figure.Figure at 0x7fabb30094a8>"
      ]
     },
     "metadata": {},
     "output_type": "display_data"
    }
   ],
   "source": [
    "plt.imshow(test_faces[239].reshape(48,48))"
   ]
  },
  {
   "cell_type": "markdown",
   "metadata": {},
   "source": [
    "#### Final Accuracy"
   ]
  },
  {
   "cell_type": "code",
   "execution_count": 15,
   "metadata": {},
   "outputs": [
    {
     "name": "stdout",
     "output_type": "stream",
     "text": [
      "3230/3230 [==============================] - 16s 5ms/step\n",
      "Final loss: 1.3474, final accuracy: 0.4783\n"
     ]
    }
   ],
   "source": [
    "final_loss, final_acc = saved_model.evaluate(test_faces, test_emotions, verbose = 1)\n",
    "print(\"Final loss: {0:.4f}, final accuracy: {1:.4f}\".format(final_loss, final_acc))"
   ]
  },
  {
   "cell_type": "code",
   "execution_count": null,
   "metadata": {},
   "outputs": [],
   "source": []
  }
 ],
 "metadata": {
  "kernelspec": {
   "display_name": "Python 3",
   "language": "python",
   "name": "python3"
  },
  "language_info": {
   "codemirror_mode": {
    "name": "ipython",
    "version": 3
   },
   "file_extension": ".py",
   "mimetype": "text/x-python",
   "name": "python",
   "nbconvert_exporter": "python",
   "pygments_lexer": "ipython3",
   "version": "3.6.3"
  }
 },
 "nbformat": 4,
 "nbformat_minor": 2
}
